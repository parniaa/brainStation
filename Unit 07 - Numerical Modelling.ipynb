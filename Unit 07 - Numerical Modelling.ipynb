{
 "cells": [
  {
   "cell_type": "markdown",
   "metadata": {},
   "source": [
    "# Numerical Modelling <img style = \"position:absolute; TOP:0px; LEFT:840px; WIDTH:250px; HEIGHT:65px\"  src =\"https://drive.google.com/uc?export=view&id=1EnB0x-fdqMp6I5iMoEBBEuxB_s7AmE2k\" />"
   ]
  },
  {
   "cell_type": "markdown",
   "metadata": {},
   "source": [
    "\n",
    "In this unit, we're going to learn about the concept of *modeling* data in a way that allows us to make predictions beyond the data set itself.  The main focus of this unit will be *regression* models for numerical data, though we will also use spline interpolation.  We'll first have a look at an example to motivate the goals in this unit. \n",
    "\n",
    "In addition to our normal package import, we'll be importing a few other packages as we go."
   ]
  },
  {
   "cell_type": "code",
   "execution_count": 1,
   "metadata": {},
   "outputs": [],
   "source": [
    "import pandas as pd\n",
    "import numpy as np\n",
    "\n",
    "import matplotlib.pyplot as plt"
   ]
  },
  {
   "cell_type": "markdown",
   "metadata": {},
   "source": [
    "## Modelling Cooling\n",
    "\n",
    "Suppose we made ourselves a cup of tea, and sat down with it and a thermometer.  Right as we sit down, we note that the temperature of the tea is 85 degrees Celsius.  Thirty seconds later, it's 80.3.  We continue measuring and find that the temperature values are 80.3, 75.4, 68.1, 64.6, 56.1, 55.6, and 51 degrees at 1, 2, 2.5, 3.75, 4, and 5 minutes respectively.  We noted that the ambient temperature of the room is 18 degrees.  Putting this all into a dataframe:"
   ]
  },
  {
   "cell_type": "code",
   "execution_count": 2,
   "metadata": {},
   "outputs": [
    {
     "data": {
      "text/html": [
       "<div>\n",
       "<style scoped>\n",
       "    .dataframe tbody tr th:only-of-type {\n",
       "        vertical-align: middle;\n",
       "    }\n",
       "\n",
       "    .dataframe tbody tr th {\n",
       "        vertical-align: top;\n",
       "    }\n",
       "\n",
       "    .dataframe thead th {\n",
       "        text-align: right;\n",
       "    }\n",
       "</style>\n",
       "<table border=\"1\" class=\"dataframe\">\n",
       "  <thead>\n",
       "    <tr style=\"text-align: right;\">\n",
       "      <th></th>\n",
       "      <th>Temp</th>\n",
       "      <th>Time</th>\n",
       "    </tr>\n",
       "  </thead>\n",
       "  <tbody>\n",
       "    <tr>\n",
       "      <th>0</th>\n",
       "      <td>85.0</td>\n",
       "      <td>0.00</td>\n",
       "    </tr>\n",
       "    <tr>\n",
       "      <th>1</th>\n",
       "      <td>80.3</td>\n",
       "      <td>0.50</td>\n",
       "    </tr>\n",
       "    <tr>\n",
       "      <th>2</th>\n",
       "      <td>75.4</td>\n",
       "      <td>1.00</td>\n",
       "    </tr>\n",
       "    <tr>\n",
       "      <th>3</th>\n",
       "      <td>68.0</td>\n",
       "      <td>2.00</td>\n",
       "    </tr>\n",
       "    <tr>\n",
       "      <th>4</th>\n",
       "      <td>64.6</td>\n",
       "      <td>2.50</td>\n",
       "    </tr>\n",
       "    <tr>\n",
       "      <th>5</th>\n",
       "      <td>56.1</td>\n",
       "      <td>3.75</td>\n",
       "    </tr>\n",
       "    <tr>\n",
       "      <th>6</th>\n",
       "      <td>55.6</td>\n",
       "      <td>4.00</td>\n",
       "    </tr>\n",
       "    <tr>\n",
       "      <th>7</th>\n",
       "      <td>51.0</td>\n",
       "      <td>5.00</td>\n",
       "    </tr>\n",
       "  </tbody>\n",
       "</table>\n",
       "</div>"
      ],
      "text/plain": [
       "   Temp  Time\n",
       "0  85.0  0.00\n",
       "1  80.3  0.50\n",
       "2  75.4  1.00\n",
       "3  68.0  2.00\n",
       "4  64.6  2.50\n",
       "5  56.1  3.75\n",
       "6  55.6  4.00\n",
       "7  51.0  5.00"
      ]
     },
     "execution_count": 2,
     "metadata": {},
     "output_type": "execute_result"
    }
   ],
   "source": [
    "t = pd.DataFrame({'Temp':[85.0, 80.3, 75.4, 68.0, 64.6, 56.1, 55.6, 51.0], \n",
    "                  'Time': [0,0.5,1,2,2.5,3.75,4,5]})\n",
    "t"
   ]
  },
  {
   "cell_type": "markdown",
   "metadata": {},
   "source": [
    "If we were to plot this data, it would look like this:"
   ]
  },
  {
   "cell_type": "code",
   "execution_count": 3,
   "metadata": {},
   "outputs": [
    {
     "data": {
      "text/plain": [
       "<matplotlib.collections.PathCollection at 0x7ffe70b48a50>"
      ]
     },
     "execution_count": 3,
     "metadata": {},
     "output_type": "execute_result"
    },
    {
     "data": {
      "image/png": "[encoded data removed]",
      "text/plain": [
       "<Figure size 432x288 with 1 Axes>"
      ]
     },
     "metadata": {
      "needs_background": "light"
     },
     "output_type": "display_data"
    }
   ],
   "source": [
    "plt.scatter(t[\"Time\"], t[\"Temp\"])"
   ]
  },
  {
   "cell_type": "markdown",
   "metadata": {},
   "source": [
    "Now, what if we wanted to know what the temperature of the tea was going to be 10 minutes from when we started, without measuring it?  Or what if we wanted to know what the temperature was at 1.5 minutes from when we started, between two data points?  Our best bet would be to take the data we have, and fit a *mathematical model* to it, i.e., create a function which takes time as an input and outputs a temperature, and which closely fits the data we have.  This way, we could input any time we wanted and have the model tell us what the temperature will be (within some level of error).  And, if our function is \"nice\" enough, we could potentially take a given temperature and solve for what time that temperature occurs.\n",
    "\n",
    "In essence, we'll have a way of representing the underlying phenomena we were measuring with our data, and will be able to gain insight beyond the scope of the individual data points we collected."
   ]
  },
  {
   "cell_type": "markdown",
   "metadata": {},
   "source": [
    "Choosing a modelling technique depends on a number of things, including the type and shape of the data, complexity of the model, etc.  We'll be looking at a number of common modeling techniques shortly. Luckily for us, there is already a model that describes the cooling of objects (and is likely familiar to anyone who has taken first-year calculus).  **Newton's Law of Cooling** states that the temperature $T$ at any time $t$ for an object of initial temperature $T_0$ sitting in an room of ambient temperature $\\tau$ is given by:\n",
    "\n",
    "$$ T(t) = \\tau + (T_0-\\tau)e^{-kt}. $$\n",
    "\n",
    "Here $k$ is a constant that depends on the particular objects involved, and has units of $time^{-1}$.  To solve for $k$, we would need two data points:  $T_0$, and the temperature $T_i$ at some other time $t_i$.  For our particular example, the value of $k\\cong -\\frac{1}{2}\\log(\\frac{50}{67})$, and so the equation becomes:\n",
    "\n",
    "$$ T(t) = 18 + (85 - 18)e^{\\frac{t}{2}\\log(\\frac{50}{67})} = 18 + 67\\sqrt{\\left(\\frac{50}{67}\\right)^t} $$"
   ]
  },
  {
   "cell_type": "markdown",
   "metadata": {},
   "source": [
    "We can define a Python function for the model:"
   ]
  },
  {
   "cell_type": "code",
   "execution_count": 4,
   "metadata": {},
   "outputs": [],
   "source": [
    "def cooling1(t):\n",
    "    return 18+67*((50/67)**(t/2))"
   ]
  },
  {
   "cell_type": "markdown",
   "metadata": {},
   "source": [
    "We've represented the change in temperatures as a fairly simple function, which allows us to *given some initial conditions* input whatever time we'd like to determine the temperature.  If we plot the function (with our particular value of $k$) against the data above, we have:"
   ]
  },
  {
   "cell_type": "code",
   "execution_count": 5,
   "metadata": {},
   "outputs": [
    {
     "data": {
      "image/png": "[encoded data removed]",
      "text/plain": [
       "<Figure size 432x288 with 1 Axes>"
      ]
     },
     "metadata": {
      "needs_background": "light"
     },
     "output_type": "display_data"
    }
   ],
   "source": [
    "x = np.arange(0,6,0.01)\n",
    "plt.plot(x, cooling1(x),color='blue');\n",
    "plt.scatter(t[\"Time\"],t['Temp'],color='red');"
   ]
  },
  {
   "cell_type": "markdown",
   "metadata": {},
   "source": [
    "As we can see, the model fits the data very well!  (There are various methods for *validating* a model on a data set, which we will see in a later unit.)\n",
    "\n",
    "If we wanted to find out what the temperature was at 1.5 minutes (between two of our observations), we could compute:"
   ]
  },
  {
   "cell_type": "code",
   "execution_count": 6,
   "metadata": {},
   "outputs": [
    {
     "data": {
      "text/plain": [
       "71.795531651779"
      ]
     },
     "execution_count": 6,
     "metadata": {},
     "output_type": "execute_result"
    }
   ],
   "source": [
    "cooling1(1.5)"
   ]
  },
  {
   "cell_type": "markdown",
   "metadata": {},
   "source": [
    "If we wanted to make the model a little more in line with the measurements we took, we could round to one decimal place:"
   ]
  },
  {
   "cell_type": "code",
   "execution_count": 7,
   "metadata": {},
   "outputs": [
    {
     "data": {
      "text/plain": [
       "71.8"
      ]
     },
     "execution_count": 7,
     "metadata": {},
     "output_type": "execute_result"
    }
   ],
   "source": [
    "round(cooling1(1.5),1)"
   ]
  },
  {
   "cell_type": "markdown",
   "metadata": {},
   "source": [
    "And if we wanted to know what the temperature would be 10 minutes after we sat down:"
   ]
  },
  {
   "cell_type": "code",
   "execution_count": 8,
   "metadata": {},
   "outputs": [
    {
     "data": {
      "text/plain": [
       "33.5"
      ]
     },
     "execution_count": 8,
     "metadata": {},
     "output_type": "execute_result"
    }
   ],
   "source": [
    "round(cooling1(10),1)"
   ]
  },
  {
   "cell_type": "markdown",
   "metadata": {},
   "source": [
    "What would the temperature be after an hour?"
   ]
  },
  {
   "cell_type": "code",
   "execution_count": 9,
   "metadata": {},
   "outputs": [
    {
     "data": {
      "text/plain": [
       "18.0"
      ]
     },
     "execution_count": 9,
     "metadata": {},
     "output_type": "execute_result"
    }
   ],
   "source": [
    "round(cooling1(60),1)"
   ]
  },
  {
   "cell_type": "markdown",
   "metadata": {},
   "source": [
    "So by that point, the tea has cooled to the point where it is room temperature."
   ]
  },
  {
   "cell_type": "markdown",
   "metadata": {},
   "source": [
    "## Linear Regression\n",
    "\n",
    "One of the simplest, and also most commonly used methods for modelling a data set is *linear regression*.  This method presumes that the relationship of the dependent variables of your data set to the independent variables is linear.  In the two-dimensional case, where the dependent variable $y$ and the independent variable $x$ are scalars, a linear relation between the two would have the form:\n",
    "\n",
    "$$y = \\beta_0 +\\beta_1x + \\epsilon.$$\n",
    "            \n",
    "Here, the $\\beta_i$ are unknown coefficients that we must solve for, often called *regression coefficients*.  The $\\epsilon$ is an error term that attempts to account for other factors that influence the value of $y$ beyond the independent variables $x$ (often called the *regressors*).  Here is a visual example of a two-dimensional linear regression model:\n",
    "\n"
   ]
  },
  {
   "cell_type": "markdown",
   "metadata": {},
   "source": [
    " <img src=\"https://drive.google.com/uc?export=view&id=1WWMo_2P_fwRD1DM02y9hZkA2BRcIpSls\" width=\"500\" height =\"500\" style =\"float:left\"/>"
   ]
  },
  {
   "cell_type": "markdown",
   "metadata": {},
   "source": [
    "A **multiple (or _multivariate_) linear regression** model is essentially the same, but it relates a dependent variable $y$ to a bunch of independent variables:\n",
    "\n",
    "$$y = \\beta_0 + \\beta_1 x_1 + \\dots + \\beta_k x_k + \\epsilon$$\n",
    "\n",
    "### Finding the line of best fit\n",
    "\n",
    "We'll think about solving the regression problem in terms of \"finding the line of best fit\". In order to do this, we need a rigorous definition of what it means to fit well. We'll do this by defining a **cost function**. The idea of a cost function is fundamental in machine learning.\n",
    "\n",
    "A cost function is a function that takes in the regression model and outputs a number indicating the quality of the fit. Lower costs are better than higher costs.\n",
    "\n",
    "The cost function that we use for the linear regression model is commonly used for many types of models:\n",
    "\n",
    "$$C = \\sum_{i=1}^N (\\hat{y_i} - y_i)^2$$\n",
    "\n",
    "Here, $\\hat{y_i}$ refers to the _predicted_ values. If $\\tilde{\\beta}_0$ and $\\tilde{\\beta}_1$ are some guesstimates for the true values of the coefficients, then for an observed value $x_i$, we would have $\\hat{y} = \\tilde{\\beta}_0 + \\tilde{\\beta}x_i$. Then the error is given by $\\hat{y_i} - y_i$, and the cost function is given by the **sum of squared errors**.\n",
    "\n",
    "We can use the cost function to evaluate different fits. Let's explore this with some synthetic data."
   ]
  },
  {
   "cell_type": "code",
   "execution_count": 10,
   "metadata": {},
   "outputs": [
    {
     "data": {
      "text/plain": [
       "<matplotlib.axes._subplots.AxesSubplot at 0x7ffe70fc8690>"
      ]
     },
     "execution_count": 10,
     "metadata": {},
     "output_type": "execute_result"
    },
    {
     "data": {
      "image/png": "[encoded data removed]",
      "text/plain": [
       "<Figure size 432x288 with 1 Axes>"
      ]
     },
     "metadata": {
      "needs_background": "light"
     },
     "output_type": "display_data"
    }
   ],
   "source": [
    "df = pd.DataFrame(dict(x=[1, 2, 3, 4, 5, 6, 7, 8, 9, 10], y=[3.6,5.1,6.9,8.4,8.3,11.5,14.1,15.6,16.6,18]))\n",
    "df.plot.scatter(x='x', y='y')"
   ]
  },
  {
   "cell_type": "markdown",
   "metadata": {},
   "source": [
    "Consider two linear models for this data. The first is given by\n",
    "\n",
    "$y = 1 + 4x$\n",
    "\n",
    "and the second is given by \n",
    "\n",
    "$y = 2 + 3x$\n",
    "\n",
    "Create two new columns `yhat_1` and `yhat_2` of predicted values from this model. Then compute the sum of squared errors for each model. Which model fits better? Can you find an even better model? "
   ]
  },
  {
   "cell_type": "code",
   "execution_count": 11,
   "metadata": {},
   "outputs": [
    {
     "name": "stdout",
     "output_type": "stream",
     "text": [
      "Model 1 (y=1+4x) loss: 1941.81\n",
      "Model 2 (y=3+3x) loss: 907.41\n",
      "Model 3 (y=1+1.8x) loss: 5.809999999999996\n"
     ]
    }
   ],
   "source": [
    "# Calculated the predicted y values for the 2 models above\n",
    "yhat_1 = 1 + 4 * df['x']\n",
    "yhat_2 = 2 + 3 * df['x']\n",
    "\n",
    "# Predicted y values for new model that outperforms model 1 and 2\n",
    "yhat_3 = 1 + 1.8 * df['x']\n",
    "\n",
    "# Add the predictions from each model to the data frame\n",
    "df['yhat_1'] = yhat_1\n",
    "df['yhat_2'] = yhat_2\n",
    "df['yhat_3'] = yhat_3\n",
    "\n",
    "# Calculate the \"cost\" for each model (sum of squared errors)\n",
    "model_1_loss = ((df['yhat_1'] - df['y']) ** 2).sum()\n",
    "model_2_loss = ((df['yhat_2'] - df['y']) ** 2).sum()\n",
    "model_3_loss = ((df['yhat_3'] - df['y']) ** 2).sum()\n",
    "\n",
    "print('Model 1 (y=1+4x) loss: ' + str(model_1_loss))\n",
    "print('Model 2 (y=2+3x) loss: ' + str(model_2_loss))\n",
    "print('Model 3 (y=1+1.8x) loss: ' + str(model_3_loss))"
   ]
  },
  {
   "cell_type": "markdown",
   "metadata": {},
   "source": [
    "The best model is the one that makes the cost function as small as possible. This turns out to exist for any dataset as long as the columns of the dataset are linearly independent, i.e., essentially, as long as no pair of columns is perfectly correlated.\n",
    "\n",
    "There's even a neat formula for the coefficients that give the solution to the linear regression problem. In the two variable case, the solution is given by:\n",
    "\n",
    "$$\\beta_1 = \\frac{\\text{Cov}(x,y)}{\\text{Var}(x)}$$\n",
    "$$\\beta_0 = \\bar{y} - \\beta_1 \\bar{x}$$\n",
    "\n",
    "We'll use these formulas to find the linear regression coefficients, and compute the sum of squares below."
   ]
  },
  {
   "cell_type": "code",
   "execution_count": 12,
   "metadata": {},
   "outputs": [
    {
     "name": "stdout",
     "output_type": "stream",
     "text": [
      "beta_0 = 1.6799999999999962\n",
      "beta_1 = 1.6600000000000004\n",
      "Sum of squared errors = 4.111999999999999\n"
     ]
    }
   ],
   "source": [
    "beta_1 = np.cov(df['y'], df['x'])[0,1] / np.cov(df['y'], df['x'])[1,1]\n",
    "beta_0 = np.mean(df['y']) - beta_1 * np.mean(df['x'])\n",
    "print(\"beta_0 = \" + str(beta_0))\n",
    "print(\"beta_1 = \" + str(beta_1))\n",
    "\n",
    "# Add the new yhat to the dataframe\n",
    "df['yhat'] = beta_0 + beta_1 * df['x']\n",
    "\n",
    "# Compute the sum of squares\n",
    "print(\"Sum of squared errors = \" + str(sum((df['y'] - df['yhat'])**2)))\n",
    "\n",
    "## Much lower than the other regressions!"
   ]
  },
  {
   "cell_type": "markdown",
   "metadata": {},
   "source": [
    "### Choosing Linear Regression\n",
    "\n",
    "Before we look at different implementations of linear regression, one question we should ask is \"when should we choose linear regression as our model?\".  The short answer is \"when there is a strong linear relation in our data\", and there are two methods that can help us determine this.  The first is visual inspection.  As an example, let's look at two data sets:"
   ]
  },
  {
   "cell_type": "code",
   "execution_count": 13,
   "metadata": {},
   "outputs": [],
   "source": [
    "# Independent Axis\n",
    "x = [x for x in range(-10,10)]\n",
    "\n",
    "# Dependent Axes\n",
    "y1 = [a + round(np.random.normal(0,0.75),2) for a in x]\n",
    "y2 = [a**2 + round(np.random.normal(0,3),2) for a in x]"
   ]
  },
  {
   "cell_type": "code",
   "execution_count": 14,
   "metadata": {},
   "outputs": [
    {
     "data": {
      "text/plain": [
       "<matplotlib.collections.PathCollection at 0x7ffe7103a390>"
      ]
     },
     "execution_count": 14,
     "metadata": {},
     "output_type": "execute_result"
    },
    {
     "data": {
      "image/png": "[encoded data removed]",
      "text/plain": [
       "<Figure size 432x288 with 1 Axes>"
      ]
     },
     "metadata": {
      "needs_background": "light"
     },
     "output_type": "display_data"
    }
   ],
   "source": [
    "plt.scatter(x,y1)"
   ]
  },
  {
   "cell_type": "code",
   "execution_count": 15,
   "metadata": {},
   "outputs": [
    {
     "data": {
      "text/plain": [
       "<matplotlib.collections.PathCollection at 0x7ffe7158ca50>"
      ]
     },
     "execution_count": 15,
     "metadata": {},
     "output_type": "execute_result"
    },
    {
     "data": {
      "image/png": "[encoded data removed]",
      "text/plain": [
       "<Figure size 432x288 with 1 Axes>"
      ]
     },
     "metadata": {
      "needs_background": "light"
     },
     "output_type": "display_data"
    }
   ],
   "source": [
    "plt.scatter(x,y2)"
   ]
  },
  {
   "cell_type": "markdown",
   "metadata": {},
   "source": [
    "Ignoring how we made the data sets, the first plot certainly seems to be linear, but the second plot has a distinct curvature that would lead us to believe that the data is not linearly related.\n",
    "\n",
    "The second method we have is the Pearson correlation coefficient, which we learned was a measure of how strongly two data sets are *linearly related*.  The closer to 1 or -1 the correlation is, the stronger the linear relationship in the data is.  We compute the correlation for each of these sets:"
   ]
  },
  {
   "cell_type": "code",
   "execution_count": 16,
   "metadata": {},
   "outputs": [
    {
     "data": {
      "text/plain": [
       "array([[1.        , 0.99329979],\n",
       "       [0.99329979, 1.        ]])"
      ]
     },
     "execution_count": 16,
     "metadata": {},
     "output_type": "execute_result"
    }
   ],
   "source": [
    "np.corrcoef(x,y1)"
   ]
  },
  {
   "cell_type": "code",
   "execution_count": 17,
   "metadata": {},
   "outputs": [
    {
     "data": {
      "text/plain": [
       "array([[ 1.        , -0.18032398],\n",
       "       [-0.18032398,  1.        ]])"
      ]
     },
     "execution_count": 17,
     "metadata": {},
     "output_type": "execute_result"
    }
   ],
   "source": [
    "np.corrcoef(x,y2)"
   ]
  },
  {
   "cell_type": "markdown",
   "metadata": {},
   "source": [
    "The correlation for the first data set is very close to 1, reinforcing our conclusion from our visual inspection that the data is strongly linearly related.  The correlation for the second data set is much closer to 0, meaning that there is no strong linear relation in the data."
   ]
  },
  {
   "cell_type": "markdown",
   "metadata": {},
   "source": [
    "## Linear Regression with `statsmodels`\n",
    "\n",
    "The `statsmodels` package gives a very convenient interface for performing linear regression, as well as nice methods for printing the results in a human-readable format. `statsmodels` also allows you to specify a regression using a **formula** written in a mini-language called [Patsy](https://patsy.readthedocs.io/en/latest/overview.html), which is modelled after R's _formula_ object.\n",
    "\n",
    "A formula specifies which column of a dataframe is the dependent variable, and which are the independent variables. To perform our linear regression from above, we would use the following code."
   ]
  },
  {
   "cell_type": "code",
   "execution_count": 18,
   "metadata": {},
   "outputs": [],
   "source": [
    "# Import the formula tools\n",
    "import statsmodels.formula.api as smf\n",
    "\n",
    "# Create the linear regression model object (\"ols\" stands for ordinary least squares)\n",
    "model = smf.ols(data = df, formula = \"y ~ x\")\n",
    "\n",
    "# Create a RegressionResults object\n",
    "result = model.fit()"
   ]
  },
  {
   "cell_type": "markdown",
   "metadata": {},
   "source": [
    "A little bit of explanation is in order. The line starting with `model = ` is essentially setting things up. It lets `statsmodels` know where our data is, and which columns of the data should be used for what in the model. The general form of a formula for a simple linear regression is `\"dependent_var ~ indep_1 + indep_2 + ... + indep_k\"`. As long as all of the variable names listed are column names of the data frame, this will work.\n",
    "\n",
    "Once we have set everything up, the `.fit()` method actually performs the Ordinary Least Squares optimization process, and returns an object containing the result. The result object has a very handy `summary` method that shows us what's going on."
   ]
  },
  {
   "cell_type": "code",
   "execution_count": 19,
   "metadata": {},
   "outputs": [
    {
     "name": "stderr",
     "output_type": "stream",
     "text": [
      "/Users/williecostello/opt/anaconda3/lib/python3.7/site-packages/scipy/stats/stats.py:1535: UserWarning: kurtosistest only valid for n>=20 ... continuing anyway, n=10\n",
      "  \"anyway, n=%i\" % int(n))\n"
     ]
    },
    {
     "data": {
      "text/html": [
       "<table class=\"simpletable\">\n",
       "<caption>OLS Regression Results</caption>\n",
       "<tr>\n",
       "  <th>Dep. Variable:</th>            <td>y</td>        <th>  R-squared:         </th> <td>   0.982</td>\n",
       "</tr>\n",
       "<tr>\n",
       "  <th>Model:</th>                   <td>OLS</td>       <th>  Adj. R-squared:    </th> <td>   0.980</td>\n",
       "</tr>\n",
       "<tr>\n",
       "  <th>Method:</th>             <td>Least Squares</td>  <th>  F-statistic:       </th> <td>   442.3</td>\n",
       "</tr>\n",
       "<tr>\n",
       "  <th>Date:</th>             <td>Wed, 12 Aug 2020</td> <th>  Prob (F-statistic):</th> <td>2.74e-08</td>\n",
       "</tr>\n",
       "<tr>\n",
       "  <th>Time:</th>                 <td>11:09:51</td>     <th>  Log-Likelihood:    </th> <td> -9.7460</td>\n",
       "</tr>\n",
       "<tr>\n",
       "  <th>No. Observations:</th>      <td>    10</td>      <th>  AIC:               </th> <td>   23.49</td>\n",
       "</tr>\n",
       "<tr>\n",
       "  <th>Df Residuals:</th>          <td>     8</td>      <th>  BIC:               </th> <td>   24.10</td>\n",
       "</tr>\n",
       "<tr>\n",
       "  <th>Df Model:</th>              <td>     1</td>      <th>                     </th>     <td> </td>   \n",
       "</tr>\n",
       "<tr>\n",
       "  <th>Covariance Type:</th>      <td>nonrobust</td>    <th>                     </th>     <td> </td>   \n",
       "</tr>\n",
       "</table>\n",
       "<table class=\"simpletable\">\n",
       "<tr>\n",
       "      <td></td>         <th>coef</th>     <th>std err</th>      <th>t</th>      <th>P>|t|</th>  <th>[0.025</th>    <th>0.975]</th>  \n",
       "</tr>\n",
       "<tr>\n",
       "  <th>Intercept</th> <td>    1.6800</td> <td>    0.490</td> <td>    3.430</td> <td> 0.009</td> <td>    0.551</td> <td>    2.809</td>\n",
       "</tr>\n",
       "<tr>\n",
       "  <th>x</th>         <td>    1.6600</td> <td>    0.079</td> <td>   21.031</td> <td> 0.000</td> <td>    1.478</td> <td>    1.842</td>\n",
       "</tr>\n",
       "</table>\n",
       "<table class=\"simpletable\">\n",
       "<tr>\n",
       "  <th>Omnibus:</th>       <td>12.020</td> <th>  Durbin-Watson:     </th> <td>   1.691</td>\n",
       "</tr>\n",
       "<tr>\n",
       "  <th>Prob(Omnibus):</th> <td> 0.002</td> <th>  Jarque-Bera (JB):  </th> <td>   5.528</td>\n",
       "</tr>\n",
       "<tr>\n",
       "  <th>Skew:</th>          <td>-1.502</td> <th>  Prob(JB):          </th> <td>  0.0630</td>\n",
       "</tr>\n",
       "<tr>\n",
       "  <th>Kurtosis:</th>      <td> 5.061</td> <th>  Cond. No.          </th> <td>    13.7</td>\n",
       "</tr>\n",
       "</table><br/><br/>Warnings:<br/>[1] Standard Errors assume that the covariance matrix of the errors is correctly specified."
      ],
      "text/plain": [
       "<class 'statsmodels.iolib.summary.Summary'>\n",
       "\"\"\"\n",
       "                            OLS Regression Results                            \n",
       "==============================================================================\n",
       "Dep. Variable:                      y   R-squared:                       0.982\n",
       "Model:                            OLS   Adj. R-squared:                  0.980\n",
       "Method:                 Least Squares   F-statistic:                     442.3\n",
       "Date:                Wed, 12 Aug 2020   Prob (F-statistic):           2.74e-08\n",
       "Time:                        11:09:51   Log-Likelihood:                -9.7460\n",
       "No. Observations:                  10   AIC:                             23.49\n",
       "Df Residuals:                       8   BIC:                             24.10\n",
       "Df Model:                           1                                         \n",
       "Covariance Type:            nonrobust                                         \n",
       "==============================================================================\n",
       "                 coef    std err          t      P>|t|      [0.025      0.975]\n",
       "------------------------------------------------------------------------------\n",
       "Intercept      1.6800      0.490      3.430      0.009       0.551       2.809\n",
       "x              1.6600      0.079     21.031      0.000       1.478       1.842\n",
       "==============================================================================\n",
       "Omnibus:                       12.020   Durbin-Watson:                   1.691\n",
       "Prob(Omnibus):                  0.002   Jarque-Bera (JB):                5.528\n",
       "Skew:                          -1.502   Prob(JB):                       0.0630\n",
       "Kurtosis:                       5.061   Cond. No.                         13.7\n",
       "==============================================================================\n",
       "\n",
       "Warnings:\n",
       "[1] Standard Errors assume that the covariance matrix of the errors is correctly specified.\n",
       "\"\"\""
      ]
     },
     "execution_count": 19,
     "metadata": {},
     "output_type": "execute_result"
    }
   ],
   "source": [
    "result.summary()"
   ]
  },
  {
   "cell_type": "markdown",
   "metadata": {},
   "source": [
    "Important parts of this table:\n",
    "- **R-squared:** This is a measure of the goodness of fit, ranging from 0 to 1. The closer this is to 1, the better the fit of your model.\n",
    "- **coef:** These are the values of the estimated coefficients.\n",
    "- **P>|t|:** This is a p-value for the null hypothesis that the associated coefficient is zero. In this instance, both coefficients have p-values below our usual cutoffs, so we would reject that null hypothesis and conclude that the coefficients are not zero.\n",
    "- **[0.025 0.975]:** This is a 95% confidence interval for the value of the coefficient. Note that this is closely related to the p-value; 0 will be in the confidence interval if and only if p >= .05.\n",
    "\n",
    "It is useful to learn about the other parts of this table as well, but those should be the first things that we look at when we summarise a regression.\n",
    "\n",
    "Let's try a more complicated example."
   ]
  },
  {
   "cell_type": "code",
   "execution_count": 20,
   "metadata": {},
   "outputs": [
    {
     "data": {
      "text/html": [
       "<table class=\"simpletable\">\n",
       "<caption>OLS Regression Results</caption>\n",
       "<tr>\n",
       "  <th>Dep. Variable:</th>          <td>price</td>      <th>  R-squared:         </th> <td>   0.856</td> \n",
       "</tr>\n",
       "<tr>\n",
       "  <th>Model:</th>                   <td>OLS</td>       <th>  Adj. R-squared:    </th> <td>   0.856</td> \n",
       "</tr>\n",
       "<tr>\n",
       "  <th>Method:</th>             <td>Least Squares</td>  <th>  F-statistic:       </th> <td>1.980e+04</td>\n",
       "</tr>\n",
       "<tr>\n",
       "  <th>Date:</th>             <td>Wed, 12 Aug 2020</td> <th>  Prob (F-statistic):</th>  <td>  0.00</td>  \n",
       "</tr>\n",
       "<tr>\n",
       "  <th>Time:</th>                 <td>11:12:30</td>     <th>  Log-Likelihood:    </th> <td> -87459.</td> \n",
       "</tr>\n",
       "<tr>\n",
       "  <th>No. Observations:</th>      <td> 10000</td>      <th>  AIC:               </th> <td>1.749e+05</td>\n",
       "</tr>\n",
       "<tr>\n",
       "  <th>Df Residuals:</th>          <td>  9996</td>      <th>  BIC:               </th> <td>1.750e+05</td>\n",
       "</tr>\n",
       "<tr>\n",
       "  <th>Df Model:</th>              <td>     3</td>      <th>                     </th>     <td> </td>    \n",
       "</tr>\n",
       "<tr>\n",
       "  <th>Covariance Type:</th>      <td>nonrobust</td>    <th>                     </th>     <td> </td>    \n",
       "</tr>\n",
       "</table>\n",
       "<table class=\"simpletable\">\n",
       "<tr>\n",
       "      <td></td>         <th>coef</th>     <th>std err</th>      <th>t</th>      <th>P>|t|</th>  <th>[0.025</th>    <th>0.975]</th>  \n",
       "</tr>\n",
       "<tr>\n",
       "  <th>Intercept</th> <td> 1.175e+04</td> <td>  883.671</td> <td>   13.298</td> <td> 0.000</td> <td>    1e+04</td> <td> 1.35e+04</td>\n",
       "</tr>\n",
       "<tr>\n",
       "  <th>carat</th>     <td> 7921.3004</td> <td>   32.785</td> <td>  241.614</td> <td> 0.000</td> <td> 7857.035</td> <td> 7985.565</td>\n",
       "</tr>\n",
       "<tr>\n",
       "  <th>depth</th>     <td> -135.9764</td> <td>   10.829</td> <td>  -12.557</td> <td> 0.000</td> <td> -157.203</td> <td> -114.749</td>\n",
       "</tr>\n",
       "<tr>\n",
       "  <th>table</th>     <td>  -99.7469</td> <td>    7.231</td> <td>  -13.795</td> <td> 0.000</td> <td> -113.921</td> <td>  -85.573</td>\n",
       "</tr>\n",
       "</table>\n",
       "<table class=\"simpletable\">\n",
       "<tr>\n",
       "  <th>Omnibus:</th>       <td>2573.070</td> <th>  Durbin-Watson:     </th> <td>   1.978</td> \n",
       "</tr>\n",
       "<tr>\n",
       "  <th>Prob(Omnibus):</th>  <td> 0.000</td>  <th>  Jarque-Bera (JB):  </th> <td>24671.823</td>\n",
       "</tr>\n",
       "<tr>\n",
       "  <th>Skew:</th>           <td> 0.958</td>  <th>  Prob(JB):          </th> <td>    0.00</td> \n",
       "</tr>\n",
       "<tr>\n",
       "  <th>Kurtosis:</th>       <td>10.453</td>  <th>  Cond. No.          </th> <td>4.90e+03</td> \n",
       "</tr>\n",
       "</table><br/><br/>Warnings:<br/>[1] Standard Errors assume that the covariance matrix of the errors is correctly specified.<br/>[2] The condition number is large, 4.9e+03. This might indicate that there are<br/>strong multicollinearity or other numerical problems."
      ],
      "text/plain": [
       "<class 'statsmodels.iolib.summary.Summary'>\n",
       "\"\"\"\n",
       "                            OLS Regression Results                            \n",
       "==============================================================================\n",
       "Dep. Variable:                  price   R-squared:                       0.856\n",
       "Model:                            OLS   Adj. R-squared:                  0.856\n",
       "Method:                 Least Squares   F-statistic:                 1.980e+04\n",
       "Date:                Wed, 12 Aug 2020   Prob (F-statistic):               0.00\n",
       "Time:                        11:12:30   Log-Likelihood:                -87459.\n",
       "No. Observations:               10000   AIC:                         1.749e+05\n",
       "Df Residuals:                    9996   BIC:                         1.750e+05\n",
       "Df Model:                           3                                         \n",
       "Covariance Type:            nonrobust                                         \n",
       "==============================================================================\n",
       "                 coef    std err          t      P>|t|      [0.025      0.975]\n",
       "------------------------------------------------------------------------------\n",
       "Intercept   1.175e+04    883.671     13.298      0.000       1e+04    1.35e+04\n",
       "carat       7921.3004     32.785    241.614      0.000    7857.035    7985.565\n",
       "depth       -135.9764     10.829    -12.557      0.000    -157.203    -114.749\n",
       "table        -99.7469      7.231    -13.795      0.000    -113.921     -85.573\n",
       "==============================================================================\n",
       "Omnibus:                     2573.070   Durbin-Watson:                   1.978\n",
       "Prob(Omnibus):                  0.000   Jarque-Bera (JB):            24671.823\n",
       "Skew:                           0.958   Prob(JB):                         0.00\n",
       "Kurtosis:                      10.453   Cond. No.                     4.90e+03\n",
       "==============================================================================\n",
       "\n",
       "Warnings:\n",
       "[1] Standard Errors assume that the covariance matrix of the errors is correctly specified.\n",
       "[2] The condition number is large, 4.9e+03. This might indicate that there are\n",
       "strong multicollinearity or other numerical problems.\n",
       "\"\"\""
      ]
     },
     "execution_count": 20,
     "metadata": {},
     "output_type": "execute_result"
    }
   ],
   "source": [
    "diamonds = pd.read_csv(\"data/diamonds.csv\")\n",
    "diamond_reg = smf.ols(\"price ~ carat + depth + table\", data=diamonds).fit()  # Here we create and fit our model on the same line\n",
    "diamond_reg.summary()"
   ]
  },
  {
   "cell_type": "markdown",
   "metadata": {},
   "source": [
    "What does this tell us about how the price of a diamond is related to these variables?\n",
    "\n",
    "One of the most important methods that the RegressionResult object provides is that it lets us predict new values given new or hypothetical data."
   ]
  },
  {
   "cell_type": "code",
   "execution_count": 21,
   "metadata": {},
   "outputs": [
    {
     "data": {
      "text/html": [
       "<div>\n",
       "<style scoped>\n",
       "    .dataframe tbody tr th:only-of-type {\n",
       "        vertical-align: middle;\n",
       "    }\n",
       "\n",
       "    .dataframe tbody tr th {\n",
       "        vertical-align: top;\n",
       "    }\n",
       "\n",
       "    .dataframe thead th {\n",
       "        text-align: right;\n",
       "    }\n",
       "</style>\n",
       "<table border=\"1\" class=\"dataframe\">\n",
       "  <thead>\n",
       "    <tr style=\"text-align: right;\">\n",
       "      <th></th>\n",
       "      <th>carat</th>\n",
       "      <th>depth</th>\n",
       "      <th>table</th>\n",
       "      <th>predicted</th>\n",
       "    </tr>\n",
       "  </thead>\n",
       "  <tbody>\n",
       "    <tr>\n",
       "      <th>0</th>\n",
       "      <td>0.5</td>\n",
       "      <td>50</td>\n",
       "      <td>40</td>\n",
       "      <td>4923.370368</td>\n",
       "    </tr>\n",
       "    <tr>\n",
       "      <th>1</th>\n",
       "      <td>1.0</td>\n",
       "      <td>50</td>\n",
       "      <td>40</td>\n",
       "      <td>8884.020544</td>\n",
       "    </tr>\n",
       "    <tr>\n",
       "      <th>2</th>\n",
       "      <td>1.5</td>\n",
       "      <td>50</td>\n",
       "      <td>40</td>\n",
       "      <td>12844.670720</td>\n",
       "    </tr>\n",
       "    <tr>\n",
       "      <th>3</th>\n",
       "      <td>2.0</td>\n",
       "      <td>50</td>\n",
       "      <td>40</td>\n",
       "      <td>16805.320896</td>\n",
       "    </tr>\n",
       "    <tr>\n",
       "      <th>4</th>\n",
       "      <td>2.5</td>\n",
       "      <td>50</td>\n",
       "      <td>40</td>\n",
       "      <td>20765.971072</td>\n",
       "    </tr>\n",
       "    <tr>\n",
       "      <th>5</th>\n",
       "      <td>3.0</td>\n",
       "      <td>50</td>\n",
       "      <td>40</td>\n",
       "      <td>24726.621249</td>\n",
       "    </tr>\n",
       "  </tbody>\n",
       "</table>\n",
       "</div>"
      ],
      "text/plain": [
       "   carat  depth  table     predicted\n",
       "0    0.5     50     40   4923.370368\n",
       "1    1.0     50     40   8884.020544\n",
       "2    1.5     50     40  12844.670720\n",
       "3    2.0     50     40  16805.320896\n",
       "4    2.5     50     40  20765.971072\n",
       "5    3.0     50     40  24726.621249"
      ]
     },
     "execution_count": 21,
     "metadata": {},
     "output_type": "execute_result"
    }
   ],
   "source": [
    "new_diamonds = pd.DataFrame({'carat': [0.5, 1, 1.5, 2, 2.5, 3],\n",
    "                             'depth': [50, 50, 50, 50, 50, 50], \n",
    "                             'table': [40, 40, 40, 40, 40, 40]})\n",
    "new_diamonds['predicted'] = diamond_reg.predict(new_diamonds)\n",
    "new_diamonds"
   ]
  },
  {
   "cell_type": "code",
   "execution_count": 22,
   "metadata": {},
   "outputs": [
    {
     "data": {
      "text/plain": [
       "<matplotlib.axes._subplots.AxesSubplot at 0x7ffe72921c50>"
      ]
     },
     "execution_count": 22,
     "metadata": {},
     "output_type": "execute_result"
    },
    {
     "data": {
      "image/png": "[encoded data removed]",
      "text/plain": [
       "<Figure size 432x288 with 1 Axes>"
      ]
     },
     "metadata": {
      "needs_background": "light"
     },
     "output_type": "display_data"
    }
   ],
   "source": [
    "new_diamonds.plot.scatter(x='carat', y='predicted', title='Estimated Price of a Diamond with depth = 50, table = 40')"
   ]
  },
  {
   "cell_type": "markdown",
   "metadata": {},
   "source": [
    "### Linear Regression with Categorical Predictors\n",
    "\n",
    "So far we have looked at how to perform a linear regression using continuous variables as predictors. Is it possible to perform linear regression using categorical variables as predictors too? As an example, not only do we expect the numeric variables in the diamonds dataset to have an impact on price, but we expect the categorical variables such as cut and color to have an impact as well.\n",
    "\n",
    "The mathematics of linear regression only allows for numeric variables to be included in the model, but there is a way to get around that: we can use **dummy variables**. Dummy variables, which are sometimes called **indicator variables**, and sometimes **one-hot encoders**, are variables that we generate that only take on the value of 0 or 1. We can use dummy variables to encode categorical data in a numeric form.\n",
    "\n",
    "**Create a dataset below called diamonds_2 which has a dummy variable called \"ideal\" equal to 1 whenever the cut is _Ideal_. (Remember to use `.copy()`)**"
   ]
  },
  {
   "cell_type": "code",
   "execution_count": 25,
   "metadata": {},
   "outputs": [],
   "source": [
    "diamonds_2 = "
   ]
  },
  {
   "cell_type": "markdown",
   "metadata": {},
   "source": [
    "With the state of being ideal cut encoded using a dummy variable, we can include the dummy variable in the linear regression formula to obtain an estimate of the price impact of a diamond having an ideal cut."
   ]
  },
  {
   "cell_type": "code",
   "execution_count": 27,
   "metadata": {},
   "outputs": [
    {
     "data": {
      "text/html": [
       "<table class=\"simpletable\">\n",
       "<caption>OLS Regression Results</caption>\n",
       "<tr>\n",
       "  <th>Dep. Variable:</th>          <td>price</td>      <th>  R-squared:         </th> <td>   0.857</td> \n",
       "</tr>\n",
       "<tr>\n",
       "  <th>Model:</th>                   <td>OLS</td>       <th>  Adj. R-squared:    </th> <td>   0.857</td> \n",
       "</tr>\n",
       "<tr>\n",
       "  <th>Method:</th>             <td>Least Squares</td>  <th>  F-statistic:       </th> <td>1.497e+04</td>\n",
       "</tr>\n",
       "<tr>\n",
       "  <th>Date:</th>             <td>Wed, 12 Aug 2020</td> <th>  Prob (F-statistic):</th>  <td>  0.00</td>  \n",
       "</tr>\n",
       "<tr>\n",
       "  <th>Time:</th>                 <td>11:18:59</td>     <th>  Log-Likelihood:    </th> <td> -87422.</td> \n",
       "</tr>\n",
       "<tr>\n",
       "  <th>No. Observations:</th>      <td> 10000</td>      <th>  AIC:               </th> <td>1.749e+05</td>\n",
       "</tr>\n",
       "<tr>\n",
       "  <th>Df Residuals:</th>          <td>  9995</td>      <th>  BIC:               </th> <td>1.749e+05</td>\n",
       "</tr>\n",
       "<tr>\n",
       "  <th>Df Model:</th>              <td>     4</td>      <th>                     </th>     <td> </td>    \n",
       "</tr>\n",
       "<tr>\n",
       "  <th>Covariance Type:</th>      <td>nonrobust</td>    <th>                     </th>     <td> </td>    \n",
       "</tr>\n",
       "</table>\n",
       "<table class=\"simpletable\">\n",
       "<tr>\n",
       "      <td></td>         <th>coef</th>     <th>std err</th>      <th>t</th>      <th>P>|t|</th>  <th>[0.025</th>    <th>0.975]</th>  \n",
       "</tr>\n",
       "<tr>\n",
       "  <th>Intercept</th> <td> 7904.4412</td> <td>  988.201</td> <td>    7.999</td> <td> 0.000</td> <td> 5967.369</td> <td> 9841.513</td>\n",
       "</tr>\n",
       "<tr>\n",
       "  <th>carat</th>     <td> 7936.0159</td> <td>   32.712</td> <td>  242.605</td> <td> 0.000</td> <td> 7871.894</td> <td> 8000.137</td>\n",
       "</tr>\n",
       "<tr>\n",
       "  <th>depth</th>     <td> -115.1817</td> <td>   11.059</td> <td>  -10.415</td> <td> 0.000</td> <td> -136.860</td> <td>  -93.504</td>\n",
       "</tr>\n",
       "<tr>\n",
       "  <th>table</th>     <td>  -57.5904</td> <td>    8.722</td> <td>   -6.603</td> <td> 0.000</td> <td>  -74.688</td> <td>  -40.493</td>\n",
       "</tr>\n",
       "<tr>\n",
       "  <th>ideal</th>     <td>  324.9853</td> <td>   37.902</td> <td>    8.574</td> <td> 0.000</td> <td>  250.691</td> <td>  399.280</td>\n",
       "</tr>\n",
       "</table>\n",
       "<table class=\"simpletable\">\n",
       "<tr>\n",
       "  <th>Omnibus:</th>       <td>2607.328</td> <th>  Durbin-Watson:     </th> <td>   1.977</td> \n",
       "</tr>\n",
       "<tr>\n",
       "  <th>Prob(Omnibus):</th>  <td> 0.000</td>  <th>  Jarque-Bera (JB):  </th> <td>25416.815</td>\n",
       "</tr>\n",
       "<tr>\n",
       "  <th>Skew:</th>           <td> 0.969</td>  <th>  Prob(JB):          </th> <td>    0.00</td> \n",
       "</tr>\n",
       "<tr>\n",
       "  <th>Kurtosis:</th>       <td>10.566</td>  <th>  Cond. No.          </th> <td>5.50e+03</td> \n",
       "</tr>\n",
       "</table><br/><br/>Warnings:<br/>[1] Standard Errors assume that the covariance matrix of the errors is correctly specified.<br/>[2] The condition number is large, 5.5e+03. This might indicate that there are<br/>strong multicollinearity or other numerical problems."
      ],
      "text/plain": [
       "<class 'statsmodels.iolib.summary.Summary'>\n",
       "\"\"\"\n",
       "                            OLS Regression Results                            \n",
       "==============================================================================\n",
       "Dep. Variable:                  price   R-squared:                       0.857\n",
       "Model:                            OLS   Adj. R-squared:                  0.857\n",
       "Method:                 Least Squares   F-statistic:                 1.497e+04\n",
       "Date:                Wed, 12 Aug 2020   Prob (F-statistic):               0.00\n",
       "Time:                        11:18:59   Log-Likelihood:                -87422.\n",
       "No. Observations:               10000   AIC:                         1.749e+05\n",
       "Df Residuals:                    9995   BIC:                         1.749e+05\n",
       "Df Model:                           4                                         \n",
       "Covariance Type:            nonrobust                                         \n",
       "==============================================================================\n",
       "                 coef    std err          t      P>|t|      [0.025      0.975]\n",
       "------------------------------------------------------------------------------\n",
       "Intercept   7904.4412    988.201      7.999      0.000    5967.369    9841.513\n",
       "carat       7936.0159     32.712    242.605      0.000    7871.894    8000.137\n",
       "depth       -115.1817     11.059    -10.415      0.000    -136.860     -93.504\n",
       "table        -57.5904      8.722     -6.603      0.000     -74.688     -40.493\n",
       "ideal        324.9853     37.902      8.574      0.000     250.691     399.280\n",
       "==============================================================================\n",
       "Omnibus:                     2607.328   Durbin-Watson:                   1.977\n",
       "Prob(Omnibus):                  0.000   Jarque-Bera (JB):            25416.815\n",
       "Skew:                           0.969   Prob(JB):                         0.00\n",
       "Kurtosis:                      10.566   Cond. No.                     5.50e+03\n",
       "==============================================================================\n",
       "\n",
       "Warnings:\n",
       "[1] Standard Errors assume that the covariance matrix of the errors is correctly specified.\n",
       "[2] The condition number is large, 5.5e+03. This might indicate that there are\n",
       "strong multicollinearity or other numerical problems.\n",
       "\"\"\""
      ]
     },
     "execution_count": 27,
     "metadata": {},
     "output_type": "execute_result"
    }
   ],
   "source": [
    "diamond_reg_ideal = smf.ols(\"price ~ carat + depth + table + ideal\", data=diamonds_2).fit() \n",
    "diamond_reg_ideal.summary()"
   ]
  },
  {
   "cell_type": "markdown",
   "metadata": {},
   "source": [
    "**What do these results tell us about ideal cut diamonds?**\n",
    "\n",
    "Thankfully, this is a common enough procedure that statsmodels has ways of doing it automatically, so that we don't have to create dummy variables every time. If we include a categorical variable in a formula, statsmodels will automatically create dummy variables for the levels of the categorical variable."
   ]
  },
  {
   "cell_type": "code",
   "execution_count": 28,
   "metadata": {},
   "outputs": [
    {
     "data": {
      "text/html": [
       "<table class=\"simpletable\">\n",
       "<caption>OLS Regression Results</caption>\n",
       "<tr>\n",
       "  <th>Dep. Variable:</th>          <td>price</td>      <th>  R-squared:         </th> <td>   0.859</td> \n",
       "</tr>\n",
       "<tr>\n",
       "  <th>Model:</th>                   <td>OLS</td>       <th>  Adj. R-squared:    </th> <td>   0.859</td> \n",
       "</tr>\n",
       "<tr>\n",
       "  <th>Method:</th>             <td>Least Squares</td>  <th>  F-statistic:       </th> <td>   8727.</td> \n",
       "</tr>\n",
       "<tr>\n",
       "  <th>Date:</th>             <td>Wed, 12 Aug 2020</td> <th>  Prob (F-statistic):</th>  <td>  0.00</td>  \n",
       "</tr>\n",
       "<tr>\n",
       "  <th>Time:</th>                 <td>11:19:35</td>     <th>  Log-Likelihood:    </th> <td> -87336.</td> \n",
       "</tr>\n",
       "<tr>\n",
       "  <th>No. Observations:</th>      <td> 10000</td>      <th>  AIC:               </th> <td>1.747e+05</td>\n",
       "</tr>\n",
       "<tr>\n",
       "  <th>Df Residuals:</th>          <td>  9992</td>      <th>  BIC:               </th> <td>1.747e+05</td>\n",
       "</tr>\n",
       "<tr>\n",
       "  <th>Df Model:</th>              <td>     7</td>      <th>                     </th>     <td> </td>    \n",
       "</tr>\n",
       "<tr>\n",
       "  <th>Covariance Type:</th>      <td>nonrobust</td>    <th>                     </th>     <td> </td>    \n",
       "</tr>\n",
       "</table>\n",
       "<table class=\"simpletable\">\n",
       "<tr>\n",
       "          <td></td>            <th>coef</th>     <th>std err</th>      <th>t</th>      <th>P>|t|</th>  <th>[0.025</th>    <th>0.975]</th>  \n",
       "</tr>\n",
       "<tr>\n",
       "  <th>Intercept</th>        <td> 2146.2855</td> <td> 1076.080</td> <td>    1.995</td> <td> 0.046</td> <td>   36.953</td> <td> 4255.618</td>\n",
       "</tr>\n",
       "<tr>\n",
       "  <th>cut[T.Good]</th>      <td>  948.5817</td> <td>  100.292</td> <td>    9.458</td> <td> 0.000</td> <td>  751.990</td> <td> 1145.173</td>\n",
       "</tr>\n",
       "<tr>\n",
       "  <th>cut[T.Ideal]</th>     <td> 1482.7610</td> <td>   98.697</td> <td>   15.023</td> <td> 0.000</td> <td> 1289.294</td> <td> 1676.227</td>\n",
       "</tr>\n",
       "<tr>\n",
       "  <th>cut[T.Premium]</th>   <td> 1150.9392</td> <td>   94.735</td> <td>   12.149</td> <td> 0.000</td> <td>  965.240</td> <td> 1336.638</td>\n",
       "</tr>\n",
       "<tr>\n",
       "  <th>cut[T.Very Good]</th> <td> 1221.8931</td> <td>   94.867</td> <td>   12.880</td> <td> 0.000</td> <td> 1035.935</td> <td> 1407.852</td>\n",
       "</tr>\n",
       "<tr>\n",
       "  <th>carat</th>            <td> 7953.9432</td> <td>   32.539</td> <td>  244.445</td> <td> 0.000</td> <td> 7890.161</td> <td> 8017.726</td>\n",
       "</tr>\n",
       "<tr>\n",
       "  <th>depth</th>            <td>  -64.7706</td> <td>   11.739</td> <td>   -5.517</td> <td> 0.000</td> <td>  -87.782</td> <td>  -41.759</td>\n",
       "</tr>\n",
       "<tr>\n",
       "  <th>table</th>            <td>  -31.1886</td> <td>    8.902</td> <td>   -3.503</td> <td> 0.000</td> <td>  -48.639</td> <td>  -13.738</td>\n",
       "</tr>\n",
       "</table>\n",
       "<table class=\"simpletable\">\n",
       "<tr>\n",
       "  <th>Omnibus:</th>       <td>2679.548</td> <th>  Durbin-Watson:     </th> <td>   1.980</td> \n",
       "</tr>\n",
       "<tr>\n",
       "  <th>Prob(Omnibus):</th>  <td> 0.000</td>  <th>  Jarque-Bera (JB):  </th> <td>24999.631</td>\n",
       "</tr>\n",
       "<tr>\n",
       "  <th>Skew:</th>           <td> 1.017</td>  <th>  Prob(JB):          </th> <td>    0.00</td> \n",
       "</tr>\n",
       "<tr>\n",
       "  <th>Kurtosis:</th>       <td>10.474</td>  <th>  Cond. No.          </th> <td>6.06e+03</td> \n",
       "</tr>\n",
       "</table><br/><br/>Warnings:<br/>[1] Standard Errors assume that the covariance matrix of the errors is correctly specified.<br/>[2] The condition number is large, 6.06e+03. This might indicate that there are<br/>strong multicollinearity or other numerical problems."
      ],
      "text/plain": [
       "<class 'statsmodels.iolib.summary.Summary'>\n",
       "\"\"\"\n",
       "                            OLS Regression Results                            \n",
       "==============================================================================\n",
       "Dep. Variable:                  price   R-squared:                       0.859\n",
       "Model:                            OLS   Adj. R-squared:                  0.859\n",
       "Method:                 Least Squares   F-statistic:                     8727.\n",
       "Date:                Wed, 12 Aug 2020   Prob (F-statistic):               0.00\n",
       "Time:                        11:19:35   Log-Likelihood:                -87336.\n",
       "No. Observations:               10000   AIC:                         1.747e+05\n",
       "Df Residuals:                    9992   BIC:                         1.747e+05\n",
       "Df Model:                           7                                         \n",
       "Covariance Type:            nonrobust                                         \n",
       "====================================================================================\n",
       "                       coef    std err          t      P>|t|      [0.025      0.975]\n",
       "------------------------------------------------------------------------------------\n",
       "Intercept         2146.2855   1076.080      1.995      0.046      36.953    4255.618\n",
       "cut[T.Good]        948.5817    100.292      9.458      0.000     751.990    1145.173\n",
       "cut[T.Ideal]      1482.7610     98.697     15.023      0.000    1289.294    1676.227\n",
       "cut[T.Premium]    1150.9392     94.735     12.149      0.000     965.240    1336.638\n",
       "cut[T.Very Good]  1221.8931     94.867     12.880      0.000    1035.935    1407.852\n",
       "carat             7953.9432     32.539    244.445      0.000    7890.161    8017.726\n",
       "depth              -64.7706     11.739     -5.517      0.000     -87.782     -41.759\n",
       "table              -31.1886      8.902     -3.503      0.000     -48.639     -13.738\n",
       "==============================================================================\n",
       "Omnibus:                     2679.548   Durbin-Watson:                   1.980\n",
       "Prob(Omnibus):                  0.000   Jarque-Bera (JB):            24999.631\n",
       "Skew:                           1.017   Prob(JB):                         0.00\n",
       "Kurtosis:                      10.474   Cond. No.                     6.06e+03\n",
       "==============================================================================\n",
       "\n",
       "Warnings:\n",
       "[1] Standard Errors assume that the covariance matrix of the errors is correctly specified.\n",
       "[2] The condition number is large, 6.06e+03. This might indicate that there are\n",
       "strong multicollinearity or other numerical problems.\n",
       "\"\"\""
      ]
     },
     "execution_count": 28,
     "metadata": {},
     "output_type": "execute_result"
    }
   ],
   "source": [
    "diamond_reg_cut = smf.ols(\"price ~ carat + depth + table + cut\", data=diamonds).fit() \n",
    "diamond_reg_cut.summary()"
   ]
  },
  {
   "cell_type": "markdown",
   "metadata": {},
   "source": [
    "#### Interpreting regression coefficients\n",
    "\n",
    "Let's have a close look at this table. It models diamond price as\n",
    "\n",
    "$$\\text{price} = 2146.29 + 7953.94\\times\\text{carat} - 64.78\\times\\text{depth} - 31.19\\times\\text{table} + 948.59\\times\\mathbb{1}_{\\text{cut=Good}} + 1221.89\\times\\mathbb{1}_{\\text{cut=Very Good}} + 1150.94\\times\\mathbb{1}_{\\text{cut=Premium}} + 1482.76\\times\\mathbb{1}_{\\text{cut=Ideal}} + \\epsilon$$\n",
    "\n",
    "The coefficients in a linear equation give the expected change of the response variable given a one unit increase in each of the independent variables. So this says that a one unit increase in carat is expected to increase the price of a diamond by \\$7953.94, while a one unit increase in depth _decreases_ the price of a diamond by an average of \\$64.78. Units are important here: the changes are in dollars because the response variable was in dollars.\n",
    "\n",
    "Some attention needs to be paid to the interpretation of the categorical variables. Note that there's a missing category."
   ]
  },
  {
   "cell_type": "code",
   "execution_count": 29,
   "metadata": {},
   "outputs": [
    {
     "data": {
      "text/plain": [
       "array(['Premium', 'Good', 'Ideal', 'Very Good', 'Fair'], dtype=object)"
      ]
     },
     "execution_count": 29,
     "metadata": {},
     "output_type": "execute_result"
    }
   ],
   "source": [
    "diamonds['cut'].unique()"
   ]
  },
  {
   "cell_type": "markdown",
   "metadata": {},
   "source": [
    "The level \"Fair\" was left out. This is due to the slightly technical issue of _multicollinearity_. If all five categories were converted to dummy variables, then the sum of the five dummy variables would _always_ be 1. If some combination of variables adds up to a constant, then there is no solution to the linear regression problem (this is only true when our regression formula includes a constant term, but for our purposes it always will). So `statsmodels` chooses a class to serve as a _reference class_: in this case, it chose `Fair`. When a diamond is of cut `Fair`, all of the dummy variables are equal to 0, and so the price of the diamond is determined by the carat, depth and table. The coefficients on each of the dummy variables give the _difference in price_ between the reference class and the dummy variable's class. So the coefficient 1,482.76 on the _ideal_ dummy variable says that given two diamonds with identical weight, depth, and table, but one is of fair cut and the other is of ideal cut, the ideal cut diamond will be \\$1.482.76 more expensive on average. \n",
    "\n",
    "#### Problems\n",
    "\n",
    "Without using `diamond_reg.predict()`, \n",
    "\n",
    "1. Find the estimated price of a premium cut 1.8 carat diamond with table equal to 55 depth equal to 62\n",
    "2. Find the estimated price of a fair cut 2 carat diamond with table equal to 55 and depth equal to 62"
   ]
  },
  {
   "cell_type": "markdown",
   "metadata": {},
   "source": [
    "### Nonlinear transformations\n",
    "\n",
    "Linear regression is inherently _linear_ – ergo the name – but it is possible to introduce nonlinearities into a linear regression model by transforming the features or the response variable.\n",
    "\n",
    "There are a few nonlinear transformations that tend to be useful for regression modelling.\n",
    "\n",
    "#### Logarithms\n",
    "\n",
    "Logarithms are an important non-linear transformation in linear regression. Recall that for a number $x$, the natural logarithm $z=\\ln(x)$ is the number $z$ such that $x=e^z$ where $e=2.71828...$ is Euler's constant. This number and the associated transformations are important in mathematical analysis, and so `numpy`'s `np.exp` and `np.log` functions use the natural exponential and logarithm by default."
   ]
  },
  {
   "cell_type": "code",
   "execution_count": 30,
   "metadata": {},
   "outputs": [
    {
     "data": {
      "text/plain": [
       "2.718281828459045"
      ]
     },
     "execution_count": 30,
     "metadata": {},
     "output_type": "execute_result"
    }
   ],
   "source": [
    "np.exp(1)"
   ]
  },
  {
   "cell_type": "markdown",
   "metadata": {},
   "source": [
    "A common type of transformation is to take the natural logarithm of either the response variable, some or all of the dependent variables, or both. To see why this is a useful transformation, we'll need to do some math. Consider the linear equation $$\\ln (y) = \\beta_0 + \\beta_1\\ln(x)$$\n",
    "\n",
    "It is common to refer to this as a _log-log model_, since we are taking the logarithm of both the dependent and independent variables.\n",
    "\n",
    "Taking the exponential of both sides of the equation, we get \n",
    "$$\\begin{align}y &= e^{\\beta_0 + \\beta_1\\ln(x)} \\\\\n",
    "&=e^{\\beta_0} x^{\\beta_1} \\end{align}$$\n",
    "\n",
    "The upshot here is that **the log-log model represents _multiplicative_ rather than linear relationships between the independent and dependent variable**. \n",
    "\n",
    "Let's see if this type of model would be a better fit for the diamonds data. "
   ]
  },
  {
   "cell_type": "code",
   "execution_count": 31,
   "metadata": {},
   "outputs": [
    {
     "data": {
      "text/html": [
       "<table class=\"simpletable\">\n",
       "<caption>OLS Regression Results</caption>\n",
       "<tr>\n",
       "  <th>Dep. Variable:</th>      <td>np.log(price)</td>  <th>  R-squared:         </th> <td>   0.932</td> \n",
       "</tr>\n",
       "<tr>\n",
       "  <th>Model:</th>                   <td>OLS</td>       <th>  Adj. R-squared:    </th> <td>   0.932</td> \n",
       "</tr>\n",
       "<tr>\n",
       "  <th>Method:</th>             <td>Least Squares</td>  <th>  F-statistic:       </th> <td>1.360e+05</td>\n",
       "</tr>\n",
       "<tr>\n",
       "  <th>Date:</th>             <td>Wed, 12 Aug 2020</td> <th>  Prob (F-statistic):</th>  <td>  0.00</td>  \n",
       "</tr>\n",
       "<tr>\n",
       "  <th>Time:</th>                 <td>11:24:18</td>     <th>  Log-Likelihood:    </th> <td> -959.99</td> \n",
       "</tr>\n",
       "<tr>\n",
       "  <th>No. Observations:</th>      <td> 10000</td>      <th>  AIC:               </th> <td>   1924.</td> \n",
       "</tr>\n",
       "<tr>\n",
       "  <th>Df Residuals:</th>          <td>  9998</td>      <th>  BIC:               </th> <td>   1938.</td> \n",
       "</tr>\n",
       "<tr>\n",
       "  <th>Df Model:</th>              <td>     1</td>      <th>                     </th>     <td> </td>    \n",
       "</tr>\n",
       "<tr>\n",
       "  <th>Covariance Type:</th>      <td>nonrobust</td>    <th>                     </th>     <td> </td>    \n",
       "</tr>\n",
       "</table>\n",
       "<table class=\"simpletable\">\n",
       "<tr>\n",
       "        <td></td>           <th>coef</th>     <th>std err</th>      <th>t</th>      <th>P>|t|</th>  <th>[0.025</th>    <th>0.975]</th>  \n",
       "</tr>\n",
       "<tr>\n",
       "  <th>Intercept</th>     <td>    8.4515</td> <td>    0.003</td> <td> 2630.086</td> <td> 0.000</td> <td>    8.445</td> <td>    8.458</td>\n",
       "</tr>\n",
       "<tr>\n",
       "  <th>np.log(carat)</th> <td>    1.6848</td> <td>    0.005</td> <td>  368.776</td> <td> 0.000</td> <td>    1.676</td> <td>    1.694</td>\n",
       "</tr>\n",
       "</table>\n",
       "<table class=\"simpletable\">\n",
       "<tr>\n",
       "  <th>Omnibus:</th>       <td>152.888</td> <th>  Durbin-Watson:     </th> <td>   1.983</td>\n",
       "</tr>\n",
       "<tr>\n",
       "  <th>Prob(Omnibus):</th> <td> 0.000</td>  <th>  Jarque-Bera (JB):  </th> <td> 278.890</td>\n",
       "</tr>\n",
       "<tr>\n",
       "  <th>Skew:</th>          <td> 0.081</td>  <th>  Prob(JB):          </th> <td>2.75e-61</td>\n",
       "</tr>\n",
       "<tr>\n",
       "  <th>Kurtosis:</th>      <td> 3.802</td>  <th>  Cond. No.          </th> <td>    2.08</td>\n",
       "</tr>\n",
       "</table><br/><br/>Warnings:<br/>[1] Standard Errors assume that the covariance matrix of the errors is correctly specified."
      ],
      "text/plain": [
       "<class 'statsmodels.iolib.summary.Summary'>\n",
       "\"\"\"\n",
       "                            OLS Regression Results                            \n",
       "==============================================================================\n",
       "Dep. Variable:          np.log(price)   R-squared:                       0.932\n",
       "Model:                            OLS   Adj. R-squared:                  0.932\n",
       "Method:                 Least Squares   F-statistic:                 1.360e+05\n",
       "Date:                Wed, 12 Aug 2020   Prob (F-statistic):               0.00\n",
       "Time:                        11:24:18   Log-Likelihood:                -959.99\n",
       "No. Observations:               10000   AIC:                             1924.\n",
       "Df Residuals:                    9998   BIC:                             1938.\n",
       "Df Model:                           1                                         \n",
       "Covariance Type:            nonrobust                                         \n",
       "=================================================================================\n",
       "                    coef    std err          t      P>|t|      [0.025      0.975]\n",
       "---------------------------------------------------------------------------------\n",
       "Intercept         8.4515      0.003   2630.086      0.000       8.445       8.458\n",
       "np.log(carat)     1.6848      0.005    368.776      0.000       1.676       1.694\n",
       "==============================================================================\n",
       "Omnibus:                      152.888   Durbin-Watson:                   1.983\n",
       "Prob(Omnibus):                  0.000   Jarque-Bera (JB):              278.890\n",
       "Skew:                           0.081   Prob(JB):                     2.75e-61\n",
       "Kurtosis:                       3.802   Cond. No.                         2.08\n",
       "==============================================================================\n",
       "\n",
       "Warnings:\n",
       "[1] Standard Errors assume that the covariance matrix of the errors is correctly specified.\n",
       "\"\"\""
      ]
     },
     "execution_count": 31,
     "metadata": {},
     "output_type": "execute_result"
    }
   ],
   "source": [
    "logmodel = smf.ols(\"np.log(price) ~ np.log(carat)\", diamonds).fit()\n",
    "logmodel.summary()"
   ]
  },
  {
   "cell_type": "code",
   "execution_count": 35,
   "metadata": {},
   "outputs": [
    {
     "data": {
      "text/html": [
       "<div>\n",
       "<style scoped>\n",
       "    .dataframe tbody tr th:only-of-type {\n",
       "        vertical-align: middle;\n",
       "    }\n",
       "\n",
       "    .dataframe tbody tr th {\n",
       "        vertical-align: top;\n",
       "    }\n",
       "\n",
       "    .dataframe thead th {\n",
       "        text-align: right;\n",
       "    }\n",
       "</style>\n",
       "<table border=\"1\" class=\"dataframe\">\n",
       "  <thead>\n",
       "    <tr style=\"text-align: right;\">\n",
       "      <th></th>\n",
       "      <th>carat</th>\n",
       "    </tr>\n",
       "  </thead>\n",
       "  <tbody>\n",
       "    <tr>\n",
       "      <th>0</th>\n",
       "      <td>0.00</td>\n",
       "    </tr>\n",
       "    <tr>\n",
       "      <th>1</th>\n",
       "      <td>0.02</td>\n",
       "    </tr>\n",
       "    <tr>\n",
       "      <th>2</th>\n",
       "      <td>0.04</td>\n",
       "    </tr>\n",
       "    <tr>\n",
       "      <th>3</th>\n",
       "      <td>0.06</td>\n",
       "    </tr>\n",
       "    <tr>\n",
       "      <th>4</th>\n",
       "      <td>0.08</td>\n",
       "    </tr>\n",
       "    <tr>\n",
       "      <th>5</th>\n",
       "      <td>0.10</td>\n",
       "    </tr>\n",
       "    <tr>\n",
       "      <th>6</th>\n",
       "      <td>0.12</td>\n",
       "    </tr>\n",
       "    <tr>\n",
       "      <th>7</th>\n",
       "      <td>0.14</td>\n",
       "    </tr>\n",
       "    <tr>\n",
       "      <th>8</th>\n",
       "      <td>0.16</td>\n",
       "    </tr>\n",
       "    <tr>\n",
       "      <th>9</th>\n",
       "      <td>0.18</td>\n",
       "    </tr>\n",
       "    <tr>\n",
       "      <th>10</th>\n",
       "      <td>0.20</td>\n",
       "    </tr>\n",
       "    <tr>\n",
       "      <th>11</th>\n",
       "      <td>0.22</td>\n",
       "    </tr>\n",
       "    <tr>\n",
       "      <th>12</th>\n",
       "      <td>0.24</td>\n",
       "    </tr>\n",
       "    <tr>\n",
       "      <th>13</th>\n",
       "      <td>0.26</td>\n",
       "    </tr>\n",
       "    <tr>\n",
       "      <th>14</th>\n",
       "      <td>0.28</td>\n",
       "    </tr>\n",
       "    <tr>\n",
       "      <th>15</th>\n",
       "      <td>0.30</td>\n",
       "    </tr>\n",
       "    <tr>\n",
       "      <th>16</th>\n",
       "      <td>0.32</td>\n",
       "    </tr>\n",
       "    <tr>\n",
       "      <th>17</th>\n",
       "      <td>0.34</td>\n",
       "    </tr>\n",
       "    <tr>\n",
       "      <th>18</th>\n",
       "      <td>0.36</td>\n",
       "    </tr>\n",
       "    <tr>\n",
       "      <th>19</th>\n",
       "      <td>0.38</td>\n",
       "    </tr>\n",
       "    <tr>\n",
       "      <th>20</th>\n",
       "      <td>0.40</td>\n",
       "    </tr>\n",
       "    <tr>\n",
       "      <th>21</th>\n",
       "      <td>0.42</td>\n",
       "    </tr>\n",
       "    <tr>\n",
       "      <th>22</th>\n",
       "      <td>0.44</td>\n",
       "    </tr>\n",
       "    <tr>\n",
       "      <th>23</th>\n",
       "      <td>0.46</td>\n",
       "    </tr>\n",
       "    <tr>\n",
       "      <th>24</th>\n",
       "      <td>0.48</td>\n",
       "    </tr>\n",
       "    <tr>\n",
       "      <th>25</th>\n",
       "      <td>0.50</td>\n",
       "    </tr>\n",
       "    <tr>\n",
       "      <th>26</th>\n",
       "      <td>0.52</td>\n",
       "    </tr>\n",
       "    <tr>\n",
       "      <th>27</th>\n",
       "      <td>0.54</td>\n",
       "    </tr>\n",
       "    <tr>\n",
       "      <th>28</th>\n",
       "      <td>0.56</td>\n",
       "    </tr>\n",
       "    <tr>\n",
       "      <th>29</th>\n",
       "      <td>0.58</td>\n",
       "    </tr>\n",
       "    <tr>\n",
       "      <th>...</th>\n",
       "      <td>...</td>\n",
       "    </tr>\n",
       "    <tr>\n",
       "      <th>170</th>\n",
       "      <td>3.40</td>\n",
       "    </tr>\n",
       "    <tr>\n",
       "      <th>171</th>\n",
       "      <td>3.42</td>\n",
       "    </tr>\n",
       "    <tr>\n",
       "      <th>172</th>\n",
       "      <td>3.44</td>\n",
       "    </tr>\n",
       "    <tr>\n",
       "      <th>173</th>\n",
       "      <td>3.46</td>\n",
       "    </tr>\n",
       "    <tr>\n",
       "      <th>174</th>\n",
       "      <td>3.48</td>\n",
       "    </tr>\n",
       "    <tr>\n",
       "      <th>175</th>\n",
       "      <td>3.50</td>\n",
       "    </tr>\n",
       "    <tr>\n",
       "      <th>176</th>\n",
       "      <td>3.52</td>\n",
       "    </tr>\n",
       "    <tr>\n",
       "      <th>177</th>\n",
       "      <td>3.54</td>\n",
       "    </tr>\n",
       "    <tr>\n",
       "      <th>178</th>\n",
       "      <td>3.56</td>\n",
       "    </tr>\n",
       "    <tr>\n",
       "      <th>179</th>\n",
       "      <td>3.58</td>\n",
       "    </tr>\n",
       "    <tr>\n",
       "      <th>180</th>\n",
       "      <td>3.60</td>\n",
       "    </tr>\n",
       "    <tr>\n",
       "      <th>181</th>\n",
       "      <td>3.62</td>\n",
       "    </tr>\n",
       "    <tr>\n",
       "      <th>182</th>\n",
       "      <td>3.64</td>\n",
       "    </tr>\n",
       "    <tr>\n",
       "      <th>183</th>\n",
       "      <td>3.66</td>\n",
       "    </tr>\n",
       "    <tr>\n",
       "      <th>184</th>\n",
       "      <td>3.68</td>\n",
       "    </tr>\n",
       "    <tr>\n",
       "      <th>185</th>\n",
       "      <td>3.70</td>\n",
       "    </tr>\n",
       "    <tr>\n",
       "      <th>186</th>\n",
       "      <td>3.72</td>\n",
       "    </tr>\n",
       "    <tr>\n",
       "      <th>187</th>\n",
       "      <td>3.74</td>\n",
       "    </tr>\n",
       "    <tr>\n",
       "      <th>188</th>\n",
       "      <td>3.76</td>\n",
       "    </tr>\n",
       "    <tr>\n",
       "      <th>189</th>\n",
       "      <td>3.78</td>\n",
       "    </tr>\n",
       "    <tr>\n",
       "      <th>190</th>\n",
       "      <td>3.80</td>\n",
       "    </tr>\n",
       "    <tr>\n",
       "      <th>191</th>\n",
       "      <td>3.82</td>\n",
       "    </tr>\n",
       "    <tr>\n",
       "      <th>192</th>\n",
       "      <td>3.84</td>\n",
       "    </tr>\n",
       "    <tr>\n",
       "      <th>193</th>\n",
       "      <td>3.86</td>\n",
       "    </tr>\n",
       "    <tr>\n",
       "      <th>194</th>\n",
       "      <td>3.88</td>\n",
       "    </tr>\n",
       "    <tr>\n",
       "      <th>195</th>\n",
       "      <td>3.90</td>\n",
       "    </tr>\n",
       "    <tr>\n",
       "      <th>196</th>\n",
       "      <td>3.92</td>\n",
       "    </tr>\n",
       "    <tr>\n",
       "      <th>197</th>\n",
       "      <td>3.94</td>\n",
       "    </tr>\n",
       "    <tr>\n",
       "      <th>198</th>\n",
       "      <td>3.96</td>\n",
       "    </tr>\n",
       "    <tr>\n",
       "      <th>199</th>\n",
       "      <td>3.98</td>\n",
       "    </tr>\n",
       "  </tbody>\n",
       "</table>\n",
       "<p>200 rows × 1 columns</p>\n",
       "</div>"
      ],
      "text/plain": [
       "     carat\n",
       "0     0.00\n",
       "1     0.02\n",
       "2     0.04\n",
       "3     0.06\n",
       "4     0.08\n",
       "5     0.10\n",
       "6     0.12\n",
       "7     0.14\n",
       "8     0.16\n",
       "9     0.18\n",
       "10    0.20\n",
       "11    0.22\n",
       "12    0.24\n",
       "13    0.26\n",
       "14    0.28\n",
       "15    0.30\n",
       "16    0.32\n",
       "17    0.34\n",
       "18    0.36\n",
       "19    0.38\n",
       "20    0.40\n",
       "21    0.42\n",
       "22    0.44\n",
       "23    0.46\n",
       "24    0.48\n",
       "25    0.50\n",
       "26    0.52\n",
       "27    0.54\n",
       "28    0.56\n",
       "29    0.58\n",
       "..     ...\n",
       "170   3.40\n",
       "171   3.42\n",
       "172   3.44\n",
       "173   3.46\n",
       "174   3.48\n",
       "175   3.50\n",
       "176   3.52\n",
       "177   3.54\n",
       "178   3.56\n",
       "179   3.58\n",
       "180   3.60\n",
       "181   3.62\n",
       "182   3.64\n",
       "183   3.66\n",
       "184   3.68\n",
       "185   3.70\n",
       "186   3.72\n",
       "187   3.74\n",
       "188   3.76\n",
       "189   3.78\n",
       "190   3.80\n",
       "191   3.82\n",
       "192   3.84\n",
       "193   3.86\n",
       "194   3.88\n",
       "195   3.90\n",
       "196   3.92\n",
       "197   3.94\n",
       "198   3.96\n",
       "199   3.98\n",
       "\n",
       "[200 rows x 1 columns]"
      ]
     },
     "execution_count": 35,
     "metadata": {},
     "output_type": "execute_result"
    }
   ],
   "source": [
    "pd.DataFrame({'carat': np.arange(0, 4, .02)})"
   ]
  },
  {
   "cell_type": "code",
   "execution_count": 32,
   "metadata": {},
   "outputs": [
    {
     "name": "stderr",
     "output_type": "stream",
     "text": [
      "/Users/williecostello/opt/anaconda3/lib/python3.7/site-packages/pandas/core/series.py:679: RuntimeWarning: divide by zero encountered in log\n",
      "  result = getattr(ufunc, method)(*inputs, **kwargs)\n"
     ]
    },
    {
     "data": {
      "text/plain": [
       "[<matplotlib.lines.Line2D at 0x7ffe73358350>]"
      ]
     },
     "execution_count": 32,
     "metadata": {},
     "output_type": "execute_result"
    },
    {
     "data": {
      "image/png": "[encoded data removed]",
      "text/plain": [
       "<Figure size 432x288 with 1 Axes>"
      ]
     },
     "metadata": {
      "needs_background": "light"
     },
     "output_type": "display_data"
    }
   ],
   "source": [
    "diamonds.plot.scatter(x='carat', y='price')\n",
    "plt.plot(np.arange(0, 4, .02), np.exp(logmodel.predict(pd.DataFrame({'carat': np.arange(0, 4, .02)}))), color = 'green')"
   ]
  },
  {
   "cell_type": "markdown",
   "metadata": {},
   "source": [
    "# Assignment 7\n",
    "\n",
    "1. Take the data we had for the tea cooling, and fit a linear regression model to it.  Use the `cooling1(t)` function to expand the data set to include the value for `t=6`.  Make a linear regression model for this new data set.  By adding a single data point, by how much did the slope of the regression model increase or decrease (as a percentage of the original slope)?\n",
    "\n",
    "2. Using the marketing data `MLR.csv` from the multiple linear regression section, create individual single linear regression models for budget vs sales and visits vs sales.  By what percentage were each of these models off from the value we got for `marketing_model(1.6, 2.1)`?\n",
    "\n",
    "3. Use the `customer_info.csv` for these questions.\n",
    "\n",
    " 1. The big Telecom that you work for is interested in the relationship between the number of employees who work at a company and how much they spend on different products. Perform two linear regressions, each with EMP as the independent variable, but with MOBILITY as the dependent variable in one and INTERNET as the dependent variable in the other. Describe in words the relationship between each of these revenue categories and the number of employees at a company. Do these results make sense to you? Why or why not?\n",
    "\n",
    " 2. We are now interested in how the relationship between Mobility revenue and employees changes across different industries. Pick two industries to investigate, and create two data frames, each with data on one of your chosen industries. Run a regression on each data frame to see how the relationship between the number of employees changes between industries. Describe your findings in words. (Note: it would be good if we could organize ourselves so that at least one person is doing each possible pair of industries.)\n",
    "\n",
    " 3. Repeat the same exercise with Internet revenue instead of Mobility.\n",
    " \n",
    " 4. (Optional) To see how effects differ across categorical variables using a regression, it is useful to use an interaction term. Use an interaction term to investigate the effect of employees on mobility across all industries.\n",
    " \n",
    " 5.  Use your findings to make a recommendation to the marketing team about how they could use information about how many employees work at companies to create campaigns with the highest return.\n",
    "\n",
    "4. (Bonus) Using the cooling model we made for the cup of tea, find the precise time (minutes, to within 2 decimal places) that the tea reaches room temperature. "
   ]
  },
  {
   "cell_type": "code",
   "execution_count": null,
   "metadata": {},
   "outputs": [],
   "source": []
  },
  {
   "cell_type": "markdown",
   "metadata": {},
   "source": [
    "<div id=\"container\" style=\"position:relative;\">\n",
    "<div style=\"position:relative; float:right\"><img style=\"height:25px\"\"width: 50px\" src =\"https://drive.google.com/uc?export=view&id=14VoXUJftgptWtdNhtNYVm6cjVmEWpki1\" />\n",
    "</div>\n",
    "</div>"
   ]
  }
 ],
 "metadata": {
  "kernelspec": {
   "display_name": "Python 3",
   "language": "python",
   "name": "python3"
  },
  "language_info": {
   "codemirror_mode": {
    "name": "ipython",
    "version": 3
   },
   "file_extension": ".py",
   "mimetype": "text/x-python",
   "name": "python",
   "nbconvert_exporter": "python",
   "pygments_lexer": "ipython3",
   "version": "3.8.5"
  }
 },
 "nbformat": 4,
 "nbformat_minor": 4
}
