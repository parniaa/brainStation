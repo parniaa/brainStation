{
 "cells": [
  {
   "cell_type": "markdown",
   "metadata": {},
   "source": [
    "<div id=\"container\" style=\"position:relative;\">\n",
    "<div style=\"float:left\"><h1> Model Validation </h1></div>\n",
    "<div style=\"position:relative; float:right\"><img style=\"height:65px\" src =\"https://drive.google.com/uc?export=view&id=1EnB0x-fdqMp6I5iMoEBBEuxB_s7AmE2k\" />\n",
    "</div>\n",
    "</div>\n"
   ]
  },
  {
   "cell_type": "markdown",
   "metadata": {
    "colab_type": "text",
    "id": "fjuMHlYwMvEE"
   },
   "source": [
    "Once we've created a model for our data set, how do we test how \"good\" our model is?  There are a number of statistical tools we can use to determine this, with different options for different kinds of models. "
   ]
  },
  {
   "cell_type": "code",
   "execution_count": 1,
   "metadata": {
    "colab": {},
    "colab_type": "code",
    "id": "uJ9ZX6ZkMvEF"
   },
   "outputs": [],
   "source": [
    "import pandas as pd\n",
    "import numpy as np\n",
    "from scipy import stats\n",
    "import matplotlib.pyplot as plt\n",
    "\n",
    "plt.rcParams['figure.figsize'] = (8.0, 6.0)"
   ]
  },
  {
   "cell_type": "markdown",
   "metadata": {
    "colab_type": "text",
    "id": "v-Z7jLkjMvE6"
   },
   "source": [
    "## Regression Model Evaluation\n",
    "\n",
    "In the continuous world, it is trivial to see if the `y` we predicted is the exact value. If I trained a model to predict house price, there is a notable difference if my predicted price is \\\\$50 off or \\\\$5,000,000 off from the true value. In other words, our evaluation metric needs to capture not only if we are wrong, but by how much.\n",
    "\n",
    "There are a number of metrics we can use. For a set of $n$ predictions $Z=\\{z_1,z_2,\\ldots,z_n\\}$, and corresponding observations $Y=\\{y_1,y_2,\\ldots,y_n\\}$, we have:\n",
    "\n",
    "1. **Mean-squared error** measures the average squared-distance between the observations and the model predictions. (This measure is not in the same units as the data.)\n",
    "$$  \\text{MSE} = \\frac{1}{n}\\sum_{i=1}^n(z_i-y_i)^2 $$\n",
    "\n",
    "2. **Mean absolute error** measures the average distance between the observations and the model predictions. (This measure is in the same units as the data.) \n",
    "$$ \\text{MAE} = \\frac{1}{n}\\sum_{i=1}^n \\big|z_i-y_i \\big| $$\n",
    "\n",
    "3. **Coefficient of determination**, often denoted $R^2$. \n",
    "$$ R^2 = 1 - \\frac{\\sum_{i=1}^n(z_i-y_i)^2}{\\sum_{i=1}^n(y_i-\\mu_Y)^2}  = 1-\\frac{\\text{MSE}}{n\\cdot{\\sigma_y}^2}$$\n",
    "\n",
    "$R^2$ values close to $1$ can indicate a good fit of an OLS linear regression model, though it does not guarantee it, as [Anscombe's Quartet](https://en.wikipedia.org/wiki/Anscombe%27s_quartet) shows: each model in the quartet has the same $R^2$ value.  Thus, the coefficient of determination should be used in conjunction with other measurements."
   ]
  },
  {
   "cell_type": "markdown",
   "metadata": {
    "colab_type": "text",
    "id": "v-Z7jLkjMvE6"
   },
   "source": [
    "Further information about these metrics is presented in the following table:\n",
    "\n",
    "| Metric | Name | sk-learn.metrics |Description |\n",
    "|:--|:--|:--|:--|\n",
    "|$\\text{RMSE}$| Root Mean Squared Error | `mean_squared_error(squared = False)`|<ul><li>The standard deviation of the residuals</li><li>Ranges from 0 to infinity, with 0 being a perfect fit and the larger the number the more error</li><li>Absolute measure of goodness of fit, and therefore cannot be used to compare across different data sets, but between models with the same dataset</li><li>Same units as the dependent variable. </li><li>Predictions farther away have a greater impact on the RMSE and is therefore sensitive to outliers</li></ul>|\n",
    "| $\\text{MAE}$ | Mean Absolute Error | `mean_absolute_error()` | <ul><li>The average absolute values of the errors between the true value and the predicted value</li><li>Similar to RMSE, Ranges from 0 to infinity with 0 being a perfect fit and is an absolute measure of fit</li><li>Predicted values father away contribute proportionally to the MAE and is therefore more robust to outliers than RMSE </li><li>Relatively intuitive and simple to explain regression metric. </li></ul> |\n",
    "|$R^2$ | Coefficient of Determination | `r2_score()` |<ul><li>Proportion of variance in the dependent variable that is predicted by the independent variables</li><li>Typically ranges from 0 to 1, with 1 being a perfect fit and 0 being no better than predicting the dependent variable with its mean</li><li>Relative measure of goodness of fit</li></ul> |"
   ]
  },
  {
   "cell_type": "markdown",
   "metadata": {
    "colab_type": "text",
    "id": "v-Z7jLkjMvE6"
   },
   "source": [
    "### Training/Test Sets\n",
    "\n",
    "How, then, do we use these metrics to validate our models? A popular way of validating models is by dividing your data set into two sections (not necessarily of equal size): a **training set** that will be used to create a model, and a **test** set to measure how accurately the model predicts those elements of the data set not included in the modeling procedure.\n",
    "\n",
    "Let's look at an example to see how these concepts work:"
   ]
  },
  {
   "cell_type": "code",
   "execution_count": 2,
   "metadata": {
    "colab": {},
    "colab_type": "code",
    "id": "Uge52Tf8MvE6"
   },
   "outputs": [],
   "source": [
    "from sklearn import model_selection, metrics"
   ]
  },
  {
   "cell_type": "code",
   "execution_count": 3,
   "metadata": {
    "colab": {},
    "colab_type": "code",
    "id": "de2xKxhVMvE7"
   },
   "outputs": [
    {
     "data": {
      "image/png": "[encoded data removed]",
      "text/plain": [
       "<Figure size 576x432 with 1 Axes>"
      ]
     },
     "metadata": {
      "needs_background": "light"
     },
     "output_type": "display_data"
    }
   ],
   "source": [
    "x = np.arange(0,20,1)\n",
    "y = [1.3, 2.2, 1.0, 3.1, 2.8, 1.5, 2.1, 2.6, 3.7, 3.5, 3.7, 2.9, 3.7, 4.0, 4.3, 4.7, 4.4, 3.9, 4.8, 4.4]\n",
    "plt.scatter(x,y);"
   ]
  },
  {
   "cell_type": "code",
   "execution_count": 4,
   "metadata": {
    "colab": {},
    "colab_type": "code",
    "id": "GHKuwo3-MvE-"
   },
   "outputs": [
    {
     "data": {
      "text/html": [
       "<div>\n",
       "<style scoped>\n",
       "    .dataframe tbody tr th:only-of-type {\n",
       "        vertical-align: middle;\n",
       "    }\n",
       "\n",
       "    .dataframe tbody tr th {\n",
       "        vertical-align: top;\n",
       "    }\n",
       "\n",
       "    .dataframe thead th {\n",
       "        text-align: right;\n",
       "    }\n",
       "</style>\n",
       "<table border=\"1\" class=\"dataframe\">\n",
       "  <thead>\n",
       "    <tr style=\"text-align: right;\">\n",
       "      <th></th>\n",
       "      <th>Data</th>\n",
       "    </tr>\n",
       "  </thead>\n",
       "  <tbody>\n",
       "    <tr>\n",
       "      <th>0</th>\n",
       "      <td>1.3</td>\n",
       "    </tr>\n",
       "    <tr>\n",
       "      <th>1</th>\n",
       "      <td>2.2</td>\n",
       "    </tr>\n",
       "    <tr>\n",
       "      <th>2</th>\n",
       "      <td>1.0</td>\n",
       "    </tr>\n",
       "    <tr>\n",
       "      <th>3</th>\n",
       "      <td>3.1</td>\n",
       "    </tr>\n",
       "    <tr>\n",
       "      <th>4</th>\n",
       "      <td>2.8</td>\n",
       "    </tr>\n",
       "    <tr>\n",
       "      <th>5</th>\n",
       "      <td>1.5</td>\n",
       "    </tr>\n",
       "    <tr>\n",
       "      <th>6</th>\n",
       "      <td>2.1</td>\n",
       "    </tr>\n",
       "    <tr>\n",
       "      <th>7</th>\n",
       "      <td>2.6</td>\n",
       "    </tr>\n",
       "    <tr>\n",
       "      <th>8</th>\n",
       "      <td>3.7</td>\n",
       "    </tr>\n",
       "    <tr>\n",
       "      <th>9</th>\n",
       "      <td>3.5</td>\n",
       "    </tr>\n",
       "    <tr>\n",
       "      <th>10</th>\n",
       "      <td>3.7</td>\n",
       "    </tr>\n",
       "    <tr>\n",
       "      <th>11</th>\n",
       "      <td>2.9</td>\n",
       "    </tr>\n",
       "    <tr>\n",
       "      <th>12</th>\n",
       "      <td>3.7</td>\n",
       "    </tr>\n",
       "    <tr>\n",
       "      <th>13</th>\n",
       "      <td>4.0</td>\n",
       "    </tr>\n",
       "    <tr>\n",
       "      <th>14</th>\n",
       "      <td>4.3</td>\n",
       "    </tr>\n",
       "    <tr>\n",
       "      <th>15</th>\n",
       "      <td>4.7</td>\n",
       "    </tr>\n",
       "    <tr>\n",
       "      <th>16</th>\n",
       "      <td>4.4</td>\n",
       "    </tr>\n",
       "    <tr>\n",
       "      <th>17</th>\n",
       "      <td>3.9</td>\n",
       "    </tr>\n",
       "    <tr>\n",
       "      <th>18</th>\n",
       "      <td>4.8</td>\n",
       "    </tr>\n",
       "    <tr>\n",
       "      <th>19</th>\n",
       "      <td>4.4</td>\n",
       "    </tr>\n",
       "  </tbody>\n",
       "</table>\n",
       "</div>"
      ],
      "text/plain": [
       "    Data\n",
       "0    1.3\n",
       "1    2.2\n",
       "2    1.0\n",
       "3    3.1\n",
       "4    2.8\n",
       "5    1.5\n",
       "6    2.1\n",
       "7    2.6\n",
       "8    3.7\n",
       "9    3.5\n",
       "10   3.7\n",
       "11   2.9\n",
       "12   3.7\n",
       "13   4.0\n",
       "14   4.3\n",
       "15   4.7\n",
       "16   4.4\n",
       "17   3.9\n",
       "18   4.8\n",
       "19   4.4"
      ]
     },
     "execution_count": 4,
     "metadata": {},
     "output_type": "execute_result"
    }
   ],
   "source": [
    "df = pd.DataFrame({'Data':y}, index=x)\n",
    "df"
   ]
  },
  {
   "cell_type": "markdown",
   "metadata": {
    "colab_type": "text",
    "id": "KFK149FtMvFA"
   },
   "source": [
    "For the purposes of example, we will use the following splits in the data:"
   ]
  },
  {
   "cell_type": "code",
   "execution_count": 5,
   "metadata": {
    "colab": {},
    "colab_type": "code",
    "id": "KbiobNDfMvFB"
   },
   "outputs": [],
   "source": [
    "tr1 = np.array([13,17,8,18,9,15,14,4,0,1,2,5,16,3,11])\n",
    "tst1 = np.array([19,12,6,7,10])"
   ]
  },
  {
   "cell_type": "code",
   "execution_count": 6,
   "metadata": {
    "colab": {},
    "colab_type": "code",
    "id": "yHH00Uv4MvFC"
   },
   "outputs": [
    {
     "data": {
      "text/html": [
       "<div>\n",
       "<style scoped>\n",
       "    .dataframe tbody tr th:only-of-type {\n",
       "        vertical-align: middle;\n",
       "    }\n",
       "\n",
       "    .dataframe tbody tr th {\n",
       "        vertical-align: top;\n",
       "    }\n",
       "\n",
       "    .dataframe thead th {\n",
       "        text-align: right;\n",
       "    }\n",
       "</style>\n",
       "<table border=\"1\" class=\"dataframe\">\n",
       "  <thead>\n",
       "    <tr style=\"text-align: right;\">\n",
       "      <th></th>\n",
       "      <th>Data</th>\n",
       "    </tr>\n",
       "  </thead>\n",
       "  <tbody>\n",
       "    <tr>\n",
       "      <th>13</th>\n",
       "      <td>4.0</td>\n",
       "    </tr>\n",
       "    <tr>\n",
       "      <th>17</th>\n",
       "      <td>3.9</td>\n",
       "    </tr>\n",
       "    <tr>\n",
       "      <th>8</th>\n",
       "      <td>3.7</td>\n",
       "    </tr>\n",
       "    <tr>\n",
       "      <th>18</th>\n",
       "      <td>4.8</td>\n",
       "    </tr>\n",
       "    <tr>\n",
       "      <th>9</th>\n",
       "      <td>3.5</td>\n",
       "    </tr>\n",
       "    <tr>\n",
       "      <th>15</th>\n",
       "      <td>4.7</td>\n",
       "    </tr>\n",
       "    <tr>\n",
       "      <th>14</th>\n",
       "      <td>4.3</td>\n",
       "    </tr>\n",
       "    <tr>\n",
       "      <th>4</th>\n",
       "      <td>2.8</td>\n",
       "    </tr>\n",
       "    <tr>\n",
       "      <th>0</th>\n",
       "      <td>1.3</td>\n",
       "    </tr>\n",
       "    <tr>\n",
       "      <th>1</th>\n",
       "      <td>2.2</td>\n",
       "    </tr>\n",
       "    <tr>\n",
       "      <th>2</th>\n",
       "      <td>1.0</td>\n",
       "    </tr>\n",
       "    <tr>\n",
       "      <th>5</th>\n",
       "      <td>1.5</td>\n",
       "    </tr>\n",
       "    <tr>\n",
       "      <th>16</th>\n",
       "      <td>4.4</td>\n",
       "    </tr>\n",
       "    <tr>\n",
       "      <th>3</th>\n",
       "      <td>3.1</td>\n",
       "    </tr>\n",
       "    <tr>\n",
       "      <th>11</th>\n",
       "      <td>2.9</td>\n",
       "    </tr>\n",
       "  </tbody>\n",
       "</table>\n",
       "</div>"
      ],
      "text/plain": [
       "    Data\n",
       "13   4.0\n",
       "17   3.9\n",
       "8    3.7\n",
       "18   4.8\n",
       "9    3.5\n",
       "15   4.7\n",
       "14   4.3\n",
       "4    2.8\n",
       "0    1.3\n",
       "1    2.2\n",
       "2    1.0\n",
       "5    1.5\n",
       "16   4.4\n",
       "3    3.1\n",
       "11   2.9"
      ]
     },
     "execution_count": 6,
     "metadata": {},
     "output_type": "execute_result"
    }
   ],
   "source": [
    "train = df.iloc[tr1]\n",
    "train"
   ]
  },
  {
   "cell_type": "code",
   "execution_count": 7,
   "metadata": {
    "colab": {},
    "colab_type": "code",
    "id": "aJhvBSI3MvFE"
   },
   "outputs": [
    {
     "data": {
      "text/html": [
       "<div>\n",
       "<style scoped>\n",
       "    .dataframe tbody tr th:only-of-type {\n",
       "        vertical-align: middle;\n",
       "    }\n",
       "\n",
       "    .dataframe tbody tr th {\n",
       "        vertical-align: top;\n",
       "    }\n",
       "\n",
       "    .dataframe thead th {\n",
       "        text-align: right;\n",
       "    }\n",
       "</style>\n",
       "<table border=\"1\" class=\"dataframe\">\n",
       "  <thead>\n",
       "    <tr style=\"text-align: right;\">\n",
       "      <th></th>\n",
       "      <th>Data</th>\n",
       "    </tr>\n",
       "  </thead>\n",
       "  <tbody>\n",
       "    <tr>\n",
       "      <th>19</th>\n",
       "      <td>4.4</td>\n",
       "    </tr>\n",
       "    <tr>\n",
       "      <th>12</th>\n",
       "      <td>3.7</td>\n",
       "    </tr>\n",
       "    <tr>\n",
       "      <th>6</th>\n",
       "      <td>2.1</td>\n",
       "    </tr>\n",
       "    <tr>\n",
       "      <th>7</th>\n",
       "      <td>2.6</td>\n",
       "    </tr>\n",
       "    <tr>\n",
       "      <th>10</th>\n",
       "      <td>3.7</td>\n",
       "    </tr>\n",
       "  </tbody>\n",
       "</table>\n",
       "</div>"
      ],
      "text/plain": [
       "    Data\n",
       "19   4.4\n",
       "12   3.7\n",
       "6    2.1\n",
       "7    2.6\n",
       "10   3.7"
      ]
     },
     "execution_count": 7,
     "metadata": {},
     "output_type": "execute_result"
    }
   ],
   "source": [
    "test = df.iloc[tst1]\n",
    "test"
   ]
  },
  {
   "cell_type": "markdown",
   "metadata": {
    "colab_type": "text",
    "id": "rIqqzFChMvFI"
   },
   "source": [
    "We can scatter plot the training and test data together:"
   ]
  },
  {
   "cell_type": "code",
   "execution_count": 8,
   "metadata": {
    "colab": {},
    "colab_type": "code",
    "id": "XbnpAa-YMvFJ"
   },
   "outputs": [
    {
     "data": {
      "image/png": "[encoded data removed]",
      "text/plain": [
       "<Figure size 576x432 with 1 Axes>"
      ]
     },
     "metadata": {
      "needs_background": "light"
     },
     "output_type": "display_data"
    }
   ],
   "source": [
    "plt.scatter(train.index,train['Data'],label='Training Data')\n",
    "plt.scatter(test.index,test['Data'],color='#00CC00',label='Test Data')\n",
    "plt.legend();"
   ]
  },
  {
   "cell_type": "markdown",
   "metadata": {
    "colab_type": "text",
    "id": "c9H85pHLMvFL"
   },
   "source": [
    "We run the linear regression on the training set only:"
   ]
  },
  {
   "cell_type": "code",
   "execution_count": 9,
   "metadata": {
    "colab": {},
    "colab_type": "code",
    "id": "RA5D4AavMvFM"
   },
   "outputs": [],
   "source": [
    "slope, intercept, r_value, p_value, slope_std_error = stats.linregress(train.index,train['Data'] )"
   ]
  },
  {
   "cell_type": "code",
   "execution_count": 10,
   "metadata": {
    "colab": {},
    "colab_type": "code",
    "id": "OSlDQc0aMvFP"
   },
   "outputs": [
    {
     "data": {
      "image/png": "[encoded data removed]",
      "text/plain": [
       "<Figure size 576x432 with 1 Axes>"
      ]
     },
     "metadata": {
      "needs_background": "light"
     },
     "output_type": "display_data"
    }
   ],
   "source": [
    "train_regr = intercept + slope * train.index\n",
    "\n",
    "plt.scatter(train.index,train['Data'])\n",
    "plt.plot(train.index,train_regr, color='red');"
   ]
  },
  {
   "cell_type": "markdown",
   "metadata": {
    "colab_type": "text",
    "id": "u0fVpMIMMvFQ"
   },
   "source": [
    "We compute the $R^2$ and MAE for the model on the *training set*:"
   ]
  },
  {
   "cell_type": "code",
   "execution_count": 11,
   "metadata": {
    "colab": {},
    "colab_type": "code",
    "id": "QwQ1sLgSMvFR"
   },
   "outputs": [
    {
     "data": {
      "text/plain": [
       "0.7647270112231006"
      ]
     },
     "execution_count": 11,
     "metadata": {},
     "output_type": "execute_result"
    }
   ],
   "source": [
    "metrics.r2_score(train['Data'], train_regr)"
   ]
  },
  {
   "cell_type": "code",
   "execution_count": 12,
   "metadata": {
    "colab": {},
    "colab_type": "code",
    "id": "gLaKp0ioMvFS"
   },
   "outputs": [
    {
     "data": {
      "text/plain": [
       "0.48667966845441246"
      ]
     },
     "execution_count": 12,
     "metadata": {},
     "output_type": "execute_result"
    }
   ],
   "source": [
    "metrics.mean_absolute_error(train['Data'], train_regr)"
   ]
  },
  {
   "cell_type": "markdown",
   "metadata": {
    "colab_type": "text",
    "id": "YbTPvKDWMvFT"
   },
   "source": [
    "Then we compare to the measures for the model on the *test set*:"
   ]
  },
  {
   "cell_type": "code",
   "execution_count": 13,
   "metadata": {
    "colab": {},
    "colab_type": "code",
    "id": "waGG8sQ7MvFU"
   },
   "outputs": [
    {
     "data": {
      "text/plain": [
       "0.7737577776759623"
      ]
     },
     "execution_count": 13,
     "metadata": {},
     "output_type": "execute_result"
    }
   ],
   "source": [
    "metrics.r2_score(test['Data'], intercept + slope*test.index)"
   ]
  },
  {
   "cell_type": "code",
   "execution_count": 14,
   "metadata": {
    "colab": {},
    "colab_type": "code",
    "id": "CeP0pqCPMvFW"
   },
   "outputs": [
    {
     "data": {
      "text/plain": [
       "0.3399609946367622"
      ]
     },
     "execution_count": 14,
     "metadata": {},
     "output_type": "execute_result"
    }
   ],
   "source": [
    "metrics.mean_absolute_error(test['Data'], intercept + slope*test.index)"
   ]
  },
  {
   "cell_type": "markdown",
   "metadata": {
    "colab_type": "text",
    "id": "UT6z55OQMvFX"
   },
   "source": [
    "Both the measures improved on the test data: $R^2$ got closer to $1$, and the MAE reduced in size. These are good signs for our model. Here is the regression line in comparison to the test data:"
   ]
  },
  {
   "cell_type": "code",
   "execution_count": 15,
   "metadata": {
    "colab": {},
    "colab_type": "code",
    "id": "ki6f3hprMvFY"
   },
   "outputs": [
    {
     "data": {
      "image/png": "[encoded data removed]",
      "text/plain": [
       "<Figure size 576x432 with 1 Axes>"
      ]
     },
     "metadata": {
      "needs_background": "light"
     },
     "output_type": "display_data"
    }
   ],
   "source": [
    "train_regr = intercept + slope * train.index\n",
    "\n",
    "plt.scatter(test.index,test['Data'])\n",
    "plt.plot(test.index,intercept + slope*test.index, color='red');"
   ]
  },
  {
   "cell_type": "markdown",
   "metadata": {
    "colab_type": "text",
    "id": "YEtnb9uPMvFa"
   },
   "source": [
    "And here is the whole data set together, plotted with the regression line:"
   ]
  },
  {
   "cell_type": "code",
   "execution_count": 16,
   "metadata": {
    "colab": {},
    "colab_type": "code",
    "id": "vHSCc5x0MvFd"
   },
   "outputs": [
    {
     "data": {
      "image/png": "[encoded data removed]",
      "text/plain": [
       "<Figure size 576x432 with 1 Axes>"
      ]
     },
     "metadata": {
      "needs_background": "light"
     },
     "output_type": "display_data"
    }
   ],
   "source": [
    "plt.scatter(train.index,train['Data'],label='Training Data')\n",
    "plt.scatter(test.index,test['Data'],color='#00CC00',label='Test Data')\n",
    "plt.plot(x,intercept + slope*x, color='red',label='Regression Model')\n",
    "plt.legend();"
   ]
  },
  {
   "cell_type": "markdown",
   "metadata": {
    "colab_type": "text",
    "id": "wK0HokL2MvFf"
   },
   "source": [
    "The metrics for the whole set are:"
   ]
  },
  {
   "cell_type": "code",
   "execution_count": 17,
   "metadata": {
    "colab": {},
    "colab_type": "code",
    "id": "EXAgHrBaMvFh"
   },
   "outputs": [
    {
     "name": "stdout",
     "output_type": "stream",
     "text": [
      "R-squared value is 0.7662829234694017\n",
      "MAE is 0.45\n",
      "Mean and std are 3.2299999999999995 1.1475832729789384\n"
     ]
    }
   ],
   "source": [
    "print('R-squared value is', metrics.r2_score(y, intercept + slope*x))\n",
    "print('MAE is', metrics.mean_absolute_error(y, intercept + slope*x))\n",
    "print('Mean and std are', df['Data'].mean(), df['Data'].std())"
   ]
  },
  {
   "cell_type": "markdown",
   "metadata": {
    "colab_type": "text",
    "id": "5sgbR9SuMvFj"
   },
   "source": [
    "The combination of the fairly high $R^2$, fairly low MAE on the scale of the data set, improvement of values from training to test, and a visual inspection of the model's graph show us that this model likely fits the data fairly well.  (One thing to keep in mind is the population size.)\n",
    "\n",
    "What if we had split it differently?  Since our data set is small, the model validation will be very sensitive to small changes, but for illustrative purposes we will try a random splitting:  we can use scikit-learn to split the data set into two sections.  If we do not specify a size for the test set, it will default to picking 25% of total data set size."
   ]
  },
  {
   "cell_type": "code",
   "execution_count": 18,
   "metadata": {
    "colab": {},
    "colab_type": "code",
    "id": "kZOj_VnPMvF9"
   },
   "outputs": [],
   "source": [
    "train1, test1 = model_selection.train_test_split(df, random_state=46)"
   ]
  },
  {
   "cell_type": "code",
   "execution_count": 19,
   "metadata": {
    "colab": {},
    "colab_type": "code",
    "id": "1e71r1pLMvFn"
   },
   "outputs": [
    {
     "data": {
      "text/plain": [
       "0.25"
      ]
     },
     "execution_count": 19,
     "metadata": {},
     "output_type": "execute_result"
    }
   ],
   "source": [
    "len(test1)/(len(train1)+len(test1))"
   ]
  },
  {
   "cell_type": "code",
   "execution_count": 20,
   "metadata": {
    "colab": {},
    "colab_type": "code",
    "id": "h-cUgkUoMvFp"
   },
   "outputs": [
    {
     "data": {
      "text/html": [
       "<div>\n",
       "<style scoped>\n",
       "    .dataframe tbody tr th:only-of-type {\n",
       "        vertical-align: middle;\n",
       "    }\n",
       "\n",
       "    .dataframe tbody tr th {\n",
       "        vertical-align: top;\n",
       "    }\n",
       "\n",
       "    .dataframe thead th {\n",
       "        text-align: right;\n",
       "    }\n",
       "</style>\n",
       "<table border=\"1\" class=\"dataframe\">\n",
       "  <thead>\n",
       "    <tr style=\"text-align: right;\">\n",
       "      <th></th>\n",
       "      <th>Data</th>\n",
       "    </tr>\n",
       "  </thead>\n",
       "  <tbody>\n",
       "    <tr>\n",
       "      <th>12</th>\n",
       "      <td>3.7</td>\n",
       "    </tr>\n",
       "    <tr>\n",
       "      <th>15</th>\n",
       "      <td>4.7</td>\n",
       "    </tr>\n",
       "    <tr>\n",
       "      <th>13</th>\n",
       "      <td>4.0</td>\n",
       "    </tr>\n",
       "    <tr>\n",
       "      <th>9</th>\n",
       "      <td>3.5</td>\n",
       "    </tr>\n",
       "    <tr>\n",
       "      <th>14</th>\n",
       "      <td>4.3</td>\n",
       "    </tr>\n",
       "    <tr>\n",
       "      <th>6</th>\n",
       "      <td>2.1</td>\n",
       "    </tr>\n",
       "    <tr>\n",
       "      <th>7</th>\n",
       "      <td>2.6</td>\n",
       "    </tr>\n",
       "    <tr>\n",
       "      <th>0</th>\n",
       "      <td>1.3</td>\n",
       "    </tr>\n",
       "    <tr>\n",
       "      <th>18</th>\n",
       "      <td>4.8</td>\n",
       "    </tr>\n",
       "    <tr>\n",
       "      <th>2</th>\n",
       "      <td>1.0</td>\n",
       "    </tr>\n",
       "    <tr>\n",
       "      <th>17</th>\n",
       "      <td>3.9</td>\n",
       "    </tr>\n",
       "    <tr>\n",
       "      <th>16</th>\n",
       "      <td>4.4</td>\n",
       "    </tr>\n",
       "    <tr>\n",
       "      <th>11</th>\n",
       "      <td>2.9</td>\n",
       "    </tr>\n",
       "    <tr>\n",
       "      <th>8</th>\n",
       "      <td>3.7</td>\n",
       "    </tr>\n",
       "    <tr>\n",
       "      <th>5</th>\n",
       "      <td>1.5</td>\n",
       "    </tr>\n",
       "  </tbody>\n",
       "</table>\n",
       "</div>"
      ],
      "text/plain": [
       "    Data\n",
       "12   3.7\n",
       "15   4.7\n",
       "13   4.0\n",
       "9    3.5\n",
       "14   4.3\n",
       "6    2.1\n",
       "7    2.6\n",
       "0    1.3\n",
       "18   4.8\n",
       "2    1.0\n",
       "17   3.9\n",
       "16   4.4\n",
       "11   2.9\n",
       "8    3.7\n",
       "5    1.5"
      ]
     },
     "execution_count": 20,
     "metadata": {},
     "output_type": "execute_result"
    }
   ],
   "source": [
    "train1"
   ]
  },
  {
   "cell_type": "code",
   "execution_count": 21,
   "metadata": {},
   "outputs": [
    {
     "data": {
      "text/html": [
       "<div>\n",
       "<style scoped>\n",
       "    .dataframe tbody tr th:only-of-type {\n",
       "        vertical-align: middle;\n",
       "    }\n",
       "\n",
       "    .dataframe tbody tr th {\n",
       "        vertical-align: top;\n",
       "    }\n",
       "\n",
       "    .dataframe thead th {\n",
       "        text-align: right;\n",
       "    }\n",
       "</style>\n",
       "<table border=\"1\" class=\"dataframe\">\n",
       "  <thead>\n",
       "    <tr style=\"text-align: right;\">\n",
       "      <th></th>\n",
       "      <th>Data</th>\n",
       "    </tr>\n",
       "  </thead>\n",
       "  <tbody>\n",
       "    <tr>\n",
       "      <th>1</th>\n",
       "      <td>2.2</td>\n",
       "    </tr>\n",
       "    <tr>\n",
       "      <th>3</th>\n",
       "      <td>3.1</td>\n",
       "    </tr>\n",
       "    <tr>\n",
       "      <th>4</th>\n",
       "      <td>2.8</td>\n",
       "    </tr>\n",
       "    <tr>\n",
       "      <th>10</th>\n",
       "      <td>3.7</td>\n",
       "    </tr>\n",
       "    <tr>\n",
       "      <th>19</th>\n",
       "      <td>4.4</td>\n",
       "    </tr>\n",
       "  </tbody>\n",
       "</table>\n",
       "</div>"
      ],
      "text/plain": [
       "    Data\n",
       "1    2.2\n",
       "3    3.1\n",
       "4    2.8\n",
       "10   3.7\n",
       "19   4.4"
      ]
     },
     "execution_count": 21,
     "metadata": {},
     "output_type": "execute_result"
    }
   ],
   "source": [
    "test1"
   ]
  },
  {
   "cell_type": "markdown",
   "metadata": {
    "colab_type": "text",
    "id": "lvUQZQS3MvFs"
   },
   "source": [
    "We run the linear regression on the training set only:"
   ]
  },
  {
   "cell_type": "code",
   "execution_count": 22,
   "metadata": {
    "colab": {},
    "colab_type": "code",
    "id": "hcEZ_kiHMvFs"
   },
   "outputs": [],
   "source": [
    "slope, intercept, r_value, p_value, slope_std_error = stats.linregress(train1.index,train1['Data'] )"
   ]
  },
  {
   "cell_type": "code",
   "execution_count": 23,
   "metadata": {
    "colab": {},
    "colab_type": "code",
    "id": "S-TJNaIAMvFu"
   },
   "outputs": [
    {
     "data": {
      "image/png": "[encoded data removed]",
      "text/plain": [
       "<Figure size 576x432 with 1 Axes>"
      ]
     },
     "metadata": {
      "needs_background": "light"
     },
     "output_type": "display_data"
    }
   ],
   "source": [
    "train_regr = intercept + slope * train1.index\n",
    "\n",
    "plt.scatter(train1.index,train1['Data'])\n",
    "plt.plot(train1.index,train_regr, color='red');"
   ]
  },
  {
   "cell_type": "markdown",
   "metadata": {
    "colab_type": "text",
    "id": "_fZDJAbBMvFx"
   },
   "source": [
    "We compute the $R^2$ and MAE for the model on the *training set*:"
   ]
  },
  {
   "cell_type": "code",
   "execution_count": 24,
   "metadata": {
    "colab": {},
    "colab_type": "code",
    "id": "5hXIxTrzMvF1"
   },
   "outputs": [
    {
     "data": {
      "text/plain": [
       "0.8615283209265324"
      ]
     },
     "execution_count": 24,
     "metadata": {},
     "output_type": "execute_result"
    }
   ],
   "source": [
    "metrics.r2_score(train1['Data'], train_regr)"
   ]
  },
  {
   "cell_type": "code",
   "execution_count": 25,
   "metadata": {
    "colab": {},
    "colab_type": "code",
    "id": "bi-xLoejMvF4"
   },
   "outputs": [
    {
     "data": {
      "text/plain": [
       "0.3669570707070707"
      ]
     },
     "execution_count": 25,
     "metadata": {},
     "output_type": "execute_result"
    }
   ],
   "source": [
    "metrics.mean_absolute_error(train1['Data'], train_regr)"
   ]
  },
  {
   "cell_type": "markdown",
   "metadata": {
    "colab_type": "text",
    "id": "4_otZFkbMvF6"
   },
   "source": [
    "Then we compare to the measures for the model on the *test set*:"
   ]
  },
  {
   "cell_type": "code",
   "execution_count": 26,
   "metadata": {
    "colab": {},
    "colab_type": "code",
    "id": "XiusRKvRMvF6"
   },
   "outputs": [
    {
     "data": {
      "text/plain": [
       "-0.5374479845707607"
      ]
     },
     "execution_count": 26,
     "metadata": {},
     "output_type": "execute_result"
    }
   ],
   "source": [
    "metrics.r2_score(test1['Data'], intercept + slope*test1.index)"
   ]
  },
  {
   "cell_type": "code",
   "execution_count": 27,
   "metadata": {
    "colab": {},
    "colab_type": "code",
    "id": "A1OCaOTIMvF8"
   },
   "outputs": [
    {
     "data": {
      "text/plain": [
       "0.8878977272727273"
      ]
     },
     "execution_count": 27,
     "metadata": {},
     "output_type": "execute_result"
    }
   ],
   "source": [
    "metrics.mean_absolute_error(test1['Data'], intercept + slope*test1.index)"
   ]
  },
  {
   "cell_type": "markdown",
   "metadata": {
    "colab_type": "text",
    "id": "Npj-7bJpMvF9"
   },
   "source": [
    "How do the training/test set metrics compare?  What can we conclude in this situation?\n",
    "\n",
    "Again, let us look at the test set against the model, and then the entire data set:"
   ]
  },
  {
   "cell_type": "code",
   "execution_count": 28,
   "metadata": {
    "colab": {},
    "colab_type": "code",
    "id": "kZOj_VnPMvF9"
   },
   "outputs": [
    {
     "data": {
      "image/png": "[encoded data removed]",
      "text/plain": [
       "<Figure size 576x432 with 1 Axes>"
      ]
     },
     "metadata": {
      "needs_background": "light"
     },
     "output_type": "display_data"
    }
   ],
   "source": [
    "train_regr = intercept + slope * train1.index\n",
    "\n",
    "plt.scatter(test1.index,test1['Data'])\n",
    "plt.plot(test1.index,intercept + slope*test1.index, color='red');"
   ]
  },
  {
   "cell_type": "markdown",
   "metadata": {
    "colab_type": "text",
    "id": "TkeZxC-wMvGD"
   },
   "source": [
    "And here is the whole data set together, plotted with the regression line:"
   ]
  },
  {
   "cell_type": "code",
   "execution_count": 29,
   "metadata": {
    "colab": {},
    "colab_type": "code",
    "id": "ix42NmyqMvGD"
   },
   "outputs": [
    {
     "data": {
      "image/png": "[encoded data removed]",
      "text/plain": [
       "<Figure size 576x432 with 1 Axes>"
      ]
     },
     "metadata": {
      "needs_background": "light"
     },
     "output_type": "display_data"
    }
   ],
   "source": [
    "plt.scatter(train1.index,train1['Data'],label='Training Data')\n",
    "plt.scatter(test1.index,test1['Data'],color='#00CC00',label='Test Data')\n",
    "plt.plot(x,intercept + slope*x, color='red',label='Regression Model')\n",
    "plt.legend();"
   ]
  },
  {
   "cell_type": "markdown",
   "metadata": {
    "colab_type": "text",
    "id": "NL4GoAyvMvGF"
   },
   "source": [
    "The metrics for the whole set are:"
   ]
  },
  {
   "cell_type": "code",
   "execution_count": 30,
   "metadata": {
    "colab": {},
    "colab_type": "code",
    "id": "WpGae5MBMvGF"
   },
   "outputs": [
    {
     "name": "stdout",
     "output_type": "stream",
     "text": [
      "R-squared value is 0.7020771136359256\n",
      "MAE is 0.497192234848485\n",
      "Mean and std are 3.2299999999999995 1.1475832729789384\n"
     ]
    }
   ],
   "source": [
    "print('R-squared value is', metrics.r2_score(y, intercept + slope*x))\n",
    "print('MAE is', metrics.mean_absolute_error(y, intercept + slope*x))\n",
    "print('Mean and std are', df['Data'].mean(), df['Data'].std())"
   ]
  },
  {
   "cell_type": "markdown",
   "metadata": {
    "colab_type": "text",
    "id": "TEoSvhm4MvGH"
   },
   "source": [
    "Based on these tests, how confident are we in our model?\n",
    "\n",
    "As a final example, let us look at a quadratic dataset, which as we saw in Unit 7 will make for a poor linear regression model:"
   ]
  },
  {
   "cell_type": "code",
   "execution_count": 31,
   "metadata": {
    "colab": {},
    "colab_type": "code",
    "id": "oa4Gif2mMvGH"
   },
   "outputs": [],
   "source": [
    "x_q = np.array([0,0.9,1.5,2.1,2.4,2.9,3.1,3.8,4.4,5.5])\n",
    "y_q = np.array([-7.3, -2.1, -0.45, 1.39, 1.14, 1.92, 2.05, 1.26, 0.09, -4.35])\n",
    "x_r = np.arange(0,6,0.01)"
   ]
  },
  {
   "cell_type": "code",
   "execution_count": 32,
   "metadata": {
    "colab": {},
    "colab_type": "code",
    "id": "i6xKHb0BMvGJ"
   },
   "outputs": [
    {
     "data": {
      "image/png": "[encoded data removed]",
      "text/plain": [
       "<Figure size 576x432 with 1 Axes>"
      ]
     },
     "metadata": {
      "needs_background": "light"
     },
     "output_type": "display_data"
    }
   ],
   "source": [
    "int_q, sl_q = np.polynomial.polynomial.polyfit(x_q, y_q, 1)\n",
    "plt.plot(x_q,int_q + sl_q*x_q , color='green');\n",
    "plt.scatter(x_q,y_q);"
   ]
  },
  {
   "cell_type": "markdown",
   "metadata": {
    "colab_type": "text",
    "id": "920y8LARMvGL"
   },
   "source": [
    "Inspection of the graph, combined with the very low $R^2$ score"
   ]
  },
  {
   "cell_type": "code",
   "execution_count": 33,
   "metadata": {
    "colab": {},
    "colab_type": "code",
    "id": "zm-7acefMvGM"
   },
   "outputs": [
    {
     "data": {
      "text/plain": [
       "0.11257750884403624"
      ]
     },
     "execution_count": 33,
     "metadata": {},
     "output_type": "execute_result"
    }
   ],
   "source": [
    " metrics.r2_score((x_q,y_q), (x_q,intercept + slope*x_q))"
   ]
  },
  {
   "cell_type": "markdown",
   "metadata": {
    "colab_type": "text",
    "id": "wbe5dCHtMvGO"
   },
   "source": [
    "helps convince us that this model is probably not very accurate for the data set."
   ]
  },
  {
   "cell_type": "markdown",
   "metadata": {
    "colab_type": "text",
    "id": "8Fo_oWlHMvGP"
   },
   "source": [
    "## Classification Model Evaluation\n",
    "\n",
    "We can apply the same techniques to validating classification models as seen in the previous unit.  In this case, we need to choose an appropriate metric to validate. While there are a number of choices, one of the most common is the accuracy of prediction.  First, let us pull in a data set and model:"
   ]
  },
  {
   "cell_type": "code",
   "execution_count": 34,
   "metadata": {
    "colab": {},
    "colab_type": "code",
    "id": "eVa_HEG6MvGR"
   },
   "outputs": [
    {
     "data": {
      "text/html": [
       "<div>\n",
       "<style scoped>\n",
       "    .dataframe tbody tr th:only-of-type {\n",
       "        vertical-align: middle;\n",
       "    }\n",
       "\n",
       "    .dataframe tbody tr th {\n",
       "        vertical-align: top;\n",
       "    }\n",
       "\n",
       "    .dataframe thead th {\n",
       "        text-align: right;\n",
       "    }\n",
       "</style>\n",
       "<table border=\"1\" class=\"dataframe\">\n",
       "  <thead>\n",
       "    <tr style=\"text-align: right;\">\n",
       "      <th></th>\n",
       "      <th>Legs</th>\n",
       "      <th>Cold or Warm Blooded</th>\n",
       "      <th>Covering</th>\n",
       "      <th>Aquatic</th>\n",
       "      <th>Aerial</th>\n",
       "      <th>Lays Eggs</th>\n",
       "      <th>Category</th>\n",
       "    </tr>\n",
       "  </thead>\n",
       "  <tbody>\n",
       "    <tr>\n",
       "      <th>Tree Frog</th>\n",
       "      <td>4</td>\n",
       "      <td>cold</td>\n",
       "      <td>none</td>\n",
       "      <td>partial</td>\n",
       "      <td>no</td>\n",
       "      <td>yes</td>\n",
       "      <td>amphibian</td>\n",
       "    </tr>\n",
       "    <tr>\n",
       "      <th>Cane Toad</th>\n",
       "      <td>4</td>\n",
       "      <td>cold</td>\n",
       "      <td>none</td>\n",
       "      <td>no</td>\n",
       "      <td>no</td>\n",
       "      <td>yes</td>\n",
       "      <td>amphibian</td>\n",
       "    </tr>\n",
       "    <tr>\n",
       "      <th>Ball Python</th>\n",
       "      <td>0</td>\n",
       "      <td>cold</td>\n",
       "      <td>scales</td>\n",
       "      <td>no</td>\n",
       "      <td>no</td>\n",
       "      <td>yes</td>\n",
       "      <td>reptile</td>\n",
       "    </tr>\n",
       "    <tr>\n",
       "      <th>Dove</th>\n",
       "      <td>2</td>\n",
       "      <td>warm</td>\n",
       "      <td>feathers</td>\n",
       "      <td>no</td>\n",
       "      <td>yes</td>\n",
       "      <td>yes</td>\n",
       "      <td>bird</td>\n",
       "    </tr>\n",
       "    <tr>\n",
       "      <th>Human</th>\n",
       "      <td>2</td>\n",
       "      <td>warm</td>\n",
       "      <td>hair</td>\n",
       "      <td>no</td>\n",
       "      <td>no</td>\n",
       "      <td>no</td>\n",
       "      <td>mammal</td>\n",
       "    </tr>\n",
       "    <tr>\n",
       "      <th>Lion</th>\n",
       "      <td>4</td>\n",
       "      <td>warm</td>\n",
       "      <td>fur</td>\n",
       "      <td>no</td>\n",
       "      <td>no</td>\n",
       "      <td>no</td>\n",
       "      <td>mammal</td>\n",
       "    </tr>\n",
       "    <tr>\n",
       "      <th>Chihuaha</th>\n",
       "      <td>4</td>\n",
       "      <td>warm</td>\n",
       "      <td>fur</td>\n",
       "      <td>no</td>\n",
       "      <td>no</td>\n",
       "      <td>no</td>\n",
       "      <td>mammal</td>\n",
       "    </tr>\n",
       "    <tr>\n",
       "      <th>Crow</th>\n",
       "      <td>2</td>\n",
       "      <td>warm</td>\n",
       "      <td>feathers</td>\n",
       "      <td>no</td>\n",
       "      <td>yes</td>\n",
       "      <td>yes</td>\n",
       "      <td>bird</td>\n",
       "    </tr>\n",
       "    <tr>\n",
       "      <th>Monitor Lizard</th>\n",
       "      <td>4</td>\n",
       "      <td>cold</td>\n",
       "      <td>none</td>\n",
       "      <td>no</td>\n",
       "      <td>no</td>\n",
       "      <td>yes</td>\n",
       "      <td>reptile</td>\n",
       "    </tr>\n",
       "    <tr>\n",
       "      <th>Veiled Chameleon</th>\n",
       "      <td>4</td>\n",
       "      <td>cold</td>\n",
       "      <td>scales</td>\n",
       "      <td>no</td>\n",
       "      <td>no</td>\n",
       "      <td>yes</td>\n",
       "      <td>reptile</td>\n",
       "    </tr>\n",
       "    <tr>\n",
       "      <th>Humpback Whale</th>\n",
       "      <td>0</td>\n",
       "      <td>warm</td>\n",
       "      <td>hair</td>\n",
       "      <td>yes</td>\n",
       "      <td>no</td>\n",
       "      <td>no</td>\n",
       "      <td>mammal</td>\n",
       "    </tr>\n",
       "    <tr>\n",
       "      <th>Eastern Newt</th>\n",
       "      <td>4</td>\n",
       "      <td>cold</td>\n",
       "      <td>none</td>\n",
       "      <td>partial</td>\n",
       "      <td>no</td>\n",
       "      <td>yes</td>\n",
       "      <td>amphibian</td>\n",
       "    </tr>\n",
       "    <tr>\n",
       "      <th>Falcon</th>\n",
       "      <td>2</td>\n",
       "      <td>warm</td>\n",
       "      <td>feathers</td>\n",
       "      <td>no</td>\n",
       "      <td>yes</td>\n",
       "      <td>yes</td>\n",
       "      <td>bird</td>\n",
       "    </tr>\n",
       "    <tr>\n",
       "      <th>Bat</th>\n",
       "      <td>2</td>\n",
       "      <td>warm</td>\n",
       "      <td>hair</td>\n",
       "      <td>no</td>\n",
       "      <td>yes</td>\n",
       "      <td>no</td>\n",
       "      <td>mammal</td>\n",
       "    </tr>\n",
       "    <tr>\n",
       "      <th>Barn Owl</th>\n",
       "      <td>2</td>\n",
       "      <td>warm</td>\n",
       "      <td>feathers</td>\n",
       "      <td>no</td>\n",
       "      <td>yes</td>\n",
       "      <td>yes</td>\n",
       "      <td>bird</td>\n",
       "    </tr>\n",
       "    <tr>\n",
       "      <th>Blue Tongued Skink</th>\n",
       "      <td>4</td>\n",
       "      <td>cold</td>\n",
       "      <td>scales</td>\n",
       "      <td>no</td>\n",
       "      <td>no</td>\n",
       "      <td>yes</td>\n",
       "      <td>reptile</td>\n",
       "    </tr>\n",
       "    <tr>\n",
       "      <th>Sea Turtle</th>\n",
       "      <td>4</td>\n",
       "      <td>cold</td>\n",
       "      <td>scales</td>\n",
       "      <td>yes</td>\n",
       "      <td>no</td>\n",
       "      <td>yes</td>\n",
       "      <td>reptile</td>\n",
       "    </tr>\n",
       "    <tr>\n",
       "      <th>Red back Salamander</th>\n",
       "      <td>4</td>\n",
       "      <td>cold</td>\n",
       "      <td>none</td>\n",
       "      <td>partial</td>\n",
       "      <td>no</td>\n",
       "      <td>yes</td>\n",
       "      <td>amphibian</td>\n",
       "    </tr>\n",
       "    <tr>\n",
       "      <th>Penguin</th>\n",
       "      <td>2</td>\n",
       "      <td>warm</td>\n",
       "      <td>feathers</td>\n",
       "      <td>partial</td>\n",
       "      <td>no</td>\n",
       "      <td>yes</td>\n",
       "      <td>bird</td>\n",
       "    </tr>\n",
       "    <tr>\n",
       "      <th>Parrot</th>\n",
       "      <td>2</td>\n",
       "      <td>warm</td>\n",
       "      <td>feathers</td>\n",
       "      <td>no</td>\n",
       "      <td>yes</td>\n",
       "      <td>yes</td>\n",
       "      <td>bird</td>\n",
       "    </tr>\n",
       "    <tr>\n",
       "      <th>Rabbit</th>\n",
       "      <td>4</td>\n",
       "      <td>warm</td>\n",
       "      <td>fur</td>\n",
       "      <td>no</td>\n",
       "      <td>no</td>\n",
       "      <td>no</td>\n",
       "      <td>mammal</td>\n",
       "    </tr>\n",
       "    <tr>\n",
       "      <th>Gorilla</th>\n",
       "      <td>2</td>\n",
       "      <td>warm</td>\n",
       "      <td>hair</td>\n",
       "      <td>no</td>\n",
       "      <td>no</td>\n",
       "      <td>no</td>\n",
       "      <td>mammal</td>\n",
       "    </tr>\n",
       "    <tr>\n",
       "      <th>Tasmanian Devil</th>\n",
       "      <td>4</td>\n",
       "      <td>warm</td>\n",
       "      <td>fur</td>\n",
       "      <td>no</td>\n",
       "      <td>no</td>\n",
       "      <td>no</td>\n",
       "      <td>mammal</td>\n",
       "    </tr>\n",
       "    <tr>\n",
       "      <th>Green Anaconda</th>\n",
       "      <td>0</td>\n",
       "      <td>cold</td>\n",
       "      <td>scales</td>\n",
       "      <td>yes</td>\n",
       "      <td>no</td>\n",
       "      <td>yes</td>\n",
       "      <td>reptile</td>\n",
       "    </tr>\n",
       "  </tbody>\n",
       "</table>\n",
       "</div>"
      ],
      "text/plain": [
       "                     Legs Cold or Warm Blooded  Covering  Aquatic Aerial  \\\n",
       "Tree Frog               4                 cold      none  partial     no   \n",
       "Cane Toad               4                 cold      none       no     no   \n",
       "Ball Python             0                 cold    scales       no     no   \n",
       "Dove                    2                 warm  feathers       no    yes   \n",
       "Human                   2                 warm      hair       no     no   \n",
       "Lion                    4                 warm       fur       no     no   \n",
       "Chihuaha                4                 warm       fur       no     no   \n",
       "Crow                    2                 warm  feathers       no    yes   \n",
       "Monitor Lizard          4                 cold      none       no     no   \n",
       "Veiled Chameleon        4                 cold    scales       no     no   \n",
       "Humpback Whale          0                 warm      hair      yes     no   \n",
       "Eastern Newt            4                 cold      none  partial     no   \n",
       "Falcon                  2                 warm  feathers       no    yes   \n",
       "Bat                     2                 warm      hair       no    yes   \n",
       "Barn Owl                2                 warm  feathers       no    yes   \n",
       "Blue Tongued Skink      4                 cold    scales       no     no   \n",
       "Sea Turtle              4                 cold    scales      yes     no   \n",
       "Red back Salamander     4                 cold      none  partial     no   \n",
       "Penguin                 2                 warm  feathers  partial     no   \n",
       "Parrot                  2                 warm  feathers       no    yes   \n",
       "Rabbit                  4                 warm       fur       no     no   \n",
       "Gorilla                 2                 warm      hair       no     no   \n",
       "Tasmanian Devil         4                 warm       fur       no     no   \n",
       "Green Anaconda          0                 cold    scales      yes     no   \n",
       "\n",
       "                    Lays Eggs   Category  \n",
       "Tree Frog                 yes  amphibian  \n",
       "Cane Toad                 yes  amphibian  \n",
       "Ball Python               yes    reptile  \n",
       "Dove                      yes       bird  \n",
       "Human                      no     mammal  \n",
       "Lion                       no     mammal  \n",
       "Chihuaha                   no     mammal  \n",
       "Crow                      yes       bird  \n",
       "Monitor Lizard            yes    reptile  \n",
       "Veiled Chameleon          yes    reptile  \n",
       "Humpback Whale             no     mammal  \n",
       "Eastern Newt              yes  amphibian  \n",
       "Falcon                    yes       bird  \n",
       "Bat                        no     mammal  \n",
       "Barn Owl                  yes       bird  \n",
       "Blue Tongued Skink        yes    reptile  \n",
       "Sea Turtle                yes    reptile  \n",
       "Red back Salamander       yes  amphibian  \n",
       "Penguin                   yes       bird  \n",
       "Parrot                    yes       bird  \n",
       "Rabbit                     no     mammal  \n",
       "Gorilla                    no     mammal  \n",
       "Tasmanian Devil            no     mammal  \n",
       "Green Anaconda            yes    reptile  "
      ]
     },
     "execution_count": 34,
     "metadata": {},
     "output_type": "execute_result"
    }
   ],
   "source": [
    "an = pd.read_csv('data/animals.csv',index_col=0)\n",
    "an"
   ]
  },
  {
   "cell_type": "markdown",
   "metadata": {
    "colab_type": "text",
    "id": "qbUA603LMvGR"
   },
   "source": [
    "We'll create two partitions of our data:"
   ]
  },
  {
   "cell_type": "code",
   "execution_count": 35,
   "metadata": {
    "colab": {},
    "colab_type": "code",
    "id": "hIKq6kNqMvGS"
   },
   "outputs": [],
   "source": [
    "train_c = an.iloc[[1,2,4,5,6,7,9,10,11,12,13,14,15,16,18,21,22,23]] \n",
    "test_c = an.iloc[[0,3,8,17,19,20]]"
   ]
  },
  {
   "cell_type": "code",
   "execution_count": 36,
   "metadata": {
    "colab": {},
    "colab_type": "code",
    "id": "z1x4SOOfMvGU"
   },
   "outputs": [
    {
     "data": {
      "text/html": [
       "<div>\n",
       "<style scoped>\n",
       "    .dataframe tbody tr th:only-of-type {\n",
       "        vertical-align: middle;\n",
       "    }\n",
       "\n",
       "    .dataframe tbody tr th {\n",
       "        vertical-align: top;\n",
       "    }\n",
       "\n",
       "    .dataframe thead th {\n",
       "        text-align: right;\n",
       "    }\n",
       "</style>\n",
       "<table border=\"1\" class=\"dataframe\">\n",
       "  <thead>\n",
       "    <tr style=\"text-align: right;\">\n",
       "      <th></th>\n",
       "      <th>Legs</th>\n",
       "      <th>Cold or Warm Blooded</th>\n",
       "      <th>Covering</th>\n",
       "      <th>Aquatic</th>\n",
       "      <th>Aerial</th>\n",
       "      <th>Lays Eggs</th>\n",
       "      <th>Category</th>\n",
       "    </tr>\n",
       "  </thead>\n",
       "  <tbody>\n",
       "    <tr>\n",
       "      <th>Cane Toad</th>\n",
       "      <td>4</td>\n",
       "      <td>cold</td>\n",
       "      <td>none</td>\n",
       "      <td>no</td>\n",
       "      <td>no</td>\n",
       "      <td>yes</td>\n",
       "      <td>amphibian</td>\n",
       "    </tr>\n",
       "    <tr>\n",
       "      <th>Ball Python</th>\n",
       "      <td>0</td>\n",
       "      <td>cold</td>\n",
       "      <td>scales</td>\n",
       "      <td>no</td>\n",
       "      <td>no</td>\n",
       "      <td>yes</td>\n",
       "      <td>reptile</td>\n",
       "    </tr>\n",
       "    <tr>\n",
       "      <th>Human</th>\n",
       "      <td>2</td>\n",
       "      <td>warm</td>\n",
       "      <td>hair</td>\n",
       "      <td>no</td>\n",
       "      <td>no</td>\n",
       "      <td>no</td>\n",
       "      <td>mammal</td>\n",
       "    </tr>\n",
       "    <tr>\n",
       "      <th>Lion</th>\n",
       "      <td>4</td>\n",
       "      <td>warm</td>\n",
       "      <td>fur</td>\n",
       "      <td>no</td>\n",
       "      <td>no</td>\n",
       "      <td>no</td>\n",
       "      <td>mammal</td>\n",
       "    </tr>\n",
       "    <tr>\n",
       "      <th>Chihuaha</th>\n",
       "      <td>4</td>\n",
       "      <td>warm</td>\n",
       "      <td>fur</td>\n",
       "      <td>no</td>\n",
       "      <td>no</td>\n",
       "      <td>no</td>\n",
       "      <td>mammal</td>\n",
       "    </tr>\n",
       "    <tr>\n",
       "      <th>Crow</th>\n",
       "      <td>2</td>\n",
       "      <td>warm</td>\n",
       "      <td>feathers</td>\n",
       "      <td>no</td>\n",
       "      <td>yes</td>\n",
       "      <td>yes</td>\n",
       "      <td>bird</td>\n",
       "    </tr>\n",
       "    <tr>\n",
       "      <th>Veiled Chameleon</th>\n",
       "      <td>4</td>\n",
       "      <td>cold</td>\n",
       "      <td>scales</td>\n",
       "      <td>no</td>\n",
       "      <td>no</td>\n",
       "      <td>yes</td>\n",
       "      <td>reptile</td>\n",
       "    </tr>\n",
       "    <tr>\n",
       "      <th>Humpback Whale</th>\n",
       "      <td>0</td>\n",
       "      <td>warm</td>\n",
       "      <td>hair</td>\n",
       "      <td>yes</td>\n",
       "      <td>no</td>\n",
       "      <td>no</td>\n",
       "      <td>mammal</td>\n",
       "    </tr>\n",
       "    <tr>\n",
       "      <th>Eastern Newt</th>\n",
       "      <td>4</td>\n",
       "      <td>cold</td>\n",
       "      <td>none</td>\n",
       "      <td>partial</td>\n",
       "      <td>no</td>\n",
       "      <td>yes</td>\n",
       "      <td>amphibian</td>\n",
       "    </tr>\n",
       "    <tr>\n",
       "      <th>Falcon</th>\n",
       "      <td>2</td>\n",
       "      <td>warm</td>\n",
       "      <td>feathers</td>\n",
       "      <td>no</td>\n",
       "      <td>yes</td>\n",
       "      <td>yes</td>\n",
       "      <td>bird</td>\n",
       "    </tr>\n",
       "    <tr>\n",
       "      <th>Bat</th>\n",
       "      <td>2</td>\n",
       "      <td>warm</td>\n",
       "      <td>hair</td>\n",
       "      <td>no</td>\n",
       "      <td>yes</td>\n",
       "      <td>no</td>\n",
       "      <td>mammal</td>\n",
       "    </tr>\n",
       "    <tr>\n",
       "      <th>Barn Owl</th>\n",
       "      <td>2</td>\n",
       "      <td>warm</td>\n",
       "      <td>feathers</td>\n",
       "      <td>no</td>\n",
       "      <td>yes</td>\n",
       "      <td>yes</td>\n",
       "      <td>bird</td>\n",
       "    </tr>\n",
       "    <tr>\n",
       "      <th>Blue Tongued Skink</th>\n",
       "      <td>4</td>\n",
       "      <td>cold</td>\n",
       "      <td>scales</td>\n",
       "      <td>no</td>\n",
       "      <td>no</td>\n",
       "      <td>yes</td>\n",
       "      <td>reptile</td>\n",
       "    </tr>\n",
       "    <tr>\n",
       "      <th>Sea Turtle</th>\n",
       "      <td>4</td>\n",
       "      <td>cold</td>\n",
       "      <td>scales</td>\n",
       "      <td>yes</td>\n",
       "      <td>no</td>\n",
       "      <td>yes</td>\n",
       "      <td>reptile</td>\n",
       "    </tr>\n",
       "    <tr>\n",
       "      <th>Penguin</th>\n",
       "      <td>2</td>\n",
       "      <td>warm</td>\n",
       "      <td>feathers</td>\n",
       "      <td>partial</td>\n",
       "      <td>no</td>\n",
       "      <td>yes</td>\n",
       "      <td>bird</td>\n",
       "    </tr>\n",
       "    <tr>\n",
       "      <th>Gorilla</th>\n",
       "      <td>2</td>\n",
       "      <td>warm</td>\n",
       "      <td>hair</td>\n",
       "      <td>no</td>\n",
       "      <td>no</td>\n",
       "      <td>no</td>\n",
       "      <td>mammal</td>\n",
       "    </tr>\n",
       "    <tr>\n",
       "      <th>Tasmanian Devil</th>\n",
       "      <td>4</td>\n",
       "      <td>warm</td>\n",
       "      <td>fur</td>\n",
       "      <td>no</td>\n",
       "      <td>no</td>\n",
       "      <td>no</td>\n",
       "      <td>mammal</td>\n",
       "    </tr>\n",
       "    <tr>\n",
       "      <th>Green Anaconda</th>\n",
       "      <td>0</td>\n",
       "      <td>cold</td>\n",
       "      <td>scales</td>\n",
       "      <td>yes</td>\n",
       "      <td>no</td>\n",
       "      <td>yes</td>\n",
       "      <td>reptile</td>\n",
       "    </tr>\n",
       "  </tbody>\n",
       "</table>\n",
       "</div>"
      ],
      "text/plain": [
       "                    Legs Cold or Warm Blooded  Covering  Aquatic Aerial  \\\n",
       "Cane Toad              4                 cold      none       no     no   \n",
       "Ball Python            0                 cold    scales       no     no   \n",
       "Human                  2                 warm      hair       no     no   \n",
       "Lion                   4                 warm       fur       no     no   \n",
       "Chihuaha               4                 warm       fur       no     no   \n",
       "Crow                   2                 warm  feathers       no    yes   \n",
       "Veiled Chameleon       4                 cold    scales       no     no   \n",
       "Humpback Whale         0                 warm      hair      yes     no   \n",
       "Eastern Newt           4                 cold      none  partial     no   \n",
       "Falcon                 2                 warm  feathers       no    yes   \n",
       "Bat                    2                 warm      hair       no    yes   \n",
       "Barn Owl               2                 warm  feathers       no    yes   \n",
       "Blue Tongued Skink     4                 cold    scales       no     no   \n",
       "Sea Turtle             4                 cold    scales      yes     no   \n",
       "Penguin                2                 warm  feathers  partial     no   \n",
       "Gorilla                2                 warm      hair       no     no   \n",
       "Tasmanian Devil        4                 warm       fur       no     no   \n",
       "Green Anaconda         0                 cold    scales      yes     no   \n",
       "\n",
       "                   Lays Eggs   Category  \n",
       "Cane Toad                yes  amphibian  \n",
       "Ball Python              yes    reptile  \n",
       "Human                     no     mammal  \n",
       "Lion                      no     mammal  \n",
       "Chihuaha                  no     mammal  \n",
       "Crow                     yes       bird  \n",
       "Veiled Chameleon         yes    reptile  \n",
       "Humpback Whale            no     mammal  \n",
       "Eastern Newt             yes  amphibian  \n",
       "Falcon                   yes       bird  \n",
       "Bat                       no     mammal  \n",
       "Barn Owl                 yes       bird  \n",
       "Blue Tongued Skink       yes    reptile  \n",
       "Sea Turtle               yes    reptile  \n",
       "Penguin                  yes       bird  \n",
       "Gorilla                   no     mammal  \n",
       "Tasmanian Devil           no     mammal  \n",
       "Green Anaconda           yes    reptile  "
      ]
     },
     "execution_count": 36,
     "metadata": {},
     "output_type": "execute_result"
    }
   ],
   "source": [
    "train_c"
   ]
  },
  {
   "cell_type": "code",
   "execution_count": 37,
   "metadata": {
    "colab": {},
    "colab_type": "code",
    "id": "67VTPszzMvGU"
   },
   "outputs": [
    {
     "data": {
      "text/html": [
       "<div>\n",
       "<style scoped>\n",
       "    .dataframe tbody tr th:only-of-type {\n",
       "        vertical-align: middle;\n",
       "    }\n",
       "\n",
       "    .dataframe tbody tr th {\n",
       "        vertical-align: top;\n",
       "    }\n",
       "\n",
       "    .dataframe thead th {\n",
       "        text-align: right;\n",
       "    }\n",
       "</style>\n",
       "<table border=\"1\" class=\"dataframe\">\n",
       "  <thead>\n",
       "    <tr style=\"text-align: right;\">\n",
       "      <th></th>\n",
       "      <th>Legs</th>\n",
       "      <th>Cold or Warm Blooded</th>\n",
       "      <th>Covering</th>\n",
       "      <th>Aquatic</th>\n",
       "      <th>Aerial</th>\n",
       "      <th>Lays Eggs</th>\n",
       "      <th>Category</th>\n",
       "    </tr>\n",
       "  </thead>\n",
       "  <tbody>\n",
       "    <tr>\n",
       "      <th>Tree Frog</th>\n",
       "      <td>4</td>\n",
       "      <td>cold</td>\n",
       "      <td>none</td>\n",
       "      <td>partial</td>\n",
       "      <td>no</td>\n",
       "      <td>yes</td>\n",
       "      <td>amphibian</td>\n",
       "    </tr>\n",
       "    <tr>\n",
       "      <th>Dove</th>\n",
       "      <td>2</td>\n",
       "      <td>warm</td>\n",
       "      <td>feathers</td>\n",
       "      <td>no</td>\n",
       "      <td>yes</td>\n",
       "      <td>yes</td>\n",
       "      <td>bird</td>\n",
       "    </tr>\n",
       "    <tr>\n",
       "      <th>Monitor Lizard</th>\n",
       "      <td>4</td>\n",
       "      <td>cold</td>\n",
       "      <td>none</td>\n",
       "      <td>no</td>\n",
       "      <td>no</td>\n",
       "      <td>yes</td>\n",
       "      <td>reptile</td>\n",
       "    </tr>\n",
       "    <tr>\n",
       "      <th>Red back Salamander</th>\n",
       "      <td>4</td>\n",
       "      <td>cold</td>\n",
       "      <td>none</td>\n",
       "      <td>partial</td>\n",
       "      <td>no</td>\n",
       "      <td>yes</td>\n",
       "      <td>amphibian</td>\n",
       "    </tr>\n",
       "    <tr>\n",
       "      <th>Parrot</th>\n",
       "      <td>2</td>\n",
       "      <td>warm</td>\n",
       "      <td>feathers</td>\n",
       "      <td>no</td>\n",
       "      <td>yes</td>\n",
       "      <td>yes</td>\n",
       "      <td>bird</td>\n",
       "    </tr>\n",
       "    <tr>\n",
       "      <th>Rabbit</th>\n",
       "      <td>4</td>\n",
       "      <td>warm</td>\n",
       "      <td>fur</td>\n",
       "      <td>no</td>\n",
       "      <td>no</td>\n",
       "      <td>no</td>\n",
       "      <td>mammal</td>\n",
       "    </tr>\n",
       "  </tbody>\n",
       "</table>\n",
       "</div>"
      ],
      "text/plain": [
       "                     Legs Cold or Warm Blooded  Covering  Aquatic Aerial  \\\n",
       "Tree Frog               4                 cold      none  partial     no   \n",
       "Dove                    2                 warm  feathers       no    yes   \n",
       "Monitor Lizard          4                 cold      none       no     no   \n",
       "Red back Salamander     4                 cold      none  partial     no   \n",
       "Parrot                  2                 warm  feathers       no    yes   \n",
       "Rabbit                  4                 warm       fur       no     no   \n",
       "\n",
       "                    Lays Eggs   Category  \n",
       "Tree Frog                 yes  amphibian  \n",
       "Dove                      yes       bird  \n",
       "Monitor Lizard            yes    reptile  \n",
       "Red back Salamander       yes  amphibian  \n",
       "Parrot                    yes       bird  \n",
       "Rabbit                     no     mammal  "
      ]
     },
     "execution_count": 37,
     "metadata": {},
     "output_type": "execute_result"
    }
   ],
   "source": [
    "test_c"
   ]
  },
  {
   "cell_type": "markdown",
   "metadata": {
    "colab_type": "text",
    "id": "TykvaOWmMvGW"
   },
   "source": [
    "Now we will use the LabelEncoder on each, and create a model on the training set."
   ]
  },
  {
   "cell_type": "code",
   "execution_count": 38,
   "metadata": {
    "colab": {},
    "colab_type": "code",
    "id": "MwVjNxGHMvGW"
   },
   "outputs": [
    {
     "data": {
      "text/html": [
       "<div>\n",
       "<style scoped>\n",
       "    .dataframe tbody tr th:only-of-type {\n",
       "        vertical-align: middle;\n",
       "    }\n",
       "\n",
       "    .dataframe tbody tr th {\n",
       "        vertical-align: top;\n",
       "    }\n",
       "\n",
       "    .dataframe thead th {\n",
       "        text-align: right;\n",
       "    }\n",
       "</style>\n",
       "<table border=\"1\" class=\"dataframe\">\n",
       "  <thead>\n",
       "    <tr style=\"text-align: right;\">\n",
       "      <th></th>\n",
       "      <th>Legs</th>\n",
       "      <th>Cold or Warm Blooded</th>\n",
       "      <th>Covering</th>\n",
       "      <th>Aquatic</th>\n",
       "      <th>Aerial</th>\n",
       "      <th>Lays Eggs</th>\n",
       "    </tr>\n",
       "  </thead>\n",
       "  <tbody>\n",
       "    <tr>\n",
       "      <th>Cane Toad</th>\n",
       "      <td>4</td>\n",
       "      <td>0</td>\n",
       "      <td>3</td>\n",
       "      <td>0</td>\n",
       "      <td>0</td>\n",
       "      <td>1</td>\n",
       "    </tr>\n",
       "    <tr>\n",
       "      <th>Ball Python</th>\n",
       "      <td>0</td>\n",
       "      <td>0</td>\n",
       "      <td>4</td>\n",
       "      <td>0</td>\n",
       "      <td>0</td>\n",
       "      <td>1</td>\n",
       "    </tr>\n",
       "    <tr>\n",
       "      <th>Human</th>\n",
       "      <td>2</td>\n",
       "      <td>1</td>\n",
       "      <td>2</td>\n",
       "      <td>0</td>\n",
       "      <td>0</td>\n",
       "      <td>0</td>\n",
       "    </tr>\n",
       "    <tr>\n",
       "      <th>Lion</th>\n",
       "      <td>4</td>\n",
       "      <td>1</td>\n",
       "      <td>1</td>\n",
       "      <td>0</td>\n",
       "      <td>0</td>\n",
       "      <td>0</td>\n",
       "    </tr>\n",
       "    <tr>\n",
       "      <th>Chihuaha</th>\n",
       "      <td>4</td>\n",
       "      <td>1</td>\n",
       "      <td>1</td>\n",
       "      <td>0</td>\n",
       "      <td>0</td>\n",
       "      <td>0</td>\n",
       "    </tr>\n",
       "    <tr>\n",
       "      <th>Crow</th>\n",
       "      <td>2</td>\n",
       "      <td>1</td>\n",
       "      <td>0</td>\n",
       "      <td>0</td>\n",
       "      <td>1</td>\n",
       "      <td>1</td>\n",
       "    </tr>\n",
       "    <tr>\n",
       "      <th>Veiled Chameleon</th>\n",
       "      <td>4</td>\n",
       "      <td>0</td>\n",
       "      <td>4</td>\n",
       "      <td>0</td>\n",
       "      <td>0</td>\n",
       "      <td>1</td>\n",
       "    </tr>\n",
       "    <tr>\n",
       "      <th>Humpback Whale</th>\n",
       "      <td>0</td>\n",
       "      <td>1</td>\n",
       "      <td>2</td>\n",
       "      <td>2</td>\n",
       "      <td>0</td>\n",
       "      <td>0</td>\n",
       "    </tr>\n",
       "    <tr>\n",
       "      <th>Eastern Newt</th>\n",
       "      <td>4</td>\n",
       "      <td>0</td>\n",
       "      <td>3</td>\n",
       "      <td>1</td>\n",
       "      <td>0</td>\n",
       "      <td>1</td>\n",
       "    </tr>\n",
       "    <tr>\n",
       "      <th>Falcon</th>\n",
       "      <td>2</td>\n",
       "      <td>1</td>\n",
       "      <td>0</td>\n",
       "      <td>0</td>\n",
       "      <td>1</td>\n",
       "      <td>1</td>\n",
       "    </tr>\n",
       "    <tr>\n",
       "      <th>Bat</th>\n",
       "      <td>2</td>\n",
       "      <td>1</td>\n",
       "      <td>2</td>\n",
       "      <td>0</td>\n",
       "      <td>1</td>\n",
       "      <td>0</td>\n",
       "    </tr>\n",
       "    <tr>\n",
       "      <th>Barn Owl</th>\n",
       "      <td>2</td>\n",
       "      <td>1</td>\n",
       "      <td>0</td>\n",
       "      <td>0</td>\n",
       "      <td>1</td>\n",
       "      <td>1</td>\n",
       "    </tr>\n",
       "    <tr>\n",
       "      <th>Blue Tongued Skink</th>\n",
       "      <td>4</td>\n",
       "      <td>0</td>\n",
       "      <td>4</td>\n",
       "      <td>0</td>\n",
       "      <td>0</td>\n",
       "      <td>1</td>\n",
       "    </tr>\n",
       "    <tr>\n",
       "      <th>Sea Turtle</th>\n",
       "      <td>4</td>\n",
       "      <td>0</td>\n",
       "      <td>4</td>\n",
       "      <td>2</td>\n",
       "      <td>0</td>\n",
       "      <td>1</td>\n",
       "    </tr>\n",
       "    <tr>\n",
       "      <th>Penguin</th>\n",
       "      <td>2</td>\n",
       "      <td>1</td>\n",
       "      <td>0</td>\n",
       "      <td>1</td>\n",
       "      <td>0</td>\n",
       "      <td>1</td>\n",
       "    </tr>\n",
       "    <tr>\n",
       "      <th>Gorilla</th>\n",
       "      <td>2</td>\n",
       "      <td>1</td>\n",
       "      <td>2</td>\n",
       "      <td>0</td>\n",
       "      <td>0</td>\n",
       "      <td>0</td>\n",
       "    </tr>\n",
       "    <tr>\n",
       "      <th>Tasmanian Devil</th>\n",
       "      <td>4</td>\n",
       "      <td>1</td>\n",
       "      <td>1</td>\n",
       "      <td>0</td>\n",
       "      <td>0</td>\n",
       "      <td>0</td>\n",
       "    </tr>\n",
       "    <tr>\n",
       "      <th>Green Anaconda</th>\n",
       "      <td>0</td>\n",
       "      <td>0</td>\n",
       "      <td>4</td>\n",
       "      <td>2</td>\n",
       "      <td>0</td>\n",
       "      <td>1</td>\n",
       "    </tr>\n",
       "  </tbody>\n",
       "</table>\n",
       "</div>"
      ],
      "text/plain": [
       "                    Legs  Cold or Warm Blooded  Covering  Aquatic  Aerial  \\\n",
       "Cane Toad              4                     0         3        0       0   \n",
       "Ball Python            0                     0         4        0       0   \n",
       "Human                  2                     1         2        0       0   \n",
       "Lion                   4                     1         1        0       0   \n",
       "Chihuaha               4                     1         1        0       0   \n",
       "Crow                   2                     1         0        0       1   \n",
       "Veiled Chameleon       4                     0         4        0       0   \n",
       "Humpback Whale         0                     1         2        2       0   \n",
       "Eastern Newt           4                     0         3        1       0   \n",
       "Falcon                 2                     1         0        0       1   \n",
       "Bat                    2                     1         2        0       1   \n",
       "Barn Owl               2                     1         0        0       1   \n",
       "Blue Tongued Skink     4                     0         4        0       0   \n",
       "Sea Turtle             4                     0         4        2       0   \n",
       "Penguin                2                     1         0        1       0   \n",
       "Gorilla                2                     1         2        0       0   \n",
       "Tasmanian Devil        4                     1         1        0       0   \n",
       "Green Anaconda         0                     0         4        2       0   \n",
       "\n",
       "                    Lays Eggs  \n",
       "Cane Toad                   1  \n",
       "Ball Python                 1  \n",
       "Human                       0  \n",
       "Lion                        0  \n",
       "Chihuaha                    0  \n",
       "Crow                        1  \n",
       "Veiled Chameleon            1  \n",
       "Humpback Whale              0  \n",
       "Eastern Newt                1  \n",
       "Falcon                      1  \n",
       "Bat                         0  \n",
       "Barn Owl                    1  \n",
       "Blue Tongued Skink          1  \n",
       "Sea Turtle                  1  \n",
       "Penguin                     1  \n",
       "Gorilla                     0  \n",
       "Tasmanian Devil             0  \n",
       "Green Anaconda              1  "
      ]
     },
     "execution_count": 38,
     "metadata": {},
     "output_type": "execute_result"
    }
   ],
   "source": [
    "from sklearn import model_selection, metrics, linear_model, datasets, feature_selection, tree\n",
    "from sklearn.preprocessing import LabelEncoder\n",
    "from collections import defaultdict\n",
    "\n",
    "d = defaultdict(LabelEncoder)\n",
    "\n",
    "animals = tree.DecisionTreeClassifier()\n",
    "le = LabelEncoder()\n",
    "tn1 = (train_c[['Cold or Warm Blooded','Covering','Aquatic','Aerial','Lays Eggs']]).apply(lambda x: d[x.name].fit_transform(x))\n",
    "train_encoded = pd.concat([train_c['Legs'],tn1],axis=1)\n",
    "\n",
    "train_encoded"
   ]
  },
  {
   "cell_type": "code",
   "execution_count": 39,
   "metadata": {
    "colab": {},
    "colab_type": "code",
    "id": "ZPRTegwpMvGY"
   },
   "outputs": [
    {
     "data": {
      "text/html": [
       "<div>\n",
       "<style scoped>\n",
       "    .dataframe tbody tr th:only-of-type {\n",
       "        vertical-align: middle;\n",
       "    }\n",
       "\n",
       "    .dataframe tbody tr th {\n",
       "        vertical-align: top;\n",
       "    }\n",
       "\n",
       "    .dataframe thead th {\n",
       "        text-align: right;\n",
       "    }\n",
       "</style>\n",
       "<table border=\"1\" class=\"dataframe\">\n",
       "  <thead>\n",
       "    <tr style=\"text-align: right;\">\n",
       "      <th></th>\n",
       "      <th>Legs</th>\n",
       "      <th>Cold or Warm Blooded</th>\n",
       "      <th>Covering</th>\n",
       "      <th>Aquatic</th>\n",
       "      <th>Aerial</th>\n",
       "      <th>Lays Eggs</th>\n",
       "    </tr>\n",
       "  </thead>\n",
       "  <tbody>\n",
       "    <tr>\n",
       "      <th>Tree Frog</th>\n",
       "      <td>4</td>\n",
       "      <td>0</td>\n",
       "      <td>2</td>\n",
       "      <td>1</td>\n",
       "      <td>0</td>\n",
       "      <td>1</td>\n",
       "    </tr>\n",
       "    <tr>\n",
       "      <th>Dove</th>\n",
       "      <td>2</td>\n",
       "      <td>1</td>\n",
       "      <td>0</td>\n",
       "      <td>0</td>\n",
       "      <td>1</td>\n",
       "      <td>1</td>\n",
       "    </tr>\n",
       "    <tr>\n",
       "      <th>Monitor Lizard</th>\n",
       "      <td>4</td>\n",
       "      <td>0</td>\n",
       "      <td>2</td>\n",
       "      <td>0</td>\n",
       "      <td>0</td>\n",
       "      <td>1</td>\n",
       "    </tr>\n",
       "    <tr>\n",
       "      <th>Red back Salamander</th>\n",
       "      <td>4</td>\n",
       "      <td>0</td>\n",
       "      <td>2</td>\n",
       "      <td>1</td>\n",
       "      <td>0</td>\n",
       "      <td>1</td>\n",
       "    </tr>\n",
       "    <tr>\n",
       "      <th>Parrot</th>\n",
       "      <td>2</td>\n",
       "      <td>1</td>\n",
       "      <td>0</td>\n",
       "      <td>0</td>\n",
       "      <td>1</td>\n",
       "      <td>1</td>\n",
       "    </tr>\n",
       "    <tr>\n",
       "      <th>Rabbit</th>\n",
       "      <td>4</td>\n",
       "      <td>1</td>\n",
       "      <td>1</td>\n",
       "      <td>0</td>\n",
       "      <td>0</td>\n",
       "      <td>0</td>\n",
       "    </tr>\n",
       "  </tbody>\n",
       "</table>\n",
       "</div>"
      ],
      "text/plain": [
       "                     Legs  Cold or Warm Blooded  Covering  Aquatic  Aerial  \\\n",
       "Tree Frog               4                     0         2        1       0   \n",
       "Dove                    2                     1         0        0       1   \n",
       "Monitor Lizard          4                     0         2        0       0   \n",
       "Red back Salamander     4                     0         2        1       0   \n",
       "Parrot                  2                     1         0        0       1   \n",
       "Rabbit                  4                     1         1        0       0   \n",
       "\n",
       "                     Lays Eggs  \n",
       "Tree Frog                    1  \n",
       "Dove                         1  \n",
       "Monitor Lizard               1  \n",
       "Red back Salamander          1  \n",
       "Parrot                       1  \n",
       "Rabbit                       0  "
      ]
     },
     "execution_count": 39,
     "metadata": {},
     "output_type": "execute_result"
    }
   ],
   "source": [
    "ts1 = (test_c[['Cold or Warm Blooded','Covering','Aquatic','Aerial','Lays Eggs']]).apply(lambda x: d[x.name].fit_transform(x))\n",
    "test_encoded = pd.concat([test_c['Legs'],ts1],axis=1)\n",
    "\n",
    "test_encoded"
   ]
  },
  {
   "cell_type": "code",
   "execution_count": 40,
   "metadata": {
    "colab": {},
    "colab_type": "code",
    "id": "i5w_aXpQMvGZ"
   },
   "outputs": [
    {
     "data": {
      "text/plain": [
       "DecisionTreeClassifier(ccp_alpha=0.0, class_weight=None, criterion='gini',\n",
       "                       max_depth=None, max_features=None, max_leaf_nodes=None,\n",
       "                       min_impurity_decrease=0.0, min_impurity_split=None,\n",
       "                       min_samples_leaf=1, min_samples_split=2,\n",
       "                       min_weight_fraction_leaf=0.0, presort='deprecated',\n",
       "                       random_state=None, splitter='best')"
      ]
     },
     "execution_count": 40,
     "metadata": {},
     "output_type": "execute_result"
    }
   ],
   "source": [
    "animals.fit(train_encoded, train_c['Category'])"
   ]
  },
  {
   "cell_type": "markdown",
   "metadata": {
    "colab_type": "text",
    "id": "TjkGXqTfMvGa"
   },
   "source": [
    "We can now compute the accuracy of the model's class prediction on the training set.  We imported sklearn's `metrics` package, and will be using the `accuracy_score` metric:"
   ]
  },
  {
   "cell_type": "code",
   "execution_count": 41,
   "metadata": {
    "colab": {},
    "colab_type": "code",
    "id": "s2cZPbX-MvGb"
   },
   "outputs": [
    {
     "name": "stdout",
     "output_type": "stream",
     "text": [
      "0.8333333333333334\n"
     ]
    }
   ],
   "source": [
    "# We use the model to predict the test_encoded data\n",
    "test_pred_class = animals.predict(test_encoded)\n",
    "\n",
    "print(metrics.accuracy_score(test_c['Category'], test_pred_class))"
   ]
  },
  {
   "cell_type": "markdown",
   "metadata": {
    "colab_type": "text",
    "id": "pBx0PnRtMvGc"
   },
   "source": [
    "So the prediction accuracy of our model was $\\cong 83.3\\%$, which is fairly high.  We can compare the predicted vs actual categories to see where the issue was:"
   ]
  },
  {
   "cell_type": "code",
   "execution_count": 42,
   "metadata": {
    "colab": {},
    "colab_type": "code",
    "id": "H3FYPVQtMvGd"
   },
   "outputs": [
    {
     "data": {
      "text/plain": [
       "array(['amphibian', 'bird', 'amphibian', 'amphibian', 'bird', 'mammal'],\n",
       "      dtype=object)"
      ]
     },
     "execution_count": 42,
     "metadata": {},
     "output_type": "execute_result"
    }
   ],
   "source": [
    "test_pred_class"
   ]
  },
  {
   "cell_type": "code",
   "execution_count": 43,
   "metadata": {
    "colab": {},
    "colab_type": "code",
    "id": "rS7lWYffMvGf"
   },
   "outputs": [
    {
     "data": {
      "text/plain": [
       "Tree Frog              amphibian\n",
       "Dove                        bird\n",
       "Monitor Lizard           reptile\n",
       "Red back Salamander    amphibian\n",
       "Parrot                      bird\n",
       "Rabbit                    mammal\n",
       "Name: Category, dtype: object"
      ]
     },
     "execution_count": 43,
     "metadata": {},
     "output_type": "execute_result"
    }
   ],
   "source": [
    "test_c['Category']"
   ]
  },
  {
   "cell_type": "markdown",
   "metadata": {
    "colab_type": "text",
    "id": "kFN6_fsFMvGg"
   },
   "source": [
    "One way we can visualize the results is with a *confusion matrix*.  When we have $n$ classes, a confusion matrix is an $n\\times n$ matrix, where the element in row $i$ column $j$ refers to the number of observations predicted to be in the class corresponding to $j$, but known to actually be in the class corresponding to $i$.  We can compute our confusion matrix via:"
   ]
  },
  {
   "cell_type": "code",
   "execution_count": 44,
   "metadata": {
    "colab": {},
    "colab_type": "code",
    "id": "PPK73-c4MvGh"
   },
   "outputs": [
    {
     "data": {
      "text/plain": [
       "array([[2, 0, 0, 0],\n",
       "       [0, 2, 0, 0],\n",
       "       [0, 0, 1, 0],\n",
       "       [1, 0, 0, 0]])"
      ]
     },
     "execution_count": 44,
     "metadata": {},
     "output_type": "execute_result"
    }
   ],
   "source": [
    "conf_matrix = metrics.confusion_matrix(test_c['Category'], test_pred_class,labels=['amphibian','bird','mammal','reptile'])\n",
    "conf_matrix"
   ]
  },
  {
   "cell_type": "markdown",
   "metadata": {
    "colab_type": "text",
    "id": "Yr-kLjg5MvGk"
   },
   "source": [
    "In other words:\n",
    "\n",
    "|      .                 |  Predicted Amphibian |  Predicted Bird | Predicted Mammal  | Predicted Reptile  |\n",
    "|---------------------:|:---------------------:|:---------------:|-------------------|--------------------|\n",
    "| **Actual Amphibian** |           2           |       0         |    0              |    0              |\n",
    "| **Actual Bird**      |            0          |        2        |    0              |    0              |\n",
    "| **Actual Mammal**    |             0         |         0       |    1              |    0              |\n",
    "| **Actual Reptile**   |              1        |          0      |    0              |    0              |\n",
    "\n",
    "There were two actual amphibians, and two correctly predicted amphibians.  There was one actual reptile, but it was incorrectly predicted to be a bird. There were 0 predicted actual reptiles. If we look at confusion tables for individual classes, we get a visualization of Type I/II errors: "
   ]
  },
  {
   "cell_type": "markdown",
   "metadata": {
    "colab_type": "text",
    "id": "U8ZKMlXvMvGk"
   },
   "source": [
    "|    .                  |  Predicted Reptile |  Predicted Non-Reptile | \n",
    "|---------------------:|:---------------------:|:---------------:|\n",
    "| **Actual Reptile**         |           0           |       1         |\n",
    "| **Actual Non-Reptile**      |            0          |        5        |\n",
    "\n",
    "There were 5 non-reptiles corrected predicted to be non-reptiles (true negatives), but there was 1 reptile incorrectly predicted to be a non-reptile (a false-negative).  "
   ]
  },
  {
   "cell_type": "markdown",
   "metadata": {
    "colab_type": "text",
    "id": "6lpAuWNHMvGk"
   },
   "source": [
    "## Cross-Validation\n",
    "\n",
    "For our validation technique, we split the data set into two sections to train and test.  Instead of doing this just once, we could do this multiple times, for different selections of testing and training data.  While there are a number of ways to do this, we will discuss **k-fold cross validation**.  In k-fold cross-validation, the original data set is divided randomly into $k$-many subsets of equal size.  For the first iteration of the validation, the first subset is set aside for testing, while the other $k-1$ subsets are used to train the data.  This process is repeated, changing which subset is the test set, until all possible combinations are exhausted.  "
   ]
  },
  {
   "cell_type": "markdown",
   "metadata": {
    "colab_type": "text",
    "id": "XB0WfBzKMvGk"
   },
   "source": [
    "<img src= \"https://drive.google.com/uc?export=view&id=1lPJqQt-txBOLkpFiA2fhgWAlJQ3l4cSk\" />"
   ]
  },
  {
   "cell_type": "markdown",
   "metadata": {
    "colab_type": "text",
    "id": "oFY1UA-WMvGk"
   },
   "source": [
    "We can use the `model_selection.KFold()` function in scikit-learn to create splits for us.  We define a variable name to be `model_selection.KFold()` with arguments `n_splits=` the number of splits we want, and `shuffle=True` if we want it to randomize the order of the index before splitting.  Doing this to our data set `df` from our linear regression model data from above:"
   ]
  },
  {
   "cell_type": "code",
   "execution_count": 45,
   "metadata": {
    "colab": {},
    "colab_type": "code",
    "id": "JEAgArv9MvGk"
   },
   "outputs": [],
   "source": [
    "kf = model_selection.KFold(n_splits=4, shuffle=True, random_state=24)"
   ]
  },
  {
   "cell_type": "markdown",
   "metadata": {
    "colab_type": "text",
    "id": "r6588zwTMvGo"
   },
   "source": [
    "We can then tell this `kf` instance to split our data frame into training and test data:"
   ]
  },
  {
   "cell_type": "code",
   "execution_count": 46,
   "metadata": {
    "colab": {},
    "colab_type": "code",
    "id": "oz2cb-4AMvGo"
   },
   "outputs": [
    {
     "name": "stdout",
     "output_type": "stream",
     "text": [
      "[ 0  1  2  3  4  7  8 10 11 12 14 15 16 18 19] [ 5  6  9 13 17]\n",
      "[ 0  1  2  3  4  5  6  9 11 12 13 15 17 18 19] [ 7  8 10 14 16]\n",
      "[ 0  1  2  3  4  5  6  7  8  9 10 13 14 16 17] [11 12 15 18 19]\n",
      "[ 5  6  7  8  9 10 11 12 13 14 15 16 17 18 19] [0 1 2 3 4]\n"
     ]
    }
   ],
   "source": [
    "for train, test in kf.split(df):\n",
    "    print(train, test)"
   ]
  },
  {
   "cell_type": "markdown",
   "metadata": {
    "colab_type": "text",
    "id": "vmLs9_D7MvGq"
   },
   "source": [
    "Now that we have four sets of training and test data, we could run the test above on each set to compare the $R^2$ and $MAE$, as well as the visualization of the models to see how well our linear regression model works.  We can set variables to each of the splits:"
   ]
  },
  {
   "cell_type": "code",
   "execution_count": 47,
   "metadata": {
    "colab": {},
    "colab_type": "code",
    "id": "T36my2baMvGr"
   },
   "outputs": [],
   "source": [
    "set1, set2, set3, set4 = kf.split(df)"
   ]
  },
  {
   "cell_type": "code",
   "execution_count": 48,
   "metadata": {
    "colab": {},
    "colab_type": "code",
    "id": "wFl54TkkMvGt"
   },
   "outputs": [
    {
     "data": {
      "text/plain": [
       "(array([ 0,  1,  2,  3,  4,  7,  8, 10, 11, 12, 14, 15, 16, 18, 19]),\n",
       " array([ 5,  6,  9, 13, 17]))"
      ]
     },
     "execution_count": 48,
     "metadata": {},
     "output_type": "execute_result"
    }
   ],
   "source": [
    "set1"
   ]
  },
  {
   "cell_type": "code",
   "execution_count": 49,
   "metadata": {
    "colab": {},
    "colab_type": "code",
    "id": "BTf6OI5wMvGu"
   },
   "outputs": [
    {
     "data": {
      "text/html": [
       "<div>\n",
       "<style scoped>\n",
       "    .dataframe tbody tr th:only-of-type {\n",
       "        vertical-align: middle;\n",
       "    }\n",
       "\n",
       "    .dataframe tbody tr th {\n",
       "        vertical-align: top;\n",
       "    }\n",
       "\n",
       "    .dataframe thead th {\n",
       "        text-align: right;\n",
       "    }\n",
       "</style>\n",
       "<table border=\"1\" class=\"dataframe\">\n",
       "  <thead>\n",
       "    <tr style=\"text-align: right;\">\n",
       "      <th></th>\n",
       "      <th>Data</th>\n",
       "    </tr>\n",
       "  </thead>\n",
       "  <tbody>\n",
       "    <tr>\n",
       "      <th>0</th>\n",
       "      <td>1.3</td>\n",
       "    </tr>\n",
       "    <tr>\n",
       "      <th>1</th>\n",
       "      <td>2.2</td>\n",
       "    </tr>\n",
       "    <tr>\n",
       "      <th>2</th>\n",
       "      <td>1.0</td>\n",
       "    </tr>\n",
       "    <tr>\n",
       "      <th>3</th>\n",
       "      <td>3.1</td>\n",
       "    </tr>\n",
       "    <tr>\n",
       "      <th>4</th>\n",
       "      <td>2.8</td>\n",
       "    </tr>\n",
       "    <tr>\n",
       "      <th>7</th>\n",
       "      <td>2.6</td>\n",
       "    </tr>\n",
       "    <tr>\n",
       "      <th>8</th>\n",
       "      <td>3.7</td>\n",
       "    </tr>\n",
       "    <tr>\n",
       "      <th>10</th>\n",
       "      <td>3.7</td>\n",
       "    </tr>\n",
       "    <tr>\n",
       "      <th>11</th>\n",
       "      <td>2.9</td>\n",
       "    </tr>\n",
       "    <tr>\n",
       "      <th>12</th>\n",
       "      <td>3.7</td>\n",
       "    </tr>\n",
       "    <tr>\n",
       "      <th>14</th>\n",
       "      <td>4.3</td>\n",
       "    </tr>\n",
       "    <tr>\n",
       "      <th>15</th>\n",
       "      <td>4.7</td>\n",
       "    </tr>\n",
       "    <tr>\n",
       "      <th>16</th>\n",
       "      <td>4.4</td>\n",
       "    </tr>\n",
       "    <tr>\n",
       "      <th>18</th>\n",
       "      <td>4.8</td>\n",
       "    </tr>\n",
       "    <tr>\n",
       "      <th>19</th>\n",
       "      <td>4.4</td>\n",
       "    </tr>\n",
       "  </tbody>\n",
       "</table>\n",
       "</div>"
      ],
      "text/plain": [
       "    Data\n",
       "0    1.3\n",
       "1    2.2\n",
       "2    1.0\n",
       "3    3.1\n",
       "4    2.8\n",
       "7    2.6\n",
       "8    3.7\n",
       "10   3.7\n",
       "11   2.9\n",
       "12   3.7\n",
       "14   4.3\n",
       "15   4.7\n",
       "16   4.4\n",
       "18   4.8\n",
       "19   4.4"
      ]
     },
     "execution_count": 49,
     "metadata": {},
     "output_type": "execute_result"
    }
   ],
   "source": [
    "df_train1 = df.iloc[set1[0],:]\n",
    "df_train1"
   ]
  },
  {
   "cell_type": "code",
   "execution_count": 50,
   "metadata": {
    "colab": {},
    "colab_type": "code",
    "id": "A-Yspq0tMvGv"
   },
   "outputs": [
    {
     "data": {
      "text/html": [
       "<div>\n",
       "<style scoped>\n",
       "    .dataframe tbody tr th:only-of-type {\n",
       "        vertical-align: middle;\n",
       "    }\n",
       "\n",
       "    .dataframe tbody tr th {\n",
       "        vertical-align: top;\n",
       "    }\n",
       "\n",
       "    .dataframe thead th {\n",
       "        text-align: right;\n",
       "    }\n",
       "</style>\n",
       "<table border=\"1\" class=\"dataframe\">\n",
       "  <thead>\n",
       "    <tr style=\"text-align: right;\">\n",
       "      <th></th>\n",
       "      <th>Data</th>\n",
       "    </tr>\n",
       "  </thead>\n",
       "  <tbody>\n",
       "    <tr>\n",
       "      <th>5</th>\n",
       "      <td>1.5</td>\n",
       "    </tr>\n",
       "    <tr>\n",
       "      <th>6</th>\n",
       "      <td>2.1</td>\n",
       "    </tr>\n",
       "    <tr>\n",
       "      <th>9</th>\n",
       "      <td>3.5</td>\n",
       "    </tr>\n",
       "    <tr>\n",
       "      <th>13</th>\n",
       "      <td>4.0</td>\n",
       "    </tr>\n",
       "    <tr>\n",
       "      <th>17</th>\n",
       "      <td>3.9</td>\n",
       "    </tr>\n",
       "  </tbody>\n",
       "</table>\n",
       "</div>"
      ],
      "text/plain": [
       "    Data\n",
       "5    1.5\n",
       "6    2.1\n",
       "9    3.5\n",
       "13   4.0\n",
       "17   3.9"
      ]
     },
     "execution_count": 50,
     "metadata": {},
     "output_type": "execute_result"
    }
   ],
   "source": [
    "df_test1 = df.iloc[set1[1],:]\n",
    "df_test1"
   ]
  },
  {
   "cell_type": "markdown",
   "metadata": {
    "colab_type": "text",
    "id": "-u4f3CcYMvGz"
   },
   "source": [
    "(Note that we use `.iloc[]` here because the split gives us *integer* indices.)  Now we can proceed by modelling and comparing each of the training/test sets, and collecting all of the metrics together."
   ]
  },
  {
   "cell_type": "markdown",
   "metadata": {
    "colab_type": "text",
    "id": "v57enxTiMvG0"
   },
   "source": [
    "### Classification Models\n",
    "\n",
    "Cross validation can also be used for classification models, using the appropriate metrics for comparing training/test sets.  For example, we could do a 3-fold cross validation on the animals set, splitting:"
   ]
  },
  {
   "cell_type": "code",
   "execution_count": 51,
   "metadata": {
    "colab": {},
    "colab_type": "code",
    "id": "LwbvRn0jMvG0"
   },
   "outputs": [
    {
     "name": "stdout",
     "output_type": "stream",
     "text": [
      "[ 0  1  2  3  4  7 10 11 12 14 15 17 19 20 22 23] [ 5  6  8  9 13 16 18 21]\n",
      "[ 0  1  2  3  4  5  6  8  9 13 15 16 17 18 20 21] [ 7 10 11 12 14 19 22 23]\n",
      "[ 5  6  7  8  9 10 11 12 13 14 16 18 19 21 22 23] [ 0  1  2  3  4 15 17 20]\n"
     ]
    }
   ],
   "source": [
    "kf3 = model_selection.KFold(n_splits=3, shuffle=True, random_state=24)\n",
    "for train, test in kf3.split(an):\n",
    "    print(train, test)"
   ]
  },
  {
   "cell_type": "code",
   "execution_count": 52,
   "metadata": {
    "colab": {},
    "colab_type": "code",
    "id": "rcmq0p_oMvG1"
   },
   "outputs": [
    {
     "data": {
      "text/html": [
       "<div>\n",
       "<style scoped>\n",
       "    .dataframe tbody tr th:only-of-type {\n",
       "        vertical-align: middle;\n",
       "    }\n",
       "\n",
       "    .dataframe tbody tr th {\n",
       "        vertical-align: top;\n",
       "    }\n",
       "\n",
       "    .dataframe thead th {\n",
       "        text-align: right;\n",
       "    }\n",
       "</style>\n",
       "<table border=\"1\" class=\"dataframe\">\n",
       "  <thead>\n",
       "    <tr style=\"text-align: right;\">\n",
       "      <th></th>\n",
       "      <th>Legs</th>\n",
       "      <th>Cold or Warm Blooded</th>\n",
       "      <th>Covering</th>\n",
       "      <th>Aquatic</th>\n",
       "      <th>Aerial</th>\n",
       "      <th>Lays Eggs</th>\n",
       "      <th>Category</th>\n",
       "    </tr>\n",
       "  </thead>\n",
       "  <tbody>\n",
       "    <tr>\n",
       "      <th>Tree Frog</th>\n",
       "      <td>4</td>\n",
       "      <td>cold</td>\n",
       "      <td>none</td>\n",
       "      <td>partial</td>\n",
       "      <td>no</td>\n",
       "      <td>yes</td>\n",
       "      <td>amphibian</td>\n",
       "    </tr>\n",
       "    <tr>\n",
       "      <th>Cane Toad</th>\n",
       "      <td>4</td>\n",
       "      <td>cold</td>\n",
       "      <td>none</td>\n",
       "      <td>no</td>\n",
       "      <td>no</td>\n",
       "      <td>yes</td>\n",
       "      <td>amphibian</td>\n",
       "    </tr>\n",
       "    <tr>\n",
       "      <th>Ball Python</th>\n",
       "      <td>0</td>\n",
       "      <td>cold</td>\n",
       "      <td>scales</td>\n",
       "      <td>no</td>\n",
       "      <td>no</td>\n",
       "      <td>yes</td>\n",
       "      <td>reptile</td>\n",
       "    </tr>\n",
       "    <tr>\n",
       "      <th>Dove</th>\n",
       "      <td>2</td>\n",
       "      <td>warm</td>\n",
       "      <td>feathers</td>\n",
       "      <td>no</td>\n",
       "      <td>yes</td>\n",
       "      <td>yes</td>\n",
       "      <td>bird</td>\n",
       "    </tr>\n",
       "    <tr>\n",
       "      <th>Human</th>\n",
       "      <td>2</td>\n",
       "      <td>warm</td>\n",
       "      <td>hair</td>\n",
       "      <td>no</td>\n",
       "      <td>no</td>\n",
       "      <td>no</td>\n",
       "      <td>mammal</td>\n",
       "    </tr>\n",
       "    <tr>\n",
       "      <th>Crow</th>\n",
       "      <td>2</td>\n",
       "      <td>warm</td>\n",
       "      <td>feathers</td>\n",
       "      <td>no</td>\n",
       "      <td>yes</td>\n",
       "      <td>yes</td>\n",
       "      <td>bird</td>\n",
       "    </tr>\n",
       "    <tr>\n",
       "      <th>Monitor Lizard</th>\n",
       "      <td>4</td>\n",
       "      <td>cold</td>\n",
       "      <td>none</td>\n",
       "      <td>no</td>\n",
       "      <td>no</td>\n",
       "      <td>yes</td>\n",
       "      <td>reptile</td>\n",
       "    </tr>\n",
       "    <tr>\n",
       "      <th>Humpback Whale</th>\n",
       "      <td>0</td>\n",
       "      <td>warm</td>\n",
       "      <td>hair</td>\n",
       "      <td>yes</td>\n",
       "      <td>no</td>\n",
       "      <td>no</td>\n",
       "      <td>mammal</td>\n",
       "    </tr>\n",
       "    <tr>\n",
       "      <th>Eastern Newt</th>\n",
       "      <td>4</td>\n",
       "      <td>cold</td>\n",
       "      <td>none</td>\n",
       "      <td>partial</td>\n",
       "      <td>no</td>\n",
       "      <td>yes</td>\n",
       "      <td>amphibian</td>\n",
       "    </tr>\n",
       "    <tr>\n",
       "      <th>Falcon</th>\n",
       "      <td>2</td>\n",
       "      <td>warm</td>\n",
       "      <td>feathers</td>\n",
       "      <td>no</td>\n",
       "      <td>yes</td>\n",
       "      <td>yes</td>\n",
       "      <td>bird</td>\n",
       "    </tr>\n",
       "    <tr>\n",
       "      <th>Barn Owl</th>\n",
       "      <td>2</td>\n",
       "      <td>warm</td>\n",
       "      <td>feathers</td>\n",
       "      <td>no</td>\n",
       "      <td>yes</td>\n",
       "      <td>yes</td>\n",
       "      <td>bird</td>\n",
       "    </tr>\n",
       "    <tr>\n",
       "      <th>Blue Tongued Skink</th>\n",
       "      <td>4</td>\n",
       "      <td>cold</td>\n",
       "      <td>scales</td>\n",
       "      <td>no</td>\n",
       "      <td>no</td>\n",
       "      <td>yes</td>\n",
       "      <td>reptile</td>\n",
       "    </tr>\n",
       "    <tr>\n",
       "      <th>Sea Turtle</th>\n",
       "      <td>4</td>\n",
       "      <td>cold</td>\n",
       "      <td>scales</td>\n",
       "      <td>yes</td>\n",
       "      <td>no</td>\n",
       "      <td>yes</td>\n",
       "      <td>reptile</td>\n",
       "    </tr>\n",
       "    <tr>\n",
       "      <th>Penguin</th>\n",
       "      <td>2</td>\n",
       "      <td>warm</td>\n",
       "      <td>feathers</td>\n",
       "      <td>partial</td>\n",
       "      <td>no</td>\n",
       "      <td>yes</td>\n",
       "      <td>bird</td>\n",
       "    </tr>\n",
       "    <tr>\n",
       "      <th>Parrot</th>\n",
       "      <td>2</td>\n",
       "      <td>warm</td>\n",
       "      <td>feathers</td>\n",
       "      <td>no</td>\n",
       "      <td>yes</td>\n",
       "      <td>yes</td>\n",
       "      <td>bird</td>\n",
       "    </tr>\n",
       "  </tbody>\n",
       "</table>\n",
       "</div>"
      ],
      "text/plain": [
       "                    Legs Cold or Warm Blooded  Covering  Aquatic Aerial  \\\n",
       "Tree Frog              4                 cold      none  partial     no   \n",
       "Cane Toad              4                 cold      none       no     no   \n",
       "Ball Python            0                 cold    scales       no     no   \n",
       "Dove                   2                 warm  feathers       no    yes   \n",
       "Human                  2                 warm      hair       no     no   \n",
       "Crow                   2                 warm  feathers       no    yes   \n",
       "Monitor Lizard         4                 cold      none       no     no   \n",
       "Humpback Whale         0                 warm      hair      yes     no   \n",
       "Eastern Newt           4                 cold      none  partial     no   \n",
       "Falcon                 2                 warm  feathers       no    yes   \n",
       "Barn Owl               2                 warm  feathers       no    yes   \n",
       "Blue Tongued Skink     4                 cold    scales       no     no   \n",
       "Sea Turtle             4                 cold    scales      yes     no   \n",
       "Penguin                2                 warm  feathers  partial     no   \n",
       "Parrot                 2                 warm  feathers       no    yes   \n",
       "\n",
       "                   Lays Eggs   Category  \n",
       "Tree Frog                yes  amphibian  \n",
       "Cane Toad                yes  amphibian  \n",
       "Ball Python              yes    reptile  \n",
       "Dove                     yes       bird  \n",
       "Human                     no     mammal  \n",
       "Crow                     yes       bird  \n",
       "Monitor Lizard           yes    reptile  \n",
       "Humpback Whale            no     mammal  \n",
       "Eastern Newt             yes  amphibian  \n",
       "Falcon                   yes       bird  \n",
       "Barn Owl                 yes       bird  \n",
       "Blue Tongued Skink       yes    reptile  \n",
       "Sea Turtle               yes    reptile  \n",
       "Penguin                  yes       bird  \n",
       "Parrot                   yes       bird  "
      ]
     },
     "execution_count": 52,
     "metadata": {},
     "output_type": "execute_result"
    }
   ],
   "source": [
    "an_set1, an_set2, an_set3 = kf3.split(an)\n",
    "\n",
    "# Training 1\n",
    "an.iloc[set1[0]]"
   ]
  },
  {
   "cell_type": "code",
   "execution_count": 53,
   "metadata": {
    "colab": {},
    "colab_type": "code",
    "id": "C3iwXso3MvG2"
   },
   "outputs": [
    {
     "data": {
      "text/html": [
       "<div>\n",
       "<style scoped>\n",
       "    .dataframe tbody tr th:only-of-type {\n",
       "        vertical-align: middle;\n",
       "    }\n",
       "\n",
       "    .dataframe tbody tr th {\n",
       "        vertical-align: top;\n",
       "    }\n",
       "\n",
       "    .dataframe thead th {\n",
       "        text-align: right;\n",
       "    }\n",
       "</style>\n",
       "<table border=\"1\" class=\"dataframe\">\n",
       "  <thead>\n",
       "    <tr style=\"text-align: right;\">\n",
       "      <th></th>\n",
       "      <th>Legs</th>\n",
       "      <th>Cold or Warm Blooded</th>\n",
       "      <th>Covering</th>\n",
       "      <th>Aquatic</th>\n",
       "      <th>Aerial</th>\n",
       "      <th>Lays Eggs</th>\n",
       "      <th>Category</th>\n",
       "    </tr>\n",
       "  </thead>\n",
       "  <tbody>\n",
       "    <tr>\n",
       "      <th>Lion</th>\n",
       "      <td>4</td>\n",
       "      <td>warm</td>\n",
       "      <td>fur</td>\n",
       "      <td>no</td>\n",
       "      <td>no</td>\n",
       "      <td>no</td>\n",
       "      <td>mammal</td>\n",
       "    </tr>\n",
       "    <tr>\n",
       "      <th>Chihuaha</th>\n",
       "      <td>4</td>\n",
       "      <td>warm</td>\n",
       "      <td>fur</td>\n",
       "      <td>no</td>\n",
       "      <td>no</td>\n",
       "      <td>no</td>\n",
       "      <td>mammal</td>\n",
       "    </tr>\n",
       "    <tr>\n",
       "      <th>Veiled Chameleon</th>\n",
       "      <td>4</td>\n",
       "      <td>cold</td>\n",
       "      <td>scales</td>\n",
       "      <td>no</td>\n",
       "      <td>no</td>\n",
       "      <td>yes</td>\n",
       "      <td>reptile</td>\n",
       "    </tr>\n",
       "    <tr>\n",
       "      <th>Bat</th>\n",
       "      <td>2</td>\n",
       "      <td>warm</td>\n",
       "      <td>hair</td>\n",
       "      <td>no</td>\n",
       "      <td>yes</td>\n",
       "      <td>no</td>\n",
       "      <td>mammal</td>\n",
       "    </tr>\n",
       "    <tr>\n",
       "      <th>Red back Salamander</th>\n",
       "      <td>4</td>\n",
       "      <td>cold</td>\n",
       "      <td>none</td>\n",
       "      <td>partial</td>\n",
       "      <td>no</td>\n",
       "      <td>yes</td>\n",
       "      <td>amphibian</td>\n",
       "    </tr>\n",
       "  </tbody>\n",
       "</table>\n",
       "</div>"
      ],
      "text/plain": [
       "                     Legs Cold or Warm Blooded Covering  Aquatic Aerial  \\\n",
       "Lion                    4                 warm      fur       no     no   \n",
       "Chihuaha                4                 warm      fur       no     no   \n",
       "Veiled Chameleon        4                 cold   scales       no     no   \n",
       "Bat                     2                 warm     hair       no    yes   \n",
       "Red back Salamander     4                 cold     none  partial     no   \n",
       "\n",
       "                    Lays Eggs   Category  \n",
       "Lion                       no     mammal  \n",
       "Chihuaha                   no     mammal  \n",
       "Veiled Chameleon          yes    reptile  \n",
       "Bat                        no     mammal  \n",
       "Red back Salamander       yes  amphibian  "
      ]
     },
     "execution_count": 53,
     "metadata": {},
     "output_type": "execute_result"
    }
   ],
   "source": [
    "# Test 1\n",
    "an.iloc[set1[1]]"
   ]
  },
  {
   "cell_type": "markdown",
   "metadata": {
    "colab_type": "text",
    "id": "wFTNOkP6MvG3"
   },
   "source": [
    "With classification models, however, problems can arise when randomly splitting into training/test.  What is one major problem can occur that would almost completely invalidate a given training/test set?"
   ]
  },
  {
   "cell_type": "code",
   "execution_count": null,
   "metadata": {
    "colab": {},
    "colab_type": "code",
    "id": "5prCub1VMvG3"
   },
   "outputs": [],
   "source": []
  },
  {
   "cell_type": "markdown",
   "metadata": {
    "colab_type": "text",
    "id": "Y5fTOQWAMvG5"
   },
   "source": [
    "## Assignment 9\n",
    "\n",
    "1. Use the 4-fold data splitting on `df` described in the last section to perform a 4-fold cross validation of the `stats.linregress` linear regression modelling for `df`.  Compare $R^2$, MAE, and any other measures you wish.  Don't forget to plot each of the models."
   ]
  },
  {
   "cell_type": "code",
   "execution_count": null,
   "metadata": {},
   "outputs": [],
   "source": []
  },
  {
   "cell_type": "markdown",
   "metadata": {
    "colab_type": "text",
    "id": "Y5fTOQWAMvG5"
   },
   "source": [
    "2.  Adapt the following code to the animals model to visualize the confusion matrix we created: http://scikit-learn.org/stable/auto_examples/model_selection/plot_confusion_matrix.html"
   ]
  },
  {
   "cell_type": "code",
   "execution_count": null,
   "metadata": {},
   "outputs": [],
   "source": []
  },
  {
   "cell_type": "markdown",
   "metadata": {},
   "source": [
    "<div id=\"container\" style=\"position:relative;\">\n",
    "<div style=\"position:relative; float:right\"><img style=\"height:25px\"\"width: 50px\" src =\"https://drive.google.com/uc?export=view&id=14VoXUJftgptWtdNhtNYVm6cjVmEWpki1\" />\n",
    "</div>\n",
    "</div>"
   ]
  }
 ],
 "metadata": {
  "colab": {
   "name": "Unit 09 - Model Validation.ipynb",
   "provenance": [],
   "version": "0.3.2"
  },
  "kernelspec": {
   "display_name": "Python 3",
   "language": "python",
   "name": "python3"
  },
  "language_info": {
   "codemirror_mode": {
    "name": "ipython",
    "version": 3
   },
   "file_extension": ".py",
   "mimetype": "text/x-python",
   "name": "python",
   "nbconvert_exporter": "python",
   "pygments_lexer": "ipython3",
   "version": "3.8.5"
  }
 },
 "nbformat": 4,
 "nbformat_minor": 4
}
