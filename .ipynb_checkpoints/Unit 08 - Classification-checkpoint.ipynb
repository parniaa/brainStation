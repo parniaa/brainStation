{
 "cells": [
  {
   "cell_type": "markdown",
   "metadata": {},
   "source": [
    "<div id=\"container\" style=\"position:relative;\">\n",
    "<div style=\"float:left\"><h1>  Classification </h1></div>\n",
    "<div style=\"position:relative; float:right\"><img style=\"height:65px\" src =\"https://drive.google.com/uc?export=view&id=1EnB0x-fdqMp6I5iMoEBBEuxB_s7AmE2k\" />\n",
    "</div>\n",
    "</div>"
   ]
  },
  {
   "cell_type": "markdown",
   "metadata": {},
   "source": [
    "In this unit, we will look at building models which involve *classifying* data: each set of data points fit into one of a number of categories (e.g. kind of fruit, win/loss, home country, etc.), and once the model has been trained, it will predict what category new sets of data will fit into.  The three main modeling techniques we will be reviewing are logistic regression, decision trees, and naive Bayes classification."
   ]
  },
  {
   "cell_type": "code",
   "execution_count": 1,
   "metadata": {},
   "outputs": [],
   "source": [
    "import pandas as pd\n",
    "import numpy as np\n",
    "from scipy import stats\n",
    "from scipy import stats, special\n",
    "from sklearn import model_selection, metrics, linear_model, datasets, feature_selection\n",
    "from seaborn import pairplot, heatmap\n",
    "\n",
    "import matplotlib.pyplot as plt"
   ]
  },
  {
   "cell_type": "markdown",
   "metadata": {},
   "source": [
    "## The basic `sklearn` programming pattern for building a classifier\n",
    "\n",
    "In this lesson we will learn to apply a number of different machine learning algorithms, all using the package `sklearn`. The basic pattern for building these models is the same regardless of the model.\n",
    "\n",
    "1. Construct a 1-dimensional vector (i.e. a column) containing the outcomes that we are trying to predict. By convention, we call this vector `y`.\n",
    "2. Construct a matrix of _features_. This matrix should have the same number of rows as `y`, and each column of this matrix is a _feature_ that we expect to help us predict `y`.\n",
    "3. Initialize a model object. For example, imagine there was a type of model called a BrainStation Regression, which was implemented in `sklearn` as `BrainStationRegression`. The `sklearn` pattern would have us create an object `bsreg = BrainStationRegression()`.\n",
    "4. Fit (or \"train\", using machine learning lingo) the model object created in the last step using the `fit()` method on the datasets `y` and `X`: `bsreg.fit(X, y)`. \n",
    "\n",
    "Once we have a fitted model object, we can use it to make predictions. Given a matrix `Xnew` with the same number of columns as `X`, we can call `bsreg.predict(Xnew)` to obtain predicted values given the features in `Xnew`. Model objects have a number of other methods and attributes that vary by the type of model.\n",
    "\n",
    "Let's try it out."
   ]
  },
  {
   "cell_type": "markdown",
   "metadata": {},
   "source": [
    "## Binary Classification\n",
    "\n",
    "The most basic form of classification problem is the problem of _binary classification_. Binary classification is the problem of predicting what class a unit will fall into when there are only two classes. This is particularly useful since any question that can be posed in yes-or-no form can be modeled as a binary classification problem:\n",
    "\n",
    "- Is the tumor benign or malignant?\n",
    "- Will the customer make a purchase?\n",
    "- Does this image contain a face?\n",
    "- Will the price of this stock go up?\n",
    "\n",
    "For convenience, it is typical to think of one of the labels as being a \"positive\" outcome, and the other as the \"negative\" or \"null\" outcome. We will usually encode this numerically by using $1$ for the positive outcome, and $0$ for the negative outcome.\n",
    "\n",
    "Let's load up some data for a binary classification."
   ]
  },
  {
   "cell_type": "code",
   "execution_count": 2,
   "metadata": {},
   "outputs": [
    {
     "data": {
      "text/html": [
       "<div>\n",
       "<style scoped>\n",
       "    .dataframe tbody tr th:only-of-type {\n",
       "        vertical-align: middle;\n",
       "    }\n",
       "\n",
       "    .dataframe tbody tr th {\n",
       "        vertical-align: top;\n",
       "    }\n",
       "\n",
       "    .dataframe thead th {\n",
       "        text-align: right;\n",
       "    }\n",
       "</style>\n",
       "<table border=\"1\" class=\"dataframe\">\n",
       "  <thead>\n",
       "    <tr style=\"text-align: right;\">\n",
       "      <th></th>\n",
       "      <th>Recency</th>\n",
       "      <th>Frequency</th>\n",
       "      <th>Monetary</th>\n",
       "      <th>Time</th>\n",
       "      <th>Donated</th>\n",
       "    </tr>\n",
       "  </thead>\n",
       "  <tbody>\n",
       "    <tr>\n",
       "      <th>0</th>\n",
       "      <td>2</td>\n",
       "      <td>50</td>\n",
       "      <td>12500</td>\n",
       "      <td>98</td>\n",
       "      <td>1</td>\n",
       "    </tr>\n",
       "    <tr>\n",
       "      <th>1</th>\n",
       "      <td>0</td>\n",
       "      <td>13</td>\n",
       "      <td>3250</td>\n",
       "      <td>28</td>\n",
       "      <td>1</td>\n",
       "    </tr>\n",
       "    <tr>\n",
       "      <th>2</th>\n",
       "      <td>1</td>\n",
       "      <td>16</td>\n",
       "      <td>4000</td>\n",
       "      <td>35</td>\n",
       "      <td>1</td>\n",
       "    </tr>\n",
       "    <tr>\n",
       "      <th>3</th>\n",
       "      <td>2</td>\n",
       "      <td>20</td>\n",
       "      <td>5000</td>\n",
       "      <td>45</td>\n",
       "      <td>1</td>\n",
       "    </tr>\n",
       "    <tr>\n",
       "      <th>4</th>\n",
       "      <td>1</td>\n",
       "      <td>24</td>\n",
       "      <td>6000</td>\n",
       "      <td>77</td>\n",
       "      <td>0</td>\n",
       "    </tr>\n",
       "  </tbody>\n",
       "</table>\n",
       "</div>"
      ],
      "text/plain": [
       "   Recency  Frequency  Monetary  Time  Donated\n",
       "0        2         50     12500    98        1\n",
       "1        0         13      3250    28        1\n",
       "2        1         16      4000    35        1\n",
       "3        2         20      5000    45        1\n",
       "4        1         24      6000    77        0"
      ]
     },
     "execution_count": 2,
     "metadata": {},
     "output_type": "execute_result"
    }
   ],
   "source": [
    "# Data source: Yeh, I-Cheng, Yang, King-Jang, and Ting, Tao-Ming, \"Knowledge discovery on RFM model using Bernoulli sequence\", Expert Systems with Applications, 2008\n",
    "bt = pd.read_csv('data/blood_transfusions.csv')\n",
    "bt.head()"
   ]
  },
  {
   "cell_type": "markdown",
   "metadata": {},
   "source": [
    "This dataset is taken from the [UCI machine learning repository](https://archive.ics.uci.edu/ml/datasets/Blood+Transfusion+Service+Center), which provides the following description of the fields.\n",
    "\n",
    "> Data Set Information:\n",
    ">\n",
    "> To demonstrate the RFMTC marketing model (a modified version of RFM), this study \n",
    "adopted the donor database of Blood Transfusion Service Center in Hsin-Chu City \n",
    "in Taiwan. The center passes their blood transfusion service bus to one \n",
    "university in Hsin-Chu City to gather blood donated about every three months. To \n",
    "build a FRMTC model, we selected 748 donors at random from the donor database. \n",
    "These 748 donor data, each one included R (Recency - months since last \n",
    "donation), F (Frequency - total number of donation), M (Monetary - total blood \n",
    "donated in c.c.), T (Time - months since first donation), and a binary variable \n",
    "representing whether he/she donated blood in March 2007 (1 stand for donating \n",
    "blood; 0 stands for not donating blood).\n",
    "\n",
    "The problem is to predict whether a person ended up donating blood in March 2007 based on information about their previous donation habits. \n",
    "\n",
    "**What do you think the authors wanted to use this model for? What _could_ it be used for?**\n",
    "\n",
    "This is a binary classification problem because a person either donates (1) or doesn't (0). Let's have a look at the dataset."
   ]
  },
  {
   "cell_type": "code",
   "execution_count": 3,
   "metadata": {},
   "outputs": [
    {
     "data": {
      "text/html": [
       "<div>\n",
       "<style scoped>\n",
       "    .dataframe tbody tr th:only-of-type {\n",
       "        vertical-align: middle;\n",
       "    }\n",
       "\n",
       "    .dataframe tbody tr th {\n",
       "        vertical-align: top;\n",
       "    }\n",
       "\n",
       "    .dataframe thead th {\n",
       "        text-align: right;\n",
       "    }\n",
       "</style>\n",
       "<table border=\"1\" class=\"dataframe\">\n",
       "  <thead>\n",
       "    <tr style=\"text-align: right;\">\n",
       "      <th></th>\n",
       "      <th>Recency</th>\n",
       "      <th>Frequency</th>\n",
       "      <th>Monetary</th>\n",
       "      <th>Time</th>\n",
       "      <th>Donated</th>\n",
       "    </tr>\n",
       "  </thead>\n",
       "  <tbody>\n",
       "    <tr>\n",
       "      <th>count</th>\n",
       "      <td>748.000000</td>\n",
       "      <td>748.000000</td>\n",
       "      <td>748.000000</td>\n",
       "      <td>748.000000</td>\n",
       "      <td>748.000000</td>\n",
       "    </tr>\n",
       "    <tr>\n",
       "      <th>mean</th>\n",
       "      <td>9.506684</td>\n",
       "      <td>5.514706</td>\n",
       "      <td>1378.676471</td>\n",
       "      <td>34.282086</td>\n",
       "      <td>0.237968</td>\n",
       "    </tr>\n",
       "    <tr>\n",
       "      <th>std</th>\n",
       "      <td>8.095396</td>\n",
       "      <td>5.839307</td>\n",
       "      <td>1459.826781</td>\n",
       "      <td>24.376714</td>\n",
       "      <td>0.426124</td>\n",
       "    </tr>\n",
       "    <tr>\n",
       "      <th>min</th>\n",
       "      <td>0.000000</td>\n",
       "      <td>1.000000</td>\n",
       "      <td>250.000000</td>\n",
       "      <td>2.000000</td>\n",
       "      <td>0.000000</td>\n",
       "    </tr>\n",
       "    <tr>\n",
       "      <th>25%</th>\n",
       "      <td>2.750000</td>\n",
       "      <td>2.000000</td>\n",
       "      <td>500.000000</td>\n",
       "      <td>16.000000</td>\n",
       "      <td>0.000000</td>\n",
       "    </tr>\n",
       "    <tr>\n",
       "      <th>50%</th>\n",
       "      <td>7.000000</td>\n",
       "      <td>4.000000</td>\n",
       "      <td>1000.000000</td>\n",
       "      <td>28.000000</td>\n",
       "      <td>0.000000</td>\n",
       "    </tr>\n",
       "    <tr>\n",
       "      <th>75%</th>\n",
       "      <td>14.000000</td>\n",
       "      <td>7.000000</td>\n",
       "      <td>1750.000000</td>\n",
       "      <td>50.000000</td>\n",
       "      <td>0.000000</td>\n",
       "    </tr>\n",
       "    <tr>\n",
       "      <th>max</th>\n",
       "      <td>74.000000</td>\n",
       "      <td>50.000000</td>\n",
       "      <td>12500.000000</td>\n",
       "      <td>98.000000</td>\n",
       "      <td>1.000000</td>\n",
       "    </tr>\n",
       "  </tbody>\n",
       "</table>\n",
       "</div>"
      ],
      "text/plain": [
       "          Recency   Frequency      Monetary        Time     Donated\n",
       "count  748.000000  748.000000    748.000000  748.000000  748.000000\n",
       "mean     9.506684    5.514706   1378.676471   34.282086    0.237968\n",
       "std      8.095396    5.839307   1459.826781   24.376714    0.426124\n",
       "min      0.000000    1.000000    250.000000    2.000000    0.000000\n",
       "25%      2.750000    2.000000    500.000000   16.000000    0.000000\n",
       "50%      7.000000    4.000000   1000.000000   28.000000    0.000000\n",
       "75%     14.000000    7.000000   1750.000000   50.000000    0.000000\n",
       "max     74.000000   50.000000  12500.000000   98.000000    1.000000"
      ]
     },
     "execution_count": 3,
     "metadata": {},
     "output_type": "execute_result"
    }
   ],
   "source": [
    "bt.describe()"
   ]
  },
  {
   "cell_type": "code",
   "execution_count": 4,
   "metadata": {},
   "outputs": [
    {
     "data": {
      "image/png": "[encoded data removed]",
      "text/plain": [
       "<Figure size 900x900 with 30 Axes>"
      ]
     },
     "metadata": {
      "needs_background": "light"
     },
     "output_type": "display_data"
    }
   ],
   "source": [
    "pairplot(bt);"
   ]
  },
  {
   "cell_type": "code",
   "execution_count": 5,
   "metadata": {},
   "outputs": [
    {
     "data": {
      "image/png": "[encoded data removed]",
      "text/plain": [
       "<Figure size 432x288 with 2 Axes>"
      ]
     },
     "metadata": {
      "needs_background": "light"
     },
     "output_type": "display_data"
    }
   ],
   "source": [
    "heatmap(bt.corr());"
   ]
  },
  {
   "cell_type": "markdown",
   "metadata": {},
   "source": [
    "**What do these plots tell us about the data?**"
   ]
  },
  {
   "cell_type": "markdown",
   "metadata": {},
   "source": [
    "## Logistic Regression\n",
    "\n",
    "Logistic regression is a way of modeling the probability of the positive outcome. Viewed in this way, it can actually be thought of as a _regression_ and not a _classification_ method (hence the name). However, the output of a logistic regression can easily be viewed as a classifier by setting some threshold $t$, and whenever the positive outcome has probability greater than $t$, we classify it appropriately.\n",
    "\n",
    "Using this method for the blood donor data and with $t=0.5$, we will classify a person as a \"likely donor\" if their probability of donating is greater than $0.5$.\n",
    "\n",
    "Logistic regression works by fitting what's called a **logit function** to the data."
   ]
  },
  {
   "cell_type": "code",
   "execution_count": 6,
   "metadata": {},
   "outputs": [
    {
     "data": {
      "image/png": "[encoded data removed]",
      "text/plain": [
       "<Figure size 432x288 with 1 Axes>"
      ]
     },
     "metadata": {
      "needs_background": "light"
     },
     "output_type": "display_data"
    }
   ],
   "source": [
    "x = np.arange(-7,7,0.01)\n",
    "plt.plot(x,special.expit(x));\n",
    "plt.grid()\n",
    "plt.xlim(-7,7);"
   ]
  },
  {
   "cell_type": "markdown",
   "metadata": {},
   "source": [
    "As $x\\to -\\infty$, the function asymptotically approaches $0$, and as $x\\to+\\infty$, the function asymptotically approaches $1$.  This will help us split our categorical results into $0$ and $1$; we accomplish this by trying to find the parameters $\\beta_0,\\beta_1$ such that our dependent variable $y$ has the form:\n",
    "\n",
    "$$ y = \\begin{cases} 1,\\,\\text{ if }\\,\\beta_0+\\beta_1x + \\epsilon > 0 \\\\ 0,\\,\\text{  otherwise  }\\end{cases} $$\n",
    "\n",
    "We feed this equation of the line into the logistic function. By transforming the function, we can essentially create a boundary along $x$ whereby for some given $c$, if $x<c$ then the result is 0, and if $x>c$ the result is 1 (or vice versa).  The logistic function takes on the form:\n",
    "\n",
    "$$ \\sigma(x) = \\frac{1}{1+ e^{-(\\beta_0 + \\beta_1x + \\epsilon)}} $$\n",
    "\n",
    "\n",
    "As a somewhat extreme example, the transformation to \n",
    "\n",
    "$$  \\sigma(x) = \\frac{1}{1+e^{20x-12}} $$ \n",
    "looks like:"
   ]
  },
  {
   "cell_type": "code",
   "execution_count": 7,
   "metadata": {},
   "outputs": [
    {
     "data": {
      "image/png": "[encoded data removed]",
      "text/plain": [
       "<Figure size 432x288 with 1 Axes>"
      ]
     },
     "metadata": {
      "needs_background": "light"
     },
     "output_type": "display_data"
    }
   ],
   "source": [
    "plt.plot(x,special.expit(20*x -12))\n",
    "plt.grid()\n",
    "plt.xlim(-7,7);"
   ]
  },
  {
   "cell_type": "markdown",
   "metadata": {},
   "source": [
    "### Applying Logistic Regression\n",
    "\n",
    "Let's apply this to the blood transfusion data. We'll start by considering whether the donor donates as a function of their donation frequency."
   ]
  },
  {
   "cell_type": "code",
   "execution_count": 8,
   "metadata": {},
   "outputs": [],
   "source": [
    "X = bt['Frequency'].values.reshape(-1,1)  # Annoying hack you have to do when you have one independent variable\n",
    "y = bt['Donated']"
   ]
  },
  {
   "cell_type": "code",
   "execution_count": 9,
   "metadata": {},
   "outputs": [
    {
     "data": {
      "text/plain": [
       "LogisticRegression(C=1.0, class_weight=None, dual=False, fit_intercept=True,\n",
       "                   intercept_scaling=1, l1_ratio=None, max_iter=100,\n",
       "                   multi_class='auto', n_jobs=None, penalty='l2',\n",
       "                   random_state=None, solver='liblinear', tol=0.0001, verbose=0,\n",
       "                   warm_start=False)"
      ]
     },
     "execution_count": 9,
     "metadata": {},
     "output_type": "execute_result"
    }
   ],
   "source": [
    "bt_model = linear_model.LogisticRegression(solver='liblinear')\n",
    "bt_model.fit(X, y)"
   ]
  },
  {
   "cell_type": "markdown",
   "metadata": {},
   "source": [
    "The fitted logistic regression object can make predictions given new frequency observations with the `.fit` method."
   ]
  },
  {
   "cell_type": "code",
   "execution_count": 10,
   "metadata": {},
   "outputs": [
    {
     "data": {
      "text/plain": [
       "array([0, 0, 0, 0, 0, 0, 0, 0, 0, 0, 0, 0, 0, 0, 0, 0, 0, 0, 0, 0, 1, 1,\n",
       "       1, 1, 1, 1, 1, 1, 1])"
      ]
     },
     "execution_count": 10,
     "metadata": {},
     "output_type": "execute_result"
    }
   ],
   "source": [
    "Xnew = np.arange(1,30).reshape(-1,1)\n",
    "bt_model.predict(Xnew)"
   ]
  },
  {
   "cell_type": "markdown",
   "metadata": {},
   "source": [
    "We can see the coefficients that were fit by accessing the `.intercept_` and `.coef_` attributes of the fitted model. "
   ]
  },
  {
   "cell_type": "code",
   "execution_count": 11,
   "metadata": {},
   "outputs": [
    {
     "name": "stdout",
     "output_type": "stream",
     "text": [
      "-1.6115249184592333\n",
      "0.07709726512074265\n"
     ]
    }
   ],
   "source": [
    "beta_0 = bt_model.intercept_[0]\n",
    "print(beta_0)\n",
    "beta_1 = bt_model.coef_[0][0]\n",
    "print(beta_1)"
   ]
  },
  {
   "cell_type": "markdown",
   "metadata": {},
   "source": [
    "So this model estimates that the probability that a donor will give, conditional on their giving frequency being $x$, as:\n",
    "\n",
    "$$\n",
    "P(\\text{Give}|\\text{Frequency}=x) = \\frac{1}{1 + e^{-\\left(0.0770972651207 -1.61152491846 x \\right)}}\n",
    "$$\n",
    "\n",
    "We could use this to create a function that estimates the probability of giving, given a past frequency `x`."
   ]
  },
  {
   "cell_type": "code",
   "execution_count": 13,
   "metadata": {},
   "outputs": [
    {
     "data": {
      "text/plain": [
       "[array([0.17734679]),\n",
       " array([0.18887597]),\n",
       " array([0.20097156]),\n",
       " array([0.21363773]),\n",
       " array([0.22687552]),\n",
       " array([0.24068251]),\n",
       " array([0.25505255]),\n",
       " array([0.26997552]),\n",
       " array([0.28543706]),\n",
       " array([0.30141848]),\n",
       " array([0.31789662]),\n",
       " array([0.3348438]),\n",
       " array([0.35222791]),\n",
       " array([0.3700125]),\n",
       " array([0.38815697]),\n",
       " array([0.40661692]),\n",
       " array([0.42534447]),\n",
       " array([0.44428875]),\n",
       " array([0.46339638]),\n",
       " array([0.48261211]),\n",
       " array([0.5018794]),\n",
       " array([0.52114112]),\n",
       " array([0.54034017]),\n",
       " array([0.55942023]),\n",
       " array([0.57832636]),\n",
       " array([0.59700564]),\n",
       " array([0.61540772]),\n",
       " array([0.63348538]),\n",
       " array([0.65119492])]"
      ]
     },
     "execution_count": 13,
     "metadata": {},
     "output_type": "execute_result"
    }
   ],
   "source": [
    "def predict_probability(x):\n",
    "    return 1/(1 + np.exp(-(beta_0 + beta_1 * x)))\n",
    "[predict_probability(x) for x in Xnew]"
   ]
  },
  {
   "cell_type": "markdown",
   "metadata": {},
   "source": [
    "Thankfully, we don't have to define this function each time we want to estimate probabilities. The `LogisticRegression` object has a method for that built in."
   ]
  },
  {
   "cell_type": "code",
   "execution_count": 14,
   "metadata": {},
   "outputs": [
    {
     "data": {
      "text/plain": [
       "array([[0.82265321, 0.17734679],\n",
       "       [0.81112403, 0.18887597],\n",
       "       [0.79902844, 0.20097156],\n",
       "       [0.78636227, 0.21363773],\n",
       "       [0.77312448, 0.22687552],\n",
       "       [0.75931749, 0.24068251],\n",
       "       [0.74494745, 0.25505255],\n",
       "       [0.73002448, 0.26997552],\n",
       "       [0.71456294, 0.28543706],\n",
       "       [0.69858152, 0.30141848],\n",
       "       [0.68210338, 0.31789662],\n",
       "       [0.6651562 , 0.3348438 ],\n",
       "       [0.64777209, 0.35222791],\n",
       "       [0.6299875 , 0.3700125 ],\n",
       "       [0.61184303, 0.38815697],\n",
       "       [0.59338308, 0.40661692],\n",
       "       [0.57465553, 0.42534447],\n",
       "       [0.55571125, 0.44428875],\n",
       "       [0.53660362, 0.46339638],\n",
       "       [0.51738789, 0.48261211],\n",
       "       [0.4981206 , 0.5018794 ],\n",
       "       [0.47885888, 0.52114112],\n",
       "       [0.45965983, 0.54034017],\n",
       "       [0.44057977, 0.55942023],\n",
       "       [0.42167364, 0.57832636],\n",
       "       [0.40299436, 0.59700564],\n",
       "       [0.38459228, 0.61540772],\n",
       "       [0.36651462, 0.63348538],\n",
       "       [0.34880508, 0.65119492]])"
      ]
     },
     "execution_count": 14,
     "metadata": {},
     "output_type": "execute_result"
    }
   ],
   "source": [
    "bt_model.predict_proba(Xnew)"
   ]
  },
  {
   "cell_type": "markdown",
   "metadata": {},
   "source": [
    "The `predict_proba` method returns two probabilities for each `X`: the probability of 0, and of 1. Usually we only care about the probability of the 1 outcome, which we can get by slicing."
   ]
  },
  {
   "cell_type": "code",
   "execution_count": 15,
   "metadata": {},
   "outputs": [
    {
     "data": {
      "text/plain": [
       "array([0.17734679, 0.18887597, 0.20097156, 0.21363773, 0.22687552,\n",
       "       0.24068251, 0.25505255, 0.26997552, 0.28543706, 0.30141848,\n",
       "       0.31789662, 0.3348438 , 0.35222791, 0.3700125 , 0.38815697,\n",
       "       0.40661692, 0.42534447, 0.44428875, 0.46339638, 0.48261211,\n",
       "       0.5018794 , 0.52114112, 0.54034017, 0.55942023, 0.57832636,\n",
       "       0.59700564, 0.61540772, 0.63348538, 0.65119492])"
      ]
     },
     "execution_count": 15,
     "metadata": {},
     "output_type": "execute_result"
    }
   ],
   "source": [
    "bt_model.predict_proba(Xnew)[:,1]"
   ]
  },
  {
   "cell_type": "markdown",
   "metadata": {},
   "source": [
    "Let's use this to plot the probability of donation as a function of frequency, along with the actual values."
   ]
  },
  {
   "cell_type": "code",
   "execution_count": 16,
   "metadata": {},
   "outputs": [
    {
     "data": {
      "image/png": "[encoded data removed]",
      "text/plain": [
       "<Figure size 432x288 with 1 Axes>"
      ]
     },
     "metadata": {
      "needs_background": "light"
     },
     "output_type": "display_data"
    }
   ],
   "source": [
    "bt_data = bt[['Frequency', 'Donated']]\n",
    "bt_data.plot.scatter(\"Frequency\", \"Donated\")\n",
    "\n",
    "# plot the predicted probability:\n",
    "plt.plot(np.arange(0,50, .5), bt_model.predict_proba(np.arange(0,50,.5).reshape(-1,1))[:,1], color = 'red');"
   ]
  },
  {
   "cell_type": "markdown",
   "metadata": {},
   "source": [
    "The `LogisticRegression` object also has a `.score()` method that takes a feature matrix and a vector of outcomes, makes predictions using the feature matrix, and checks those predictions against the actual values in `y`. It returns the proportion of predictions that would have been correct, which is known as the `accuracy`. We will talk a lot more about this next week, but let's use that here to see what the accuracy of this model would be on the training data."
   ]
  },
  {
   "cell_type": "code",
   "execution_count": 17,
   "metadata": {},
   "outputs": [
    {
     "data": {
      "text/plain": [
       "0.766042780748663"
      ]
     },
     "execution_count": 17,
     "metadata": {},
     "output_type": "execute_result"
    }
   ],
   "source": [
    "bt_model.score(X,y)"
   ]
  },
  {
   "cell_type": "markdown",
   "metadata": {},
   "source": [
    "### Exercise\n",
    "Complete the following exercises with a partner:\n",
    "\n",
    "1. Find the point where the probability is 0.5.\n",
    "\n",
    "2. What do you think would happen to the model if you changed the threshold? For instance, what if instead of predicting positive when the probability is over 0.5, what if it predicted positive when the probability is over 0.6? 0.9?"
   ]
  },
  {
   "cell_type": "code",
   "execution_count": null,
   "metadata": {},
   "outputs": [],
   "source": []
  },
  {
   "cell_type": "markdown",
   "metadata": {},
   "source": [
    "### Logistic Regression with Multiple Features\n",
    "\n",
    "The example we just saw had only a single feature. Logistic regression can be extended to multi-dimensional features in much the same way that linear regression can. Scikit-learn makes this as easy as simply including more columns in the `X` variable. Let's try extending the blood transfusion model to two predictors: the frequency with which the donor donates, and the time since the last donation.\n",
    "\n",
    "Let's look at scatterplots of these again."
   ]
  },
  {
   "cell_type": "code",
   "execution_count": 18,
   "metadata": {},
   "outputs": [
    {
     "data": {
      "image/png": "[encoded data removed]",
      "text/plain": [
       "<Figure size 432x288 with 1 Axes>"
      ]
     },
     "metadata": {
      "needs_background": "light"
     },
     "output_type": "display_data"
    }
   ],
   "source": [
    "bt.plot.scatter('Frequency', 'Donated');"
   ]
  },
  {
   "cell_type": "code",
   "execution_count": 19,
   "metadata": {},
   "outputs": [
    {
     "data": {
      "image/png": "[encoded data removed]",
      "text/plain": [
       "<Figure size 432x288 with 1 Axes>"
      ]
     },
     "metadata": {
      "needs_background": "light"
     },
     "output_type": "display_data"
    }
   ],
   "source": [
    "bt.plot.scatter('Time', 'Donated');"
   ]
  },
  {
   "cell_type": "markdown",
   "metadata": {},
   "source": [
    "How do you expect the model to fit to each of these, based on the plot?"
   ]
  },
  {
   "cell_type": "code",
   "execution_count": 20,
   "metadata": {},
   "outputs": [
    {
     "data": {
      "text/plain": [
       "LogisticRegression(C=1.0, class_weight=None, dual=False, fit_intercept=True,\n",
       "                   intercept_scaling=1, l1_ratio=None, max_iter=100,\n",
       "                   multi_class='auto', n_jobs=None, penalty='l2',\n",
       "                   random_state=None, solver='liblinear', tol=0.0001, verbose=0,\n",
       "                   warm_start=False)"
      ]
     },
     "execution_count": 20,
     "metadata": {},
     "output_type": "execute_result"
    }
   ],
   "source": [
    "X2 = bt[['Frequency', 'Time']]  # No need to do the .reshape hack this time, as we have more than one independent variable\n",
    "\n",
    "bt_log_model_2 = linear_model.LogisticRegression(solver='liblinear')\n",
    "bt_log_model_2.fit(X2,y)"
   ]
  },
  {
   "cell_type": "markdown",
   "metadata": {},
   "source": [
    "When we look at the coefficient, we get two values:"
   ]
  },
  {
   "cell_type": "code",
   "execution_count": 21,
   "metadata": {},
   "outputs": [
    {
     "data": {
      "text/plain": [
       "0.1870485742139914"
      ]
     },
     "execution_count": 21,
     "metadata": {},
     "output_type": "execute_result"
    }
   ],
   "source": [
    "frequency_coef = bt_log_model_2.coef_[0][0]\n",
    "frequency_coef"
   ]
  },
  {
   "cell_type": "code",
   "execution_count": 22,
   "metadata": {},
   "outputs": [
    {
     "data": {
      "text/plain": [
       "-0.036692239135777446"
      ]
     },
     "execution_count": 22,
     "metadata": {},
     "output_type": "execute_result"
    }
   ],
   "source": [
    "time_coef = bt_log_model_2.coef_[0][1]\n",
    "time_coef"
   ]
  },
  {
   "cell_type": "code",
   "execution_count": 23,
   "metadata": {},
   "outputs": [
    {
     "data": {
      "text/plain": [
       "-1.0453714960913711"
      ]
     },
     "execution_count": 23,
     "metadata": {},
     "output_type": "execute_result"
    }
   ],
   "source": [
    "bt_intercept = bt_log_model_2.intercept_[0]\n",
    "bt_intercept"
   ]
  },
  {
   "cell_type": "markdown",
   "metadata": {},
   "source": [
    "So our new model is \n",
    "\n",
    "$$\n",
    "P(\\text{Give}|\\text{Frequency}=x, \\text{Time}=z) = \\frac{1}{1 + e^{-\\left(-1.045 + 0.187 x - 0.037 z  \\right)}}\n",
    "$$"
   ]
  },
  {
   "cell_type": "code",
   "execution_count": 24,
   "metadata": {},
   "outputs": [],
   "source": [
    "import mpl_toolkits.mplot3d as m3d"
   ]
  },
  {
   "cell_type": "code",
   "execution_count": 26,
   "metadata": {},
   "outputs": [
    {
     "data": {
      "image/png": "[encoded data removed]",
      "text/plain": [
       "<Figure size 432x288 with 1 Axes>"
      ]
     },
     "metadata": {
      "needs_background": "light"
     },
     "output_type": "display_data"
    }
   ],
   "source": [
    "freq = np.arange(0,50,.4)\n",
    "time = np.arange(0,100,.8)\n",
    "xx, yy = np.meshgrid(freq, time)\n",
    "Z = 1/(1 + np.exp(-(bt_intercept + frequency_coef*xx + time_coef*yy)))\n",
    "fig3d = m3d.Axes3D(plt.figure())\n",
    "fig3d.plot_wireframe(xx, yy, Z, rstride=10, cstride=10);\n",
    "fig3d.set_ylabel('Months since last donation')\n",
    "fig3d.set_zlabel('Estimated Probability of Donation')\n",
    "fig3d.view_init(12, 225)\n",
    "fig3d.scatter3D(xs=bt['Frequency'], ys=bt['Time'], zs=bt['Donated'], color = 'green')\n",
    "plt.show();"
   ]
  },
  {
   "cell_type": "markdown",
   "metadata": {},
   "source": [
    "**Problem** Build a logistic regression model called `bt_log_model_3` which uses all of the features except for `Monetary` (why are we omitting that one?). Report the training accuracy."
   ]
  },
  {
   "cell_type": "code",
   "execution_count": 27,
   "metadata": {},
   "outputs": [
    {
     "data": {
      "text/plain": [
       "0.7700534759358288"
      ]
     },
     "execution_count": 27,
     "metadata": {},
     "output_type": "execute_result"
    }
   ],
   "source": [
    "# We don't need to include Monetary because it is always equal to Frequency * 250. \n",
    "# The model is already using the frequency so \n",
    "# including Monetary wouldn't give it any additional information.\n",
    "\n",
    "X3 = bt[['Frequency', 'Time', 'Recency']]\n",
    "\n",
    "bt_log_model_3 = linear_model.LogisticRegression(solver='liblinear')\n",
    "bt_log_model_3.fit(X3,y)\n",
    "bt_log_model_3.score(X3,y)"
   ]
  },
  {
   "cell_type": "markdown",
   "metadata": {},
   "source": [
    "### A note on Training Accuracy\n",
    "We've been using `model.score(X,y)` to get the training accuracy and using this as a proxy for the goodness of fit for the model. This is actually typically a problematic thing to do, and we'll learn better strategies next week. The reason is that a model could \"memorize\" the whole dataset, without actually learning the relationship between the features and the variables. The extreme case of this would be a model that just records the entire dataset, and then given features `X`, simply looks up the value `y`. This model would have 100% training accuracy, but would probably be a pretty bad model if you tried to apply it to new data. We would say that this model suffers from an **overfitting** problem. We will learn the right way to deal with this next week."
   ]
  },
  {
   "cell_type": "markdown",
   "metadata": {},
   "source": [
    "## Naive Bayes Classification\n",
    "\n",
    "The Naive Bayes classifier is another classification algorithm that works by modeling conditional probabilities. It is particularly useful for classification problems with more than two classes, and with many features. \n",
    "\n",
    "It is often used for tasks like document classification: Say you want to build a model that analyzes the text of a short story and attempts to determine the genre. One way of representing text in a machine learning context is to use the _bag-of-words_ representation. In BOW, a document is represented as simply a vector of word counts; word order is ignored. A simple BOW representation of a simple sentence like this one is given below.\n",
    "\n",
    "```a: 2\n",
    "simple: 2\n",
    "BOW: 1\n",
    "representation: 1\n",
    "of: 1\n",
    "sentence: 1\n",
    "like: 1\n",
    "this: 1\n",
    "one: 1\n",
    "is: 1\n",
    "given: 1\n",
    "below: 1\n",
    "```\n",
    "\n",
    "The BOW classification problem would use these word counts as features to classify the document into one of maybe 20 genres. As you can imagine, you might end up with thousands of features for each observation. The Naive Bayes classifier is relatively quick to fit with problems like this, and works well in practice.\n",
    "\n",
    "The Naive Bayes classifier is _naive_ because of the central assumption that it makes about the features: it assumes that all features are independent of each other. (Note that the logistic regression classifier makes no such assumption.) This assumption is not only naive, but almost always wrong. In the text classifier problem, it seems absurd to assume that the presence of the word \"regression\" is completely independent of the presence of the word \"linear\": if we find out that the document contains the word \"regression\", it seems like we should expect it to be much more likely that it also contains \"linear\". But the Naive Bayes assumption _does_ make it possible to estimate conditional probabilities, and in practice it turns out that despite the absurdity of the assumption, it can work well for the task we assign it to."
   ]
  },
  {
   "cell_type": "markdown",
   "metadata": {},
   "source": [
    "Recall from the statistics unit that Bayes' Theorem for conditional probability of $A$ given $B$ is:\n",
    "\n",
    "$$ P(A\\,|\\,B) = \\frac{P(B\\,| \\, A)P(A)}{P(B)} $$\n",
    "\n",
    "The Naive Bayes classifier uses this formulation of probability to determine what *class* a given set of data belongs to, given previous data it has trained the model on.  Suppose we have $n$ many classes $C_1, C_2, \\ldots, C_n$, and we represent the set of data to be classified as $\\textbf{x} = \\begin{bmatrix} x_1 & x_2 & \\cdots & x_k\\end{bmatrix}$. The probability that the given data $\\textbf{x}$ belongs to class $C_i$ is given by\n",
    "\n",
    "$$ P(C_i\\,|\\,\\textbf{x}) = \\frac{P(C_i)P(\\textbf{x}\\,|\\,C_i)}{P(\\textbf{x})} $$\n",
    "\n",
    "With the assumption that the features $\\{x_i\\}$ are independent of each other, it can be derived that the conditional probability $P(C_i\\,|\\,\\textbf{x})$ is proportional to the product:\n",
    "\n",
    "$$ P(C_i)P(x_1\\,|\\,C_i)P(x_2\\,|\\,C_i)\\cdots P(x_k\\,|\\,C_i) = P(C_i)\\prod_{j=1}^KP(x_j\\,|\\,C_i) $$"
   ]
  },
  {
   "cell_type": "markdown",
   "metadata": {},
   "source": [
    "To use this probability setup to classify things, we need to pick a *decision rule*, i.e., given the probabilities of $\\textbf{x}$ for each of the classes $C_i$, which class do we pick? In general, the most reasonable choice is to pick the one with the largest probability.\n",
    "\n",
    "We will be using Scikit-Learn's Naive Bayes package, which contains three main versions; the differences in use, broadly speaking, are:\n",
    "*  **Gaussian Naive Bayes**. Suitable for continuous data, the assumption is that the likelihood of the features follows a Gaussian distribution.\n",
    "*  **Multinomial Naive Bayes**. Suitable for data where the features are _counts_ (i.e. non-negative integers). In a bag of words representation we would probably use this.\n",
    "*  **Bernoulli Naive Bayes**.  Also suitable for discrete features, this version is for data with features that are binary-valued.\n",
    "\n",
    "You can read the documentation here: http://scikit-learn.org/stable/modules/naive_bayes.html"
   ]
  },
  {
   "cell_type": "markdown",
   "metadata": {},
   "source": [
    "### Text Classification with Naive Bayes \n",
    "\n",
    "The file `psy.csv` comes from the YouTube Spam Collection Data Set from the UCI ML repository. You can read more about it [here](https://archive.ics.uci.edu/ml/datasets/YouTube+Spam+Collection). It is a collection of 350 comments from the music video for Gangnam Style by Psy. The documents are classified as either spam (class = 1) or ham (class = 0).\n",
    "\n",
    "Let's use a Naive Bayes classifier to classify comments as Spam or Ham. We'll need to import some text processing tools that we haven't used before."
   ]
  },
  {
   "cell_type": "code",
   "execution_count": 28,
   "metadata": {},
   "outputs": [],
   "source": [
    "from sklearn.feature_extraction import text  # some text processing tools\n",
    "from sklearn.naive_bayes import MultinomialNB, GaussianNB, BernoulliNB"
   ]
  },
  {
   "cell_type": "code",
   "execution_count": 29,
   "metadata": {},
   "outputs": [
    {
     "data": {
      "text/html": [
       "<div>\n",
       "<style scoped>\n",
       "    .dataframe tbody tr th:only-of-type {\n",
       "        vertical-align: middle;\n",
       "    }\n",
       "\n",
       "    .dataframe tbody tr th {\n",
       "        vertical-align: top;\n",
       "    }\n",
       "\n",
       "    .dataframe thead th {\n",
       "        text-align: right;\n",
       "    }\n",
       "</style>\n",
       "<table border=\"1\" class=\"dataframe\">\n",
       "  <thead>\n",
       "    <tr style=\"text-align: right;\">\n",
       "      <th></th>\n",
       "      <th>COMMENT_ID</th>\n",
       "      <th>AUTHOR</th>\n",
       "      <th>DATE</th>\n",
       "      <th>CONTENT</th>\n",
       "      <th>CLASS</th>\n",
       "    </tr>\n",
       "  </thead>\n",
       "  <tbody>\n",
       "    <tr>\n",
       "      <th>345</th>\n",
       "      <td>z13th1q4yzihf1bll23qxzpjeujterydj</td>\n",
       "      <td>Carmen Racasanu</td>\n",
       "      <td>2014-11-14T13:27:52</td>\n",
       "      <td>How can this have 2 billion views when there's...</td>\n",
       "      <td>0</td>\n",
       "    </tr>\n",
       "    <tr>\n",
       "      <th>346</th>\n",
       "      <td>z13fcn1wfpb5e51xe04chdxakpzgchyaxzo0k</td>\n",
       "      <td>diego mogrovejo</td>\n",
       "      <td>2014-11-14T13:28:08</td>\n",
       "      <td>I don't now why I'm watching this in 2014﻿</td>\n",
       "      <td>0</td>\n",
       "    </tr>\n",
       "    <tr>\n",
       "      <th>347</th>\n",
       "      <td>z130zd5b3titudkoe04ccbeohojxuzppvbg</td>\n",
       "      <td>BlueYetiPlayz -Call Of Duty and More</td>\n",
       "      <td>2015-05-23T13:04:32</td>\n",
       "      <td>subscribe to me for call of duty vids and give...</td>\n",
       "      <td>1</td>\n",
       "    </tr>\n",
       "    <tr>\n",
       "      <th>348</th>\n",
       "      <td>z12he50arvrkivl5u04cctawgxzkjfsjcc4</td>\n",
       "      <td>Photo Editor</td>\n",
       "      <td>2015-06-05T14:14:48</td>\n",
       "      <td>hi guys please my android photo editor downloa...</td>\n",
       "      <td>1</td>\n",
       "    </tr>\n",
       "    <tr>\n",
       "      <th>349</th>\n",
       "      <td>z13vhvu54u3ewpp5h04ccb4zuoardrmjlyk0k</td>\n",
       "      <td>Ray Benich</td>\n",
       "      <td>2015-06-05T18:05:16</td>\n",
       "      <td>The first billion viewed this because they tho...</td>\n",
       "      <td>0</td>\n",
       "    </tr>\n",
       "  </tbody>\n",
       "</table>\n",
       "</div>"
      ],
      "text/plain": [
       "                                COMMENT_ID  \\\n",
       "345      z13th1q4yzihf1bll23qxzpjeujterydj   \n",
       "346  z13fcn1wfpb5e51xe04chdxakpzgchyaxzo0k   \n",
       "347    z130zd5b3titudkoe04ccbeohojxuzppvbg   \n",
       "348    z12he50arvrkivl5u04cctawgxzkjfsjcc4   \n",
       "349  z13vhvu54u3ewpp5h04ccb4zuoardrmjlyk0k   \n",
       "\n",
       "                                   AUTHOR                 DATE  \\\n",
       "345                       Carmen Racasanu  2014-11-14T13:27:52   \n",
       "346                       diego mogrovejo  2014-11-14T13:28:08   \n",
       "347  BlueYetiPlayz -Call Of Duty and More  2015-05-23T13:04:32   \n",
       "348                          Photo Editor  2015-06-05T14:14:48   \n",
       "349                            Ray Benich  2015-06-05T18:05:16   \n",
       "\n",
       "                                               CONTENT  CLASS  \n",
       "345  How can this have 2 billion views when there's...      0  \n",
       "346         I don't now why I'm watching this in 2014﻿      0  \n",
       "347  subscribe to me for call of duty vids and give...      1  \n",
       "348  hi guys please my android photo editor downloa...      1  \n",
       "349  The first billion viewed this because they tho...      0  "
      ]
     },
     "execution_count": 29,
     "metadata": {},
     "output_type": "execute_result"
    }
   ],
   "source": [
    "psy = pd.read_csv('data/psy.csv')\n",
    "psy.tail()"
   ]
  },
  {
   "cell_type": "markdown",
   "metadata": {},
   "source": [
    "The `text` module from Scikit-Learn has an object called a `CountVectorizer`, which takes a vector of text and turns it into a bag-of-words representation. If there are 1000 distinct words in the text vector, then the output of the `CountVectorizer` will have 1000 columns, and each column will have a count for its corresponding word. The code is very similar to how we train machine learning models."
   ]
  },
  {
   "cell_type": "code",
   "execution_count": 30,
   "metadata": {},
   "outputs": [
    {
     "data": {
      "text/plain": [
       "CountVectorizer(analyzer='word', binary=False, decode_error='strict',\n",
       "                dtype=<class 'numpy.int64'>, encoding='utf-8', input='content',\n",
       "                lowercase=True, max_df=1.0, max_features=None, min_df=1,\n",
       "                ngram_range=(1, 1), preprocessor=None, stop_words='english',\n",
       "                strip_accents=None, token_pattern='(?u)\\\\b\\\\w\\\\w+\\\\b',\n",
       "                tokenizer=None, vocabulary=None)"
      ]
     },
     "execution_count": 30,
     "metadata": {},
     "output_type": "execute_result"
    }
   ],
   "source": [
    "word_bagger = text.CountVectorizer(stop_words=\"english\")\n",
    "word_bagger.fit(psy['CONTENT'])"
   ]
  },
  {
   "cell_type": "code",
   "execution_count": 31,
   "metadata": {},
   "outputs": [
    {
     "data": {
      "text/plain": [
       "1259"
      ]
     },
     "execution_count": 31,
     "metadata": {},
     "output_type": "execute_result"
    }
   ],
   "source": [
    "all_words = word_bagger.get_feature_names()\n",
    "len(all_words)"
   ]
  },
  {
   "cell_type": "markdown",
   "metadata": {},
   "source": [
    "So there are 1,259 distinct words in the dataset. Some of them are below."
   ]
  },
  {
   "cell_type": "code",
   "execution_count": 32,
   "metadata": {},
   "outputs": [
    {
     "data": {
      "text/plain": [
       "['smh',\n",
       " 'social',\n",
       " 'sold',\n",
       " 'somebody',\n",
       " 'song',\n",
       " 'songs',\n",
       " 'songwriter',\n",
       " 'soon',\n",
       " 'sorry',\n",
       " 'sound']"
      ]
     },
     "execution_count": 32,
     "metadata": {},
     "output_type": "execute_result"
    }
   ],
   "source": [
    "all_words[1000:1010]"
   ]
  },
  {
   "cell_type": "markdown",
   "metadata": {},
   "source": [
    "To generate the features, we use the `transform` method of the fitted `CountVectorizer` (very similarly to how we can use the `predict` method of fitted ML models.)"
   ]
  },
  {
   "cell_type": "code",
   "execution_count": 33,
   "metadata": {},
   "outputs": [
    {
     "data": {
      "text/plain": [
       "<350x1259 sparse matrix of type '<class 'numpy.int64'>'\n",
       "\twith 2643 stored elements in Compressed Sparse Row format>"
      ]
     },
     "execution_count": 33,
     "metadata": {},
     "output_type": "execute_result"
    }
   ],
   "source": [
    "y = psy['CLASS']\n",
    "X = word_bagger.transform(psy['CONTENT'])\n",
    "X"
   ]
  },
  {
   "cell_type": "markdown",
   "metadata": {},
   "source": [
    "Quick aside: `X` is stored as a _sparse matrix_. This is because the vast majority of the entries in `X` are 0, and it would be wasteful to store 1000's of copies of the number 0. To save memory, sparse matrices are stored as a list of the indices and values of the non-zero entries in the matrix. Luckily, `sklearn` knows how to deal with sparse matrices, so we don't really have to worry about this.\n",
    "\n",
    "Now let's fit a Naive Bayes model. We'll use _Multinomial_ Naive Bayes because our features are counts."
   ]
  },
  {
   "cell_type": "code",
   "execution_count": 34,
   "metadata": {},
   "outputs": [
    {
     "data": {
      "text/plain": [
       "MultinomialNB(alpha=1.0, class_prior=None, fit_prior=True)"
      ]
     },
     "execution_count": 34,
     "metadata": {},
     "output_type": "execute_result"
    }
   ],
   "source": [
    "spam_nb = MultinomialNB()\n",
    "spam_nb.fit(X, y)"
   ]
  },
  {
   "cell_type": "code",
   "execution_count": 35,
   "metadata": {},
   "outputs": [
    {
     "data": {
      "text/plain": [
       "0.9942857142857143"
      ]
     },
     "execution_count": 35,
     "metadata": {},
     "output_type": "execute_result"
    }
   ],
   "source": [
    "spam_nb.score(X,y)"
   ]
  },
  {
   "cell_type": "markdown",
   "metadata": {},
   "source": [
    "99.4% training accuracy! Seems pretty good, but we are probably overfitting... Let's try using it."
   ]
  },
  {
   "cell_type": "code",
   "execution_count": 36,
   "metadata": {},
   "outputs": [
    {
     "data": {
      "text/plain": [
       "(2, 1259)"
      ]
     },
     "execution_count": 36,
     "metadata": {},
     "output_type": "execute_result"
    }
   ],
   "source": [
    "ham = \"I think this is a really great song. Psy is the best!\"\n",
    "spam = \"Buy real handbags and watches cheap on this sketchy website www.scam.org!\"\n",
    "\n",
    "bagged = word_bagger.transform([ham, spam])\n",
    "bagged.shape"
   ]
  },
  {
   "cell_type": "code",
   "execution_count": 37,
   "metadata": {},
   "outputs": [
    {
     "data": {
      "text/plain": [
       "array([0, 1])"
      ]
     },
     "execution_count": 37,
     "metadata": {},
     "output_type": "execute_result"
    }
   ],
   "source": [
    "spam_nb.predict(bagged)"
   ]
  },
  {
   "cell_type": "code",
   "execution_count": 38,
   "metadata": {},
   "outputs": [
    {
     "data": {
      "text/plain": [
       "array([[0.98076482, 0.01923518],\n",
       "       [0.00284262, 0.99715738]])"
      ]
     },
     "execution_count": 38,
     "metadata": {},
     "output_type": "execute_result"
    }
   ],
   "source": [
    "spam_nb.predict_proba(bagged)"
   ]
  },
  {
   "cell_type": "markdown",
   "metadata": {},
   "source": [
    "Seems right.\n",
    "\n",
    "**Discussion: What do you think about the _generalizability_ of this model? Do you think we could deploy this on YouTube today and flag spam comments effectively? Why or why not? What would we need to change to improve the generalizability?**"
   ]
  },
  {
   "cell_type": "markdown",
   "metadata": {},
   "source": [
    "### Naive Bayes for the blood transfusion dataset\n",
    "\n",
    "Which version of the Naive Bayes classifier you use depends on what kind of _features_ you have. In the above problem we had features which were _counts_ and so it was appropriate to use the Multinomial Naive Bayes. Since we have something more like continuous features in the Blood Transfusions dataset, we might use the Gaussian Naive Bayes instead. \n",
    "\n",
    "A huge benefit of `sklearn` is that using a different model is simply a matter of changing a line of code -- the code to use a Naive Bayes model is virtually identical to the code for fitting the logistic regression."
   ]
  },
  {
   "cell_type": "code",
   "execution_count": 39,
   "metadata": {},
   "outputs": [
    {
     "data": {
      "text/plain": [
       "0.75"
      ]
     },
     "execution_count": 39,
     "metadata": {},
     "output_type": "execute_result"
    }
   ],
   "source": [
    "X = bt.iloc[:,:-1]\n",
    "y = bt.Donated\n",
    "bt_nb = GaussianNB()\n",
    "bt_nb.fit(X,y)\n",
    "bt_nb.score(X,y)"
   ]
  },
  {
   "cell_type": "markdown",
   "metadata": {},
   "source": [
    "### Classifying Entirely Categorical Data\n",
    "Let's look at some data for different kinds of fruits, based on their colour, size, and the type of flesh they have; the categories are the families the fruits belong to."
   ]
  },
  {
   "cell_type": "code",
   "execution_count": 40,
   "metadata": {},
   "outputs": [
    {
     "data": {
      "text/html": [
       "<div>\n",
       "<style scoped>\n",
       "    .dataframe tbody tr th:only-of-type {\n",
       "        vertical-align: middle;\n",
       "    }\n",
       "\n",
       "    .dataframe tbody tr th {\n",
       "        vertical-align: top;\n",
       "    }\n",
       "\n",
       "    .dataframe thead th {\n",
       "        text-align: right;\n",
       "    }\n",
       "</style>\n",
       "<table border=\"1\" class=\"dataframe\">\n",
       "  <thead>\n",
       "    <tr style=\"text-align: right;\">\n",
       "      <th></th>\n",
       "      <th>Color</th>\n",
       "      <th>Size</th>\n",
       "      <th>Flesh</th>\n",
       "      <th>Category</th>\n",
       "      <th>Fruit</th>\n",
       "    </tr>\n",
       "  </thead>\n",
       "  <tbody>\n",
       "    <tr>\n",
       "      <th>0</th>\n",
       "      <td>red</td>\n",
       "      <td>medium</td>\n",
       "      <td>solid</td>\n",
       "      <td>pomaceous</td>\n",
       "      <td>apple</td>\n",
       "    </tr>\n",
       "    <tr>\n",
       "      <th>1</th>\n",
       "      <td>orange</td>\n",
       "      <td>medium</td>\n",
       "      <td>segmented</td>\n",
       "      <td>citrus</td>\n",
       "      <td>orange</td>\n",
       "    </tr>\n",
       "    <tr>\n",
       "      <th>2</th>\n",
       "      <td>yellow</td>\n",
       "      <td>medium</td>\n",
       "      <td>segmented</td>\n",
       "      <td>citrus</td>\n",
       "      <td>lemon</td>\n",
       "    </tr>\n",
       "    <tr>\n",
       "      <th>3</th>\n",
       "      <td>red</td>\n",
       "      <td>small</td>\n",
       "      <td>solid</td>\n",
       "      <td>berry</td>\n",
       "      <td>strawberry</td>\n",
       "    </tr>\n",
       "    <tr>\n",
       "      <th>4</th>\n",
       "      <td>green</td>\n",
       "      <td>medium</td>\n",
       "      <td>solid</td>\n",
       "      <td>pomaceous</td>\n",
       "      <td>pear</td>\n",
       "    </tr>\n",
       "    <tr>\n",
       "      <th>5</th>\n",
       "      <td>blue</td>\n",
       "      <td>small</td>\n",
       "      <td>solid</td>\n",
       "      <td>berry</td>\n",
       "      <td>blueberry</td>\n",
       "    </tr>\n",
       "  </tbody>\n",
       "</table>\n",
       "</div>"
      ],
      "text/plain": [
       "    Color    Size      Flesh   Category       Fruit\n",
       "0     red  medium      solid  pomaceous       apple\n",
       "1  orange  medium  segmented     citrus      orange\n",
       "2  yellow  medium  segmented     citrus       lemon\n",
       "3     red   small      solid      berry  strawberry\n",
       "4   green  medium      solid  pomaceous        pear\n",
       "5    blue   small      solid      berry   blueberry"
      ]
     },
     "execution_count": 40,
     "metadata": {},
     "output_type": "execute_result"
    }
   ],
   "source": [
    "fruits = pd.DataFrame({\n",
    "    'Color': ['red','orange','yellow','red','green','blue'],\n",
    "    'Size': ['medium','medium','medium','small','medium','small'],\n",
    "    'Flesh': ['solid','segmented','segmented','solid','solid','solid'],\n",
    "    'Category': ['pomaceous','citrus','citrus','berry','pomaceous','berry'],\n",
    "    'Fruit': ['apple','orange','lemon','strawberry','pear','blueberry']})\n",
    "fruits"
   ]
  },
  {
   "cell_type": "markdown",
   "metadata": {},
   "source": [
    "For this kind of data, we'll use Bernoulli Naive Bayes:\n",
    ">Like MultinomialNB, this classifier is suitable for discrete data. The difference is that while MultinomialNB works with occurrence counts, BernoulliNB is designed for binary/boolean features.\n",
    "\n",
    "We need to convert the categorical data into numerical data that the program can understand.  For example, there are only two sizes (medium and small), so we can represent the \"size\" as a 0 or 1, corresponding to small or medium, respectively.  The same can be done for segmented or solid flesh.  Since the color attribute has more than 2 values, we'll use the `pd.get_dummies` to encode (as seen previously)."
   ]
  },
  {
   "cell_type": "code",
   "execution_count": 44,
   "metadata": {},
   "outputs": [],
   "source": [
    "colour_dummies = pd.get_dummies(fruits.Color, prefix='Color')"
   ]
  },
  {
   "cell_type": "code",
   "execution_count": 45,
   "metadata": {},
   "outputs": [],
   "source": [
    "fruits['size_n'] = fruits.Size.map({'small':0, 'medium':1})\n",
    "fruits['flesh_n'] = fruits.Flesh.map({'segmented':0,'solid':1})"
   ]
  },
  {
   "cell_type": "code",
   "execution_count": 46,
   "metadata": {},
   "outputs": [],
   "source": [
    "# We'll create a dataframe of just the binary feature data\n",
    "fr = pd.concat([fruits[['size_n','flesh_n']],colour_dummies],axis=1)"
   ]
  },
  {
   "cell_type": "code",
   "execution_count": 47,
   "metadata": {},
   "outputs": [
    {
     "data": {
      "text/html": [
       "<div>\n",
       "<style scoped>\n",
       "    .dataframe tbody tr th:only-of-type {\n",
       "        vertical-align: middle;\n",
       "    }\n",
       "\n",
       "    .dataframe tbody tr th {\n",
       "        vertical-align: top;\n",
       "    }\n",
       "\n",
       "    .dataframe thead th {\n",
       "        text-align: right;\n",
       "    }\n",
       "</style>\n",
       "<table border=\"1\" class=\"dataframe\">\n",
       "  <thead>\n",
       "    <tr style=\"text-align: right;\">\n",
       "      <th></th>\n",
       "      <th>size_n</th>\n",
       "      <th>flesh_n</th>\n",
       "      <th>Color_blue</th>\n",
       "      <th>Color_green</th>\n",
       "      <th>Color_orange</th>\n",
       "      <th>Color_red</th>\n",
       "      <th>Color_yellow</th>\n",
       "    </tr>\n",
       "  </thead>\n",
       "  <tbody>\n",
       "    <tr>\n",
       "      <th>0</th>\n",
       "      <td>1</td>\n",
       "      <td>1</td>\n",
       "      <td>0</td>\n",
       "      <td>0</td>\n",
       "      <td>0</td>\n",
       "      <td>1</td>\n",
       "      <td>0</td>\n",
       "    </tr>\n",
       "    <tr>\n",
       "      <th>1</th>\n",
       "      <td>1</td>\n",
       "      <td>0</td>\n",
       "      <td>0</td>\n",
       "      <td>0</td>\n",
       "      <td>1</td>\n",
       "      <td>0</td>\n",
       "      <td>0</td>\n",
       "    </tr>\n",
       "    <tr>\n",
       "      <th>2</th>\n",
       "      <td>1</td>\n",
       "      <td>0</td>\n",
       "      <td>0</td>\n",
       "      <td>0</td>\n",
       "      <td>0</td>\n",
       "      <td>0</td>\n",
       "      <td>1</td>\n",
       "    </tr>\n",
       "    <tr>\n",
       "      <th>3</th>\n",
       "      <td>0</td>\n",
       "      <td>1</td>\n",
       "      <td>0</td>\n",
       "      <td>0</td>\n",
       "      <td>0</td>\n",
       "      <td>1</td>\n",
       "      <td>0</td>\n",
       "    </tr>\n",
       "    <tr>\n",
       "      <th>4</th>\n",
       "      <td>1</td>\n",
       "      <td>1</td>\n",
       "      <td>0</td>\n",
       "      <td>1</td>\n",
       "      <td>0</td>\n",
       "      <td>0</td>\n",
       "      <td>0</td>\n",
       "    </tr>\n",
       "    <tr>\n",
       "      <th>5</th>\n",
       "      <td>0</td>\n",
       "      <td>1</td>\n",
       "      <td>1</td>\n",
       "      <td>0</td>\n",
       "      <td>0</td>\n",
       "      <td>0</td>\n",
       "      <td>0</td>\n",
       "    </tr>\n",
       "  </tbody>\n",
       "</table>\n",
       "</div>"
      ],
      "text/plain": [
       "   size_n  flesh_n  Color_blue  Color_green  Color_orange  Color_red  \\\n",
       "0       1        1           0            0             0          1   \n",
       "1       1        0           0            0             1          0   \n",
       "2       1        0           0            0             0          0   \n",
       "3       0        1           0            0             0          1   \n",
       "4       1        1           0            1             0          0   \n",
       "5       0        1           1            0             0          0   \n",
       "\n",
       "   Color_yellow  \n",
       "0             0  \n",
       "1             0  \n",
       "2             1  \n",
       "3             0  \n",
       "4             0  \n",
       "5             0  "
      ]
     },
     "execution_count": 47,
     "metadata": {},
     "output_type": "execute_result"
    }
   ],
   "source": [
    "fr"
   ]
  },
  {
   "cell_type": "code",
   "execution_count": 48,
   "metadata": {},
   "outputs": [
    {
     "data": {
      "text/plain": [
       "BernoulliNB(alpha=1.0, binarize=0.0, class_prior=None, fit_prior=True)"
      ]
     },
     "execution_count": 48,
     "metadata": {},
     "output_type": "execute_result"
    }
   ],
   "source": [
    "fnb = BernoulliNB()\n",
    "#fnb.fit(fr.values, fruits['Category'])\n",
    "fnb.fit(fr, fruits['Category'])"
   ]
  },
  {
   "cell_type": "markdown",
   "metadata": {},
   "source": [
    "Now that we've created our model, let's see how well we can predict a few other fruit:<br>\n",
    "Predict a kumquat?  "
   ]
  },
  {
   "cell_type": "code",
   "execution_count": 49,
   "metadata": {},
   "outputs": [
    {
     "data": {
      "text/plain": [
       "array(['citrus'], dtype='<U9')"
      ]
     },
     "execution_count": 49,
     "metadata": {},
     "output_type": "execute_result"
    }
   ],
   "source": [
    "# Small, orange, segmented.\n",
    "kumquat = [[1,0,0,0,1,0,0]]\n",
    "fnb.predict(kumquat)"
   ]
  },
  {
   "cell_type": "markdown",
   "metadata": {},
   "source": [
    "Predict a green apple?  "
   ]
  },
  {
   "cell_type": "code",
   "execution_count": 50,
   "metadata": {},
   "outputs": [
    {
     "data": {
      "text/plain": [
       "array(['pomaceous'], dtype='<U9')"
      ]
     },
     "execution_count": 50,
     "metadata": {},
     "output_type": "execute_result"
    }
   ],
   "source": [
    "# Medium, green, solid:\n",
    "green_apple = [[1,1,0,1,0,0,0]]\n",
    "fnb.predict(green_apple)"
   ]
  },
  {
   "cell_type": "markdown",
   "metadata": {},
   "source": [
    "Grape?  "
   ]
  },
  {
   "cell_type": "code",
   "execution_count": 51,
   "metadata": {},
   "outputs": [
    {
     "data": {
      "text/plain": [
       "array(['berry'], dtype='<U9')"
      ]
     },
     "execution_count": 51,
     "metadata": {},
     "output_type": "execute_result"
    }
   ],
   "source": [
    "# Small, green, solid\n",
    "grape = [[0,1,0,1,0,0,0]]\n",
    "fnb.predict(grape)"
   ]
  },
  {
   "cell_type": "markdown",
   "metadata": {},
   "source": [
    "So with very few data points to start with, our model can successfully categorize a number of other fruit.  The limitation, though, is for features/categories that are not present:  we couldn't use this model to predict, say, a grapefruit, because its size would be \"large\", which isn't accounted for in the model of the original data.  Similarly, we couldn't properly classify a pumpkin, because we didn't train our model on any data that included gourds as a class.  \n",
    "\n",
    "The model is also not perfect; it cannot, for example, classify a pomegranate properly (which is technically a berry), because it thinks it is a citrus fruit (which it definitely is not). "
   ]
  },
  {
   "cell_type": "code",
   "execution_count": 52,
   "metadata": {},
   "outputs": [
    {
     "data": {
      "text/plain": [
       "array(['citrus'], dtype='<U9')"
      ]
     },
     "execution_count": 52,
     "metadata": {},
     "output_type": "execute_result"
    }
   ],
   "source": [
    "# Medium, segmented, red\n",
    "pomegranate = [[1,0,0,0,0,1,0]]\n",
    "fnb.predict(pomegranate)"
   ]
  },
  {
   "cell_type": "markdown",
   "metadata": {},
   "source": [
    "# Decision Trees\n",
    "\n",
    "Decision trees will be familiar to anyone who has played 20 Questions:  one player thinks of something (a person, an object, a place, etc.), and the other player tries to guess what it is by asking up to 20 questions that have yes or no answers.  Based on the answers you receive, you're able to eliminate many possible solutions (e.g. if the answer to \"animal?\" is \"yes\", but the answer to \"does it have four legs?\" is \"no\", then clearly it cannot be a pig, or a sheep, or a cow, or a dog, or...), and hopefully arrive at the answer.  This is an example of a *binary* tree, as there are two possible branches to each question:\n",
    "\n",
    "<img src=\"https://drive.google.com/uc?export=view&id=1nvbnf4P8MmEo3_IPJ0MBvVMnW5MUUUca\" width=\"500\" height =\"500\"/>\n",
    "\n",
    "The tree is made up of *nodes* (with the first being the *root* node), and each node represents a test on the attributes (e.g. is the color 'red'?).  Based on what the answer is, the nodes branch into child nodes that perform further tests until you reach a *leaf* node (or *terminal* node) that has no child nodes.  \n",
    "\n",
    "How does the tree decide to make splits?  The goal is to split the data such that we *gain information* about the subsets we've created.  In essence, we want to reduce the uncertainty or randomness in the collections of data. Without introducing too much information theory, the measure of this uncertainty is the *entropy*, defined as:\n",
    "\n",
    "$$ H = -\\sum_{c\\in C} P(c)\\log_2(P(c))$$ \n",
    "\n",
    "where $P(c)$ is the probability of occurrence of the class $c$ from the set of classes $C$ (as a note, the choice of $\\log_2$ – making the entropy measured in *bits* – is a choice; other common choices including $\\ln$ or $\\log_{10}$).  The decision looks at possible ways to split the data, and chooses the one which maximizes the information gain, i.e., the choice which most reduces the entropy.\n",
    "\n",
    "One of the other ways we can measure this is the *Gini impurity*, which is a way to measure the following question: \"Suppose you select an element of the data at random, and then assign it a random class from the list of classes; how often will this result in an *incorrect* labeling?\".  If we have $N$ classes, and we define $p_i$ to be the proportion of elements of our data that are labeled as being in class $i\\in\\{1,2,\\ldots,N\\}$, then the Gini impurity is defined as\n",
    "\n",
    "$$ I_G = 1 - \\sum_{i=1}^N{p_i}^2. $$\n",
    "\n",
    "Decision tree learning can be used for classification and regression:  just like our regression models and our classification algorithms, the decision tree will be trained on given data to create a model that we can use to predict new data with (either what *category* it belongs to, or to predict a *number* output like the price of a house based on other features, like from the first unit).  \n",
    "\n",
    "We can implement a simple decision tree model using sklearn's `tree` object.  "
   ]
  },
  {
   "cell_type": "code",
   "execution_count": 53,
   "metadata": {},
   "outputs": [],
   "source": [
    "from sklearn import tree"
   ]
  },
  {
   "cell_type": "code",
   "execution_count": 54,
   "metadata": {},
   "outputs": [
    {
     "data": {
      "text/plain": [
       "0.7620320855614974"
      ]
     },
     "execution_count": 54,
     "metadata": {},
     "output_type": "execute_result"
    }
   ],
   "source": [
    "bt_tree = tree.DecisionTreeClassifier(max_depth=2)\n",
    "bt_tree.fit(X,y)\n",
    "bt_tree.score(X,y)"
   ]
  },
  {
   "cell_type": "markdown",
   "metadata": {},
   "source": [
    "The `max_depth` parameter limits the depth of the decision tree. This is important as if the depth is unlimited, the decision tree could just memorize the dataset (which would be a case of overfitting).\n",
    "\n",
    "The following code, borrowed from the [`sklearn` documentation](https://scikit-learn.org/stable/auto_examples/tree/plot_unveil_tree_structure.html), reveals the structure of the tree."
   ]
  },
  {
   "cell_type": "code",
   "execution_count": 55,
   "metadata": {},
   "outputs": [
    {
     "name": "stdout",
     "output_type": "stream",
     "text": [
      "The binary tree structure has 7 nodes and has the following tree structure:\n",
      "node=0 test node: go to node 1 if X[:, 0] <= 6.5 else to node 4.\n",
      "\tnode=1 test node: go to node 2 if X[:, 1] <= 4.5 else to node 3.\n",
      "\t\tnode=2 leaf node.\n",
      "\t\tnode=3 leaf node.\n",
      "\tnode=4 test node: go to node 5 if X[:, 0] <= 14.5 else to node 6.\n",
      "\t\tnode=5 leaf node.\n",
      "\t\tnode=6 leaf node.\n"
     ]
    }
   ],
   "source": [
    "# Using those arrays, we can parse the tree structure:\n",
    "estimator = bt_tree\n",
    "n_nodes = estimator.tree_.node_count\n",
    "children_left = estimator.tree_.children_left\n",
    "children_right = estimator.tree_.children_right\n",
    "feature = estimator.tree_.feature\n",
    "threshold = estimator.tree_.threshold\n",
    "\n",
    "\n",
    "# The tree structure can be traversed to compute various properties such\n",
    "# as the depth of each node and whether or not it is a leaf.\n",
    "node_depth = np.zeros(shape=n_nodes, dtype=np.int64)\n",
    "is_leaves = np.zeros(shape=n_nodes, dtype=bool)\n",
    "stack = [(0, -1)]  # seed is the root node id and its parent depth\n",
    "while len(stack) > 0:\n",
    "    node_id, parent_depth = stack.pop()\n",
    "    node_depth[node_id] = parent_depth + 1\n",
    "\n",
    "    # If we have a test node\n",
    "    if (children_left[node_id] != children_right[node_id]):\n",
    "        stack.append((children_left[node_id], parent_depth + 1))\n",
    "        stack.append((children_right[node_id], parent_depth + 1))\n",
    "    else:\n",
    "        is_leaves[node_id] = True\n",
    "\n",
    "print(\"The binary tree structure has %s nodes and has \"\n",
    "      \"the following tree structure:\"\n",
    "      % n_nodes)\n",
    "for i in range(n_nodes):\n",
    "    if is_leaves[i]:\n",
    "        print(\"%snode=%s leaf node.\" % (node_depth[i] * \"\\t\", i))\n",
    "    else:\n",
    "        print(\"%snode=%s test node: go to node %s if X[:, %s] <= %s else to \"\n",
    "              \"node %s.\"\n",
    "              % (node_depth[i] * \"\\t\",\n",
    "                 i,\n",
    "                 children_left[i],\n",
    "                 feature[i],\n",
    "                 threshold[i],\n",
    "                 children_right[i],\n",
    "                 ))"
   ]
  },
  {
   "cell_type": "markdown",
   "metadata": {},
   "source": [
    "## Making Decision Trees Better\n",
    "\n",
    "While decision trees are easy to understand, they have a number of shortcomings.  Decision trees tend to be very sensitive to minor changes in data, and can introduce serious biases as you move further down the tree (because you're considering smaller subsets of the training data at each level down).  One way to get around these limitations is by considering an ensemble method of trees, such as *random forests*.  We will be speaking more about these in Unit 10."
   ]
  },
  {
   "cell_type": "markdown",
   "metadata": {},
   "source": [
    "## Assignment Questions\n",
    "\n",
    "\n",
    "### Question 1: Logistic Regression with Loan Data #\n",
    "\n",
    "1. Here is a dataset containing loans that have either made a first payment default (IsDefault = 1) or not (IsDefault = 0). There are various independent variables that can help us predict whether a customer will default or not. Given this dataset containing loans, predict default rate using logistic regression. \n",
    "\n",
    "    1. What are the general summary statistics of this data set? Number of rows? Columns? What is the overall default rate of the dataset (i.e., sum of IsDefault = 1 divided by total number of rows)?\n",
    "    \n",
    "    2. Look at the correlations between IsDefault and the independent variables. Which 3 variables have the strongest correlation with IsDefault? \n",
    "    \n",
    "    3. Visualize the relationship between bank score and default rate.\n",
    "    \n",
    "    4. Build a logistic regression model using bank score to predict default rate. What are the coefficient and intercept values? Plot the logistic function.\n",
    "    \n",
    "    5. What is the probability that a loan with a bank score of 800 will default? What about 500? \n",
    "    \n",
    "    6. Build a logistic regression model with multiple features from this data set. "
   ]
  },
  {
   "cell_type": "code",
   "execution_count": null,
   "metadata": {},
   "outputs": [],
   "source": []
  },
  {
   "cell_type": "markdown",
   "metadata": {},
   "source": [
    "### Question 2: Decision Trees with Loan Data\n",
    "\n",
    "2. Now let's predict defaults using decision trees. \n",
    "\n",
    "    1. How many different levels are in the dependent variable/factor (IsDefault)?\n",
    "    \n",
    "    2. Use `pd.get_dummies()` to encode categorical variables\n",
    "    \n",
    "    3. Report the training accuracy of your model"
   ]
  },
  {
   "cell_type": "code",
   "execution_count": null,
   "metadata": {},
   "outputs": [],
   "source": []
  },
  {
   "cell_type": "markdown",
   "metadata": {},
   "source": [
    "### Question 3: Decision Trees with Retail Data\n",
    "\n",
    "3. This retail data set tells us what types of customer segments ordered certain items and describes the cost of those items. Based on the values of the variables given to us, let's build a decision tree model to predict which customer segment an order is likely to come from based on its characteristics.\n",
    "\n",
    "    1. Take a look at your data. Give some basic summary statistics.\n",
    "    \n",
    "    2. How many different levels are in the dependent variable/factor (Segment)?\n",
    "    \n",
    "    3. Use `pd.get_dummies()` to encode categorical variables\n",
    "    \n",
    "    4. Report the training accuracy of the model"
   ]
  },
  {
   "cell_type": "code",
   "execution_count": null,
   "metadata": {},
   "outputs": [],
   "source": []
  },
  {
   "cell_type": "markdown",
   "metadata": {},
   "source": [
    "<div id=\"container\" style=\"position:relative;\">\n",
    "<div style=\"position:relative; float:right\"><img style=\"height:25px\"\"width: 50px\" src =\"https://drive.google.com/uc?export=view&id=14VoXUJftgptWtdNhtNYVm6cjVmEWpki1\" />\n",
    "</div>\n",
    "</div>"
   ]
  }
 ],
 "metadata": {
  "kernelspec": {
   "display_name": "Python 3",
   "language": "python",
   "name": "python3"
  },
  "language_info": {
   "codemirror_mode": {
    "name": "ipython",
    "version": 3
   },
   "file_extension": ".py",
   "mimetype": "text/x-python",
   "name": "python",
   "nbconvert_exporter": "python",
   "pygments_lexer": "ipython3",
   "version": "3.8.5"
  }
 },
 "nbformat": 4,
 "nbformat_minor": 4
}
