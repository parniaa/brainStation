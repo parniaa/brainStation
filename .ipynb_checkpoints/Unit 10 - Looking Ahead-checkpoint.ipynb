{
 "cells": [
  {
   "cell_type": "markdown",
   "metadata": {},
   "source": [
    "<div id=\"container\" style=\"position:relative;\">\n",
    "<div style=\"float:left\"><h1> Looking Ahead </h1></div>\n",
    "<div style=\"position:relative; float:right\"><img style=\"height:65px\" src =\"https://drive.google.com/uc?export=view&id=1EnB0x-fdqMp6I5iMoEBBEuxB_s7AmE2k\" />\n",
    "</div>\n",
    "</div>\n"
   ]
  },
  {
   "cell_type": "markdown",
   "metadata": {
    "colab_type": "text",
    "id": "hSMzr5szM40Y"
   },
   "source": [
    "# Optimization\n",
    "\n",
    "The subject of mathematical optimization gives us a wide range of options for optimizing our cost function.  Some of them require the functions to be mathematically well-behaved (e.g. differentiable), whereas others do not have very stringent requirements."
   ]
  },
  {
   "cell_type": "markdown",
   "metadata": {
    "colab_type": "text",
    "id": "jAoR3b6sM40Z"
   },
   "source": [
    "## Grid Search\n",
    "\n",
    "The (conceptually) easiest way to search for a maximum or minimum across a discrete space is to search every possibility, and record whatever the largest/smallest value is.  For example, if we had to maximize a function `f(a,b)` over two arguments `a,b` where `a` had possible values `[1,2]` and `b` had possible values `[3,10]`, then we would compute each of the values `[f(1,3),f(1,10),f(2,3),f(2,10)]`, and find the max/min.  \n",
    "\n",
    "Let's write a very simple gridsearch in Python with an example function:"
   ]
  },
  {
   "cell_type": "code",
   "execution_count": 2,
   "metadata": {
    "colab": {},
    "colab_type": "code",
    "id": "WLtBpvK0M40Z"
   },
   "outputs": [],
   "source": [
    "# We'll assume there are two parameters, a and b.\n",
    "# We have to define variables which will be the discrete values of each parameter we want to test\n",
    "\n",
    "def gridsearch2(func,a_range,b_range):\n",
    "    max = -np.inf\n",
    "    a_value = None\n",
    "    b_value = None\n",
    "    for a in a_range:\n",
    "        for b in b_range:\n",
    "            if func(a,b) > max:\n",
    "                max = func(a,b)\n",
    "                a_value = a\n",
    "                b_value = b\n",
    "    return [a_value,b_value,max]"
   ]
  },
  {
   "cell_type": "code",
   "execution_count": 3,
   "metadata": {
    "colab": {},
    "colab_type": "code",
    "id": "cvyNEJ_6M40c"
   },
   "outputs": [
    {
     "data": {
      "text/plain": [
       "[1, 3, 4.5399929762484854e-05]"
      ]
     },
     "execution_count": 3,
     "metadata": {},
     "output_type": "execute_result"
    }
   ],
   "source": [
    "a_range = [1,2]\n",
    "b_range = [3,10]\n",
    "def function1(a,b):\n",
    "    return np.exp(-a**2-b**2)\n",
    "\n",
    "gridsearch2(function1,a_range,b_range)"
   ]
  },
  {
   "cell_type": "markdown",
   "metadata": {
    "colab_type": "text",
    "id": "sc3eOSYoM40d"
   },
   "source": [
    "So for the given function `function1(a,b)`$ = e^{-a^2-b^2}$ with `a` in `[1,2]`, `b` in `[3,10]`, the maximum of the function  occurs at `(a,b) = (1,3)` with value `function1(1,3)` $\\cong 0.0000454$.\n",
    "\n",
    "The problem with this method is that adding more parameters increases the number of computations required dramatically; for example, if we added another parameter `c` to the function `f(a,b)`, and `c` has possible values `[0,7,12]`, the total computations we'd need to make are:<br>\n",
    "`[f(1,3,0),f(1,10,0),f(2,3,0),f(2,10,0),f(1,3,7),f(1,10,7),f(2,3,7),f(2,10,7),f(1,3,12),f(1,10,12),f(2,3,12),f(2,10,12)]`.<br>\n",
    "We jumped from 4 computations to 12. Searching exhaustively becomes computationally very expensive, and so we look to other methods to shorten the amount of work we have to do.  These methods involve not searching the *entire* parameter space, but trying to find a smart \"path\" through it."
   ]
  },
  {
   "cell_type": "markdown",
   "metadata": {
    "colab_type": "text",
    "id": "Pvhlm6GjM40e"
   },
   "source": [
    "## Gradient Descent\n",
    "\n",
    "Anyone who has taken an introductory course in calculus will remember that given a differentiable function $f:\\,\\mathbb{R}\\to\\mathbb{R}$, the locations of the maxima and minima of $f$ are given by the solutions to the equation\n",
    "    $$ \\frac{\\text{d}}{\\text{d}x}f(x) = 0. $$\n",
    "For example, if $f(x) = x^2$, the solution to $0 = \\frac{\\text{d}}{\\text{d}x}x^2 = 2x$ is the value $x=0$.  Further testing shows that this is a minimum of the function. When we have more complicated differentiable functions $f:\\,\\mathbb{R}^n\\to\\mathbb{R}$, we can use **gradient descent** as a way of finding paths to maximum/minimum values.  The gradient of a function is a vector of partial derivatives; e.g.: if $f:\\mathbb{R}^3\\to\\mathbb{R}$, then the gradient of $f$ is\n",
    "\n",
    "$$ \\nabla f = \\begin{bmatrix}\\frac{\\partial}{\\partial x_1}f & \\frac{\\partial}{\\partial x_2}f & \\frac{\\partial}{\\partial x_3}f\\end{bmatrix}$$\n",
    "\n",
    "(In $\\mathbb{R}^3$, we usually call $(x_1,x_2,x_3)=(x,y,z)$, but it's easier to enumerate over $x_i$ when the dimension increases.) In particular, the direction that the vector $\\nabla f$ at the point $(x_1,x_2,x_3)$ along the steepest slope of $f$.  This means we can follow the gradient up, stepwise, towards a potential maximum, or follow $-\\nabla f$ down towards a potential minimum. If we start at a point $\\bf{a}_{(0)}\\in \\mathbb{R}^n$, then we can iterate along a path by choosing\n",
    "\n",
    "$$  \\bf{a}_{(n+1)} = \\bf{a}_{(n)} - \\alpha \\nabla f(\\bf{a}_{(n)}) $$\n",
    "\n",
    "for a sufficiently small number $\\alpha$.  This way, we follow the gradient \"down\" towards a possible minimum."
   ]
  },
  {
   "cell_type": "markdown",
   "metadata": {
    "colab_type": "text",
    "id": "rwjny66PM40e"
   },
   "source": [
    "<img src=\"https://drive.google.com/uc?export=view&id=1pZ8twR7TcVdKTLL9qJpAToypMGU-c6vC\" width=\"500\" height=\"500\" />"
   ]
  },
  {
   "cell_type": "markdown",
   "metadata": {
    "colab_type": "text",
    "id": "kQwIE_gHM40f"
   },
   "source": [
    "This concept is particularly important in neural networks, as the process of *back propagation* calculates the error contributions of neurons via gradient descent on the loss function.\n",
    "\n",
    "We'll look at a quick example using SciPy's `optimize` package."
   ]
  },
  {
   "cell_type": "code",
   "execution_count": 4,
   "metadata": {
    "colab": {},
    "colab_type": "code",
    "id": "uQp5L7YoM40f"
   },
   "outputs": [],
   "source": [
    "from scipy import optimize"
   ]
  },
  {
   "cell_type": "markdown",
   "metadata": {
    "colab_type": "text",
    "id": "xdGobe7gM40i"
   },
   "source": [
    "We'll use the function $f(x) = x^4-2x-1$, guess that the minimum is at $x=0$ (we need to provide it with a starting point), and use the *nonlinear conjugate gradient method* (a numerical method approximating gradient descent):"
   ]
  },
  {
   "cell_type": "code",
   "execution_count": 5,
   "metadata": {
    "colab": {},
    "colab_type": "code",
    "id": "jc1FQ7NJM40j"
   },
   "outputs": [],
   "source": [
    "def f(x):\n",
    "    return x**4-2*x-1"
   ]
  },
  {
   "cell_type": "code",
   "execution_count": 6,
   "metadata": {
    "colab": {},
    "colab_type": "code",
    "id": "dcQs5APRM40k"
   },
   "outputs": [
    {
     "name": "stdout",
     "output_type": "stream",
     "text": [
      "Optimization terminated successfully.\n",
      "         Current function value: -2.190551\n",
      "         Iterations: 3\n",
      "         Function evaluations: 24\n",
      "         Gradient evaluations: 8\n"
     ]
    },
    {
     "data": {
      "text/plain": [
       "array([0.79370052])"
      ]
     },
     "execution_count": 6,
     "metadata": {},
     "output_type": "execute_result"
    }
   ],
   "source": [
    "optimize.fmin_cg(f,0)"
   ]
  },
  {
   "cell_type": "code",
   "execution_count": 7,
   "metadata": {
    "colab": {},
    "colab_type": "code",
    "id": "hxgfKZvnM40m"
   },
   "outputs": [
    {
     "data": {
      "image/png": "[encoded data removed]",
      "text/plain": [
       "<Figure size 432x288 with 1 Axes>"
      ]
     },
     "metadata": {
      "needs_background": "light"
     },
     "output_type": "display_data"
    }
   ],
   "source": [
    "x = np.arange(-4,4,0.01)\n",
    "plt.plot(x,f(x))\n",
    "plt.scatter([0.79370052],[f(0.79370052)],color='red');\n",
    "plt.grid()"
   ]
  },
  {
   "cell_type": "markdown",
   "metadata": {
    "colab_type": "text",
    "id": "oXgG49ggM405"
   },
   "source": [
    "# Random Forests\n",
    "\n",
    "One very popular way to use decision trees is combining multiple trees in a *random forest*.  The input data to be classified is put through a number of different trees, each of which \"votes\" on what category it should be classified into, and the votes are tallied to give the final classification.  The trees in the forest are \"grown\" as follows:\n",
    "\n",
    "1. Randomly sample from the original data the same number of cases as in the training set.\n",
    "2. Choose a number much less than the number of input variables.  At each node, this number of variables are randomly selected and the node is split by the best division amongst the variables selected.  \n",
    "3. The trees continue to grow in this method, unhindered, until the largest possible tree is constructed.\n",
    "\n",
    "Random forests have become very popular choices for dealing with classification/regression on large data sets.  You can read more about the efficacy and success of random forests here: https://arxiv.org/pdf/1504.07676.pdf"
   ]
  },
  {
   "cell_type": "code",
   "execution_count": 15,
   "metadata": {
    "colab": {},
    "colab_type": "code",
    "id": "2QiuWf5SM405"
   },
   "outputs": [
    {
     "data": {
      "text/html": [
       "<div>\n",
       "<style scoped>\n",
       "    .dataframe tbody tr th:only-of-type {\n",
       "        vertical-align: middle;\n",
       "    }\n",
       "\n",
       "    .dataframe tbody tr th {\n",
       "        vertical-align: top;\n",
       "    }\n",
       "\n",
       "    .dataframe thead th {\n",
       "        text-align: right;\n",
       "    }\n",
       "</style>\n",
       "<table border=\"1\" class=\"dataframe\">\n",
       "  <thead>\n",
       "    <tr style=\"text-align: right;\">\n",
       "      <th></th>\n",
       "      <th>Legs</th>\n",
       "      <th>Cold or Warm Blooded</th>\n",
       "      <th>Covering</th>\n",
       "      <th>Aquatic</th>\n",
       "      <th>Aerial</th>\n",
       "      <th>Lays Eggs</th>\n",
       "      <th>Category</th>\n",
       "    </tr>\n",
       "  </thead>\n",
       "  <tbody>\n",
       "    <tr>\n",
       "      <th>Tree Frog</th>\n",
       "      <td>4</td>\n",
       "      <td>cold</td>\n",
       "      <td>none</td>\n",
       "      <td>partial</td>\n",
       "      <td>no</td>\n",
       "      <td>yes</td>\n",
       "      <td>amphibian</td>\n",
       "    </tr>\n",
       "    <tr>\n",
       "      <th>Cane Toad</th>\n",
       "      <td>4</td>\n",
       "      <td>cold</td>\n",
       "      <td>none</td>\n",
       "      <td>no</td>\n",
       "      <td>no</td>\n",
       "      <td>yes</td>\n",
       "      <td>amphibian</td>\n",
       "    </tr>\n",
       "    <tr>\n",
       "      <th>Ball Python</th>\n",
       "      <td>0</td>\n",
       "      <td>cold</td>\n",
       "      <td>scales</td>\n",
       "      <td>no</td>\n",
       "      <td>no</td>\n",
       "      <td>yes</td>\n",
       "      <td>reptile</td>\n",
       "    </tr>\n",
       "    <tr>\n",
       "      <th>Dove</th>\n",
       "      <td>2</td>\n",
       "      <td>warm</td>\n",
       "      <td>feathers</td>\n",
       "      <td>no</td>\n",
       "      <td>yes</td>\n",
       "      <td>yes</td>\n",
       "      <td>bird</td>\n",
       "    </tr>\n",
       "    <tr>\n",
       "      <th>Human</th>\n",
       "      <td>2</td>\n",
       "      <td>warm</td>\n",
       "      <td>hair</td>\n",
       "      <td>no</td>\n",
       "      <td>no</td>\n",
       "      <td>no</td>\n",
       "      <td>mammal</td>\n",
       "    </tr>\n",
       "    <tr>\n",
       "      <th>Lion</th>\n",
       "      <td>4</td>\n",
       "      <td>warm</td>\n",
       "      <td>fur</td>\n",
       "      <td>no</td>\n",
       "      <td>no</td>\n",
       "      <td>no</td>\n",
       "      <td>mammal</td>\n",
       "    </tr>\n",
       "    <tr>\n",
       "      <th>Chihuaha</th>\n",
       "      <td>4</td>\n",
       "      <td>warm</td>\n",
       "      <td>fur</td>\n",
       "      <td>no</td>\n",
       "      <td>no</td>\n",
       "      <td>no</td>\n",
       "      <td>mammal</td>\n",
       "    </tr>\n",
       "    <tr>\n",
       "      <th>Crow</th>\n",
       "      <td>2</td>\n",
       "      <td>warm</td>\n",
       "      <td>feathers</td>\n",
       "      <td>no</td>\n",
       "      <td>yes</td>\n",
       "      <td>yes</td>\n",
       "      <td>bird</td>\n",
       "    </tr>\n",
       "    <tr>\n",
       "      <th>Monitor Lizard</th>\n",
       "      <td>4</td>\n",
       "      <td>cold</td>\n",
       "      <td>none</td>\n",
       "      <td>no</td>\n",
       "      <td>no</td>\n",
       "      <td>yes</td>\n",
       "      <td>reptile</td>\n",
       "    </tr>\n",
       "    <tr>\n",
       "      <th>Veiled Chameleon</th>\n",
       "      <td>4</td>\n",
       "      <td>cold</td>\n",
       "      <td>scales</td>\n",
       "      <td>no</td>\n",
       "      <td>no</td>\n",
       "      <td>yes</td>\n",
       "      <td>reptile</td>\n",
       "    </tr>\n",
       "    <tr>\n",
       "      <th>Humpback Whale</th>\n",
       "      <td>0</td>\n",
       "      <td>warm</td>\n",
       "      <td>hair</td>\n",
       "      <td>yes</td>\n",
       "      <td>no</td>\n",
       "      <td>no</td>\n",
       "      <td>mammal</td>\n",
       "    </tr>\n",
       "    <tr>\n",
       "      <th>Eastern Newt</th>\n",
       "      <td>4</td>\n",
       "      <td>cold</td>\n",
       "      <td>none</td>\n",
       "      <td>partial</td>\n",
       "      <td>no</td>\n",
       "      <td>yes</td>\n",
       "      <td>amphibian</td>\n",
       "    </tr>\n",
       "    <tr>\n",
       "      <th>Falcon</th>\n",
       "      <td>2</td>\n",
       "      <td>warm</td>\n",
       "      <td>feathers</td>\n",
       "      <td>no</td>\n",
       "      <td>yes</td>\n",
       "      <td>yes</td>\n",
       "      <td>bird</td>\n",
       "    </tr>\n",
       "    <tr>\n",
       "      <th>Bat</th>\n",
       "      <td>2</td>\n",
       "      <td>warm</td>\n",
       "      <td>hair</td>\n",
       "      <td>no</td>\n",
       "      <td>yes</td>\n",
       "      <td>no</td>\n",
       "      <td>mammal</td>\n",
       "    </tr>\n",
       "    <tr>\n",
       "      <th>Barn Owl</th>\n",
       "      <td>2</td>\n",
       "      <td>warm</td>\n",
       "      <td>feathers</td>\n",
       "      <td>no</td>\n",
       "      <td>yes</td>\n",
       "      <td>yes</td>\n",
       "      <td>bird</td>\n",
       "    </tr>\n",
       "    <tr>\n",
       "      <th>Blue Tongued Skink</th>\n",
       "      <td>4</td>\n",
       "      <td>cold</td>\n",
       "      <td>scales</td>\n",
       "      <td>no</td>\n",
       "      <td>no</td>\n",
       "      <td>yes</td>\n",
       "      <td>reptile</td>\n",
       "    </tr>\n",
       "    <tr>\n",
       "      <th>Sea Turtle</th>\n",
       "      <td>4</td>\n",
       "      <td>cold</td>\n",
       "      <td>scales</td>\n",
       "      <td>yes</td>\n",
       "      <td>no</td>\n",
       "      <td>yes</td>\n",
       "      <td>reptile</td>\n",
       "    </tr>\n",
       "    <tr>\n",
       "      <th>Red back Salamander</th>\n",
       "      <td>4</td>\n",
       "      <td>cold</td>\n",
       "      <td>none</td>\n",
       "      <td>partial</td>\n",
       "      <td>no</td>\n",
       "      <td>yes</td>\n",
       "      <td>amphibian</td>\n",
       "    </tr>\n",
       "    <tr>\n",
       "      <th>Penguin</th>\n",
       "      <td>2</td>\n",
       "      <td>warm</td>\n",
       "      <td>feathers</td>\n",
       "      <td>partial</td>\n",
       "      <td>no</td>\n",
       "      <td>yes</td>\n",
       "      <td>bird</td>\n",
       "    </tr>\n",
       "    <tr>\n",
       "      <th>Parrot</th>\n",
       "      <td>2</td>\n",
       "      <td>warm</td>\n",
       "      <td>feathers</td>\n",
       "      <td>no</td>\n",
       "      <td>yes</td>\n",
       "      <td>yes</td>\n",
       "      <td>bird</td>\n",
       "    </tr>\n",
       "    <tr>\n",
       "      <th>Rabbit</th>\n",
       "      <td>4</td>\n",
       "      <td>warm</td>\n",
       "      <td>fur</td>\n",
       "      <td>no</td>\n",
       "      <td>no</td>\n",
       "      <td>no</td>\n",
       "      <td>mammal</td>\n",
       "    </tr>\n",
       "    <tr>\n",
       "      <th>Gorilla</th>\n",
       "      <td>2</td>\n",
       "      <td>warm</td>\n",
       "      <td>hair</td>\n",
       "      <td>no</td>\n",
       "      <td>no</td>\n",
       "      <td>no</td>\n",
       "      <td>mammal</td>\n",
       "    </tr>\n",
       "    <tr>\n",
       "      <th>Tasmanian Devil</th>\n",
       "      <td>4</td>\n",
       "      <td>warm</td>\n",
       "      <td>fur</td>\n",
       "      <td>no</td>\n",
       "      <td>no</td>\n",
       "      <td>no</td>\n",
       "      <td>mammal</td>\n",
       "    </tr>\n",
       "    <tr>\n",
       "      <th>Green Anaconda</th>\n",
       "      <td>0</td>\n",
       "      <td>cold</td>\n",
       "      <td>scales</td>\n",
       "      <td>yes</td>\n",
       "      <td>no</td>\n",
       "      <td>yes</td>\n",
       "      <td>reptile</td>\n",
       "    </tr>\n",
       "  </tbody>\n",
       "</table>\n",
       "</div>"
      ],
      "text/plain": [
       "                     Legs Cold or Warm Blooded  Covering  Aquatic Aerial  \\\n",
       "Tree Frog               4                 cold      none  partial     no   \n",
       "Cane Toad               4                 cold      none       no     no   \n",
       "Ball Python             0                 cold    scales       no     no   \n",
       "Dove                    2                 warm  feathers       no    yes   \n",
       "Human                   2                 warm      hair       no     no   \n",
       "Lion                    4                 warm       fur       no     no   \n",
       "Chihuaha                4                 warm       fur       no     no   \n",
       "Crow                    2                 warm  feathers       no    yes   \n",
       "Monitor Lizard          4                 cold      none       no     no   \n",
       "Veiled Chameleon        4                 cold    scales       no     no   \n",
       "Humpback Whale          0                 warm      hair      yes     no   \n",
       "Eastern Newt            4                 cold      none  partial     no   \n",
       "Falcon                  2                 warm  feathers       no    yes   \n",
       "Bat                     2                 warm      hair       no    yes   \n",
       "Barn Owl                2                 warm  feathers       no    yes   \n",
       "Blue Tongued Skink      4                 cold    scales       no     no   \n",
       "Sea Turtle              4                 cold    scales      yes     no   \n",
       "Red back Salamander     4                 cold      none  partial     no   \n",
       "Penguin                 2                 warm  feathers  partial     no   \n",
       "Parrot                  2                 warm  feathers       no    yes   \n",
       "Rabbit                  4                 warm       fur       no     no   \n",
       "Gorilla                 2                 warm      hair       no     no   \n",
       "Tasmanian Devil         4                 warm       fur       no     no   \n",
       "Green Anaconda          0                 cold    scales      yes     no   \n",
       "\n",
       "                    Lays Eggs   Category  \n",
       "Tree Frog                 yes  amphibian  \n",
       "Cane Toad                 yes  amphibian  \n",
       "Ball Python               yes    reptile  \n",
       "Dove                      yes       bird  \n",
       "Human                      no     mammal  \n",
       "Lion                       no     mammal  \n",
       "Chihuaha                   no     mammal  \n",
       "Crow                      yes       bird  \n",
       "Monitor Lizard            yes    reptile  \n",
       "Veiled Chameleon          yes    reptile  \n",
       "Humpback Whale             no     mammal  \n",
       "Eastern Newt              yes  amphibian  \n",
       "Falcon                    yes       bird  \n",
       "Bat                        no     mammal  \n",
       "Barn Owl                  yes       bird  \n",
       "Blue Tongued Skink        yes    reptile  \n",
       "Sea Turtle                yes    reptile  \n",
       "Red back Salamander       yes  amphibian  \n",
       "Penguin                   yes       bird  \n",
       "Parrot                    yes       bird  \n",
       "Rabbit                     no     mammal  \n",
       "Gorilla                    no     mammal  \n",
       "Tasmanian Devil            no     mammal  \n",
       "Green Anaconda            yes    reptile  "
      ]
     },
     "execution_count": 15,
     "metadata": {},
     "output_type": "execute_result"
    }
   ],
   "source": [
    "an = pd.read_csv('animals.csv',index_col=0)\n",
    "an"
   ]
  },
  {
   "cell_type": "code",
   "execution_count": 16,
   "metadata": {
    "colab": {},
    "colab_type": "code",
    "id": "djNd3o36M408"
   },
   "outputs": [],
   "source": [
    "from sklearn.ensemble import RandomForestClassifier\n",
    "from sklearn.preprocessing import LabelEncoder\n",
    "from collections import defaultdict\n",
    "\n",
    "d = defaultdict(LabelEncoder)\n",
    "le = LabelEncoder()"
   ]
  },
  {
   "cell_type": "code",
   "execution_count": 17,
   "metadata": {
    "colab": {},
    "colab_type": "code",
    "id": "DarOHGrWM40_"
   },
   "outputs": [
    {
     "data": {
      "text/html": [
       "<div>\n",
       "<style scoped>\n",
       "    .dataframe tbody tr th:only-of-type {\n",
       "        vertical-align: middle;\n",
       "    }\n",
       "\n",
       "    .dataframe tbody tr th {\n",
       "        vertical-align: top;\n",
       "    }\n",
       "\n",
       "    .dataframe thead th {\n",
       "        text-align: right;\n",
       "    }\n",
       "</style>\n",
       "<table border=\"1\" class=\"dataframe\">\n",
       "  <thead>\n",
       "    <tr style=\"text-align: right;\">\n",
       "      <th></th>\n",
       "      <th>Legs</th>\n",
       "      <th>Cold or Warm Blooded</th>\n",
       "      <th>Covering</th>\n",
       "      <th>Aquatic</th>\n",
       "      <th>Aerial</th>\n",
       "      <th>Lays Eggs</th>\n",
       "    </tr>\n",
       "  </thead>\n",
       "  <tbody>\n",
       "    <tr>\n",
       "      <th>Tree Frog</th>\n",
       "      <td>4</td>\n",
       "      <td>0</td>\n",
       "      <td>3</td>\n",
       "      <td>1</td>\n",
       "      <td>0</td>\n",
       "      <td>1</td>\n",
       "    </tr>\n",
       "    <tr>\n",
       "      <th>Cane Toad</th>\n",
       "      <td>4</td>\n",
       "      <td>0</td>\n",
       "      <td>3</td>\n",
       "      <td>0</td>\n",
       "      <td>0</td>\n",
       "      <td>1</td>\n",
       "    </tr>\n",
       "    <tr>\n",
       "      <th>Ball Python</th>\n",
       "      <td>0</td>\n",
       "      <td>0</td>\n",
       "      <td>4</td>\n",
       "      <td>0</td>\n",
       "      <td>0</td>\n",
       "      <td>1</td>\n",
       "    </tr>\n",
       "    <tr>\n",
       "      <th>Dove</th>\n",
       "      <td>2</td>\n",
       "      <td>1</td>\n",
       "      <td>0</td>\n",
       "      <td>0</td>\n",
       "      <td>1</td>\n",
       "      <td>1</td>\n",
       "    </tr>\n",
       "    <tr>\n",
       "      <th>Human</th>\n",
       "      <td>2</td>\n",
       "      <td>1</td>\n",
       "      <td>2</td>\n",
       "      <td>0</td>\n",
       "      <td>0</td>\n",
       "      <td>0</td>\n",
       "    </tr>\n",
       "  </tbody>\n",
       "</table>\n",
       "</div>"
      ],
      "text/plain": [
       "             Legs  Cold or Warm Blooded  Covering  Aquatic  Aerial  Lays Eggs\n",
       "Tree Frog       4                     0         3        1       0          1\n",
       "Cane Toad       4                     0         3        0       0          1\n",
       "Ball Python     0                     0         4        0       0          1\n",
       "Dove            2                     1         0        0       1          1\n",
       "Human           2                     1         2        0       0          0"
      ]
     },
     "execution_count": 17,
     "metadata": {},
     "output_type": "execute_result"
    }
   ],
   "source": [
    "an1 = (an[['Cold or Warm Blooded','Covering','Aquatic','Aerial','Lays Eggs']]).apply(lambda x: d[x.name].fit_transform(x))\n",
    "an_encoded = pd.concat([an['Legs'],an1],axis=1)\n",
    "an_encoded.head()"
   ]
  },
  {
   "cell_type": "markdown",
   "metadata": {
    "colab_type": "text",
    "id": "pUI0fnZ3M41A"
   },
   "source": [
    "When we make an instance of the `RandomForestClassifier` class, we can specify parameters like the number of trees in the forest (`n_estimators`, default 10), the maximum depth of the trees, the criterion used for splitting (default is `gini`), etc.  You can find the documentation here:<br>\n",
    "http://scikit-learn.org/stable/modules/generated/sklearn.ensemble.RandomForestClassifier.html"
   ]
  },
  {
   "cell_type": "code",
   "execution_count": 18,
   "metadata": {
    "colab": {},
    "colab_type": "code",
    "id": "Lt0A6AZ2M41B"
   },
   "outputs": [
    {
     "data": {
      "text/plain": [
       "RandomForestClassifier(bootstrap=True, class_weight=None, criterion='gini',\n",
       "            max_depth=None, max_features='auto', max_leaf_nodes=None,\n",
       "            min_impurity_decrease=0.0, min_impurity_split=None,\n",
       "            min_samples_leaf=1, min_samples_split=2,\n",
       "            min_weight_fraction_leaf=0.0, n_estimators=15, n_jobs=None,\n",
       "            oob_score=False, random_state=None, verbose=0,\n",
       "            warm_start=False)"
      ]
     },
     "execution_count": 18,
     "metadata": {},
     "output_type": "execute_result"
    }
   ],
   "source": [
    "clf = RandomForestClassifier(n_estimators=15,min_samples_split=2)\n",
    "clf.fit(an_encoded, an['Category'])"
   ]
  },
  {
   "cell_type": "markdown",
   "metadata": {
    "colab_type": "text",
    "id": "z1brwwjVM41D"
   },
   "source": [
    "We can test its predictive power on animals we've seen in the decision tree section:"
   ]
  },
  {
   "cell_type": "code",
   "execution_count": 19,
   "metadata": {
    "colab": {},
    "colab_type": "code",
    "id": "WGvr183oM41E"
   },
   "outputs": [
    {
     "data": {
      "text/plain": [
       "array(['mammal'], dtype=object)"
      ]
     },
     "execution_count": 19,
     "metadata": {},
     "output_type": "execute_result"
    }
   ],
   "source": [
    "naked_mole_rat = [[4,1,3,0,0,0]]\n",
    "clf.predict(naked_mole_rat)"
   ]
  },
  {
   "cell_type": "code",
   "execution_count": 20,
   "metadata": {
    "colab": {},
    "colab_type": "code",
    "id": "pNqqo9ALM41F"
   },
   "outputs": [
    {
     "data": {
      "text/plain": [
       "array(['reptile'], dtype=object)"
      ]
     },
     "execution_count": 20,
     "metadata": {},
     "output_type": "execute_result"
    }
   ],
   "source": [
    "giant_tortoise = [[4,0,4,0,0,1]]\n",
    "clf.predict(giant_tortoise)"
   ]
  },
  {
   "cell_type": "markdown",
   "metadata": {
    "colab_type": "text",
    "id": "WfOxI4TxM41H"
   },
   "source": [
    "And just like the single decision tree, the random forest was able to correctly identify both.  But the single tree had a problem trying to classify a platypus, which is a mammal but with strange properties.  How does the random forest fare with this example?"
   ]
  },
  {
   "cell_type": "code",
   "execution_count": 21,
   "metadata": {
    "colab": {},
    "colab_type": "code",
    "id": "vqalsqBTM41H"
   },
   "outputs": [
    {
     "data": {
      "text/plain": [
       "array(['amphibian'], dtype=object)"
      ]
     },
     "execution_count": 21,
     "metadata": {},
     "output_type": "execute_result"
    }
   ],
   "source": [
    "platypus = [[4,1,1,1,0,1]]\n",
    "clf.predict(platypus)"
   ]
  },
  {
   "cell_type": "markdown",
   "metadata": {
    "colab_type": "text",
    "id": "xBHTLu8MM41K"
   },
   "source": [
    "**Question:** If we re-train the model and try again, what do we get?\n",
    "\n",
    "We can visualize individual trees from the forest by looking through `clf.estimators_`"
   ]
  },
  {
   "cell_type": "code",
   "execution_count": 22,
   "metadata": {
    "colab": {},
    "colab_type": "code",
    "id": "GTpiNIg0M41K"
   },
   "outputs": [
    {
     "data": {
      "text/plain": [
       "[DecisionTreeClassifier(class_weight=None, criterion='gini', max_depth=None,\n",
       "             max_features='auto', max_leaf_nodes=None,\n",
       "             min_impurity_decrease=0.0, min_impurity_split=None,\n",
       "             min_samples_leaf=1, min_samples_split=2,\n",
       "             min_weight_fraction_leaf=0.0, presort=False,\n",
       "             random_state=589500867, splitter='best'),\n",
       " DecisionTreeClassifier(class_weight=None, criterion='gini', max_depth=None,\n",
       "             max_features='auto', max_leaf_nodes=None,\n",
       "             min_impurity_decrease=0.0, min_impurity_split=None,\n",
       "             min_samples_leaf=1, min_samples_split=2,\n",
       "             min_weight_fraction_leaf=0.0, presort=False,\n",
       "             random_state=1524264638, splitter='best'),\n",
       " DecisionTreeClassifier(class_weight=None, criterion='gini', max_depth=None,\n",
       "             max_features='auto', max_leaf_nodes=None,\n",
       "             min_impurity_decrease=0.0, min_impurity_split=None,\n",
       "             min_samples_leaf=1, min_samples_split=2,\n",
       "             min_weight_fraction_leaf=0.0, presort=False,\n",
       "             random_state=307896975, splitter='best'),\n",
       " DecisionTreeClassifier(class_weight=None, criterion='gini', max_depth=None,\n",
       "             max_features='auto', max_leaf_nodes=None,\n",
       "             min_impurity_decrease=0.0, min_impurity_split=None,\n",
       "             min_samples_leaf=1, min_samples_split=2,\n",
       "             min_weight_fraction_leaf=0.0, presort=False,\n",
       "             random_state=660540467, splitter='best'),\n",
       " DecisionTreeClassifier(class_weight=None, criterion='gini', max_depth=None,\n",
       "             max_features='auto', max_leaf_nodes=None,\n",
       "             min_impurity_decrease=0.0, min_impurity_split=None,\n",
       "             min_samples_leaf=1, min_samples_split=2,\n",
       "             min_weight_fraction_leaf=0.0, presort=False,\n",
       "             random_state=963920225, splitter='best'),\n",
       " DecisionTreeClassifier(class_weight=None, criterion='gini', max_depth=None,\n",
       "             max_features='auto', max_leaf_nodes=None,\n",
       "             min_impurity_decrease=0.0, min_impurity_split=None,\n",
       "             min_samples_leaf=1, min_samples_split=2,\n",
       "             min_weight_fraction_leaf=0.0, presort=False,\n",
       "             random_state=2119208879, splitter='best'),\n",
       " DecisionTreeClassifier(class_weight=None, criterion='gini', max_depth=None,\n",
       "             max_features='auto', max_leaf_nodes=None,\n",
       "             min_impurity_decrease=0.0, min_impurity_split=None,\n",
       "             min_samples_leaf=1, min_samples_split=2,\n",
       "             min_weight_fraction_leaf=0.0, presort=False,\n",
       "             random_state=1356444491, splitter='best'),\n",
       " DecisionTreeClassifier(class_weight=None, criterion='gini', max_depth=None,\n",
       "             max_features='auto', max_leaf_nodes=None,\n",
       "             min_impurity_decrease=0.0, min_impurity_split=None,\n",
       "             min_samples_leaf=1, min_samples_split=2,\n",
       "             min_weight_fraction_leaf=0.0, presort=False,\n",
       "             random_state=1049896086, splitter='best'),\n",
       " DecisionTreeClassifier(class_weight=None, criterion='gini', max_depth=None,\n",
       "             max_features='auto', max_leaf_nodes=None,\n",
       "             min_impurity_decrease=0.0, min_impurity_split=None,\n",
       "             min_samples_leaf=1, min_samples_split=2,\n",
       "             min_weight_fraction_leaf=0.0, presort=False,\n",
       "             random_state=2018769232, splitter='best'),\n",
       " DecisionTreeClassifier(class_weight=None, criterion='gini', max_depth=None,\n",
       "             max_features='auto', max_leaf_nodes=None,\n",
       "             min_impurity_decrease=0.0, min_impurity_split=None,\n",
       "             min_samples_leaf=1, min_samples_split=2,\n",
       "             min_weight_fraction_leaf=0.0, presort=False,\n",
       "             random_state=805645415, splitter='best'),\n",
       " DecisionTreeClassifier(class_weight=None, criterion='gini', max_depth=None,\n",
       "             max_features='auto', max_leaf_nodes=None,\n",
       "             min_impurity_decrease=0.0, min_impurity_split=None,\n",
       "             min_samples_leaf=1, min_samples_split=2,\n",
       "             min_weight_fraction_leaf=0.0, presort=False,\n",
       "             random_state=1648626640, splitter='best'),\n",
       " DecisionTreeClassifier(class_weight=None, criterion='gini', max_depth=None,\n",
       "             max_features='auto', max_leaf_nodes=None,\n",
       "             min_impurity_decrease=0.0, min_impurity_split=None,\n",
       "             min_samples_leaf=1, min_samples_split=2,\n",
       "             min_weight_fraction_leaf=0.0, presort=False,\n",
       "             random_state=600250657, splitter='best'),\n",
       " DecisionTreeClassifier(class_weight=None, criterion='gini', max_depth=None,\n",
       "             max_features='auto', max_leaf_nodes=None,\n",
       "             min_impurity_decrease=0.0, min_impurity_split=None,\n",
       "             min_samples_leaf=1, min_samples_split=2,\n",
       "             min_weight_fraction_leaf=0.0, presort=False,\n",
       "             random_state=694467490, splitter='best'),\n",
       " DecisionTreeClassifier(class_weight=None, criterion='gini', max_depth=None,\n",
       "             max_features='auto', max_leaf_nodes=None,\n",
       "             min_impurity_decrease=0.0, min_impurity_split=None,\n",
       "             min_samples_leaf=1, min_samples_split=2,\n",
       "             min_weight_fraction_leaf=0.0, presort=False,\n",
       "             random_state=411244760, splitter='best'),\n",
       " DecisionTreeClassifier(class_weight=None, criterion='gini', max_depth=None,\n",
       "             max_features='auto', max_leaf_nodes=None,\n",
       "             min_impurity_decrease=0.0, min_impurity_split=None,\n",
       "             min_samples_leaf=1, min_samples_split=2,\n",
       "             min_weight_fraction_leaf=0.0, presort=False,\n",
       "             random_state=1480078839, splitter='best')]"
      ]
     },
     "execution_count": 22,
     "metadata": {},
     "output_type": "execute_result"
    }
   ],
   "source": [
    "clf.estimators_"
   ]
  },
  {
   "cell_type": "code",
   "execution_count": 38,
   "metadata": {
    "colab": {},
    "colab_type": "code",
    "id": "qKQq8tp3M41M"
   },
   "outputs": [],
   "source": [
    "from sklearn.externals.six import StringIO  \n",
    "from IPython.display import Image  \n",
    "from sklearn.tree import export_graphviz\n",
    "import pydotplus\n",
    "\n",
    "# On Windows, Graphviz no longer adds itself to the PATH in Windows.  \n",
    "# This code below accomplishes it (temporarily)\n",
    "# import os     \n",
    "# os.environ[\"PATH\"] += os.pathsep + 'C:/Program Files (x86)/Graphviz2.38/bin/'"
   ]
  },
  {
   "cell_type": "markdown",
   "metadata": {
    "colab_type": "text",
    "id": "Zug5CySuM41N"
   },
   "source": [
    "If we take the first tree:"
   ]
  },
  {
   "cell_type": "code",
   "execution_count": 39,
   "metadata": {
    "colab": {},
    "colab_type": "code",
    "id": "wzwnQVpMM41N"
   },
   "outputs": [
    {
     "data": {
      "text/plain": [
       "DecisionTreeClassifier(class_weight=None, criterion='gini', max_depth=None,\n",
       "            max_features='auto', max_leaf_nodes=None,\n",
       "            min_impurity_decrease=0.0, min_impurity_split=None,\n",
       "            min_samples_leaf=1, min_samples_split=2,\n",
       "            min_weight_fraction_leaf=0.0, presort=False,\n",
       "            random_state=589500867, splitter='best')"
      ]
     },
     "execution_count": 39,
     "metadata": {},
     "output_type": "execute_result"
    }
   ],
   "source": [
    "y = clf.estimators_[0]\n",
    "y"
   ]
  },
  {
   "cell_type": "markdown",
   "metadata": {
    "colab_type": "text",
    "id": "-Y7a7VLzM41P"
   },
   "source": [
    "We notice the `y.classes_` attribute is not the class names themselves, but encoded numbers.  This means when we visualize, we will pass a list to `class_names`."
   ]
  },
  {
   "cell_type": "code",
   "execution_count": 40,
   "metadata": {
    "colab": {},
    "colab_type": "code",
    "id": "Fij6Rg6tM41Q"
   },
   "outputs": [
    {
     "data": {
      "text/plain": [
       "array([0., 1., 2., 3.])"
      ]
     },
     "execution_count": 40,
     "metadata": {},
     "output_type": "execute_result"
    }
   ],
   "source": [
    "y.classes_"
   ]
  },
  {
   "cell_type": "code",
   "execution_count": 41,
   "metadata": {
    "colab": {},
    "colab_type": "code",
    "id": "i71davw3M41T"
   },
   "outputs": [
    {
     "data": {
      "image/png": "[encoded data removed]",
      "text/plain": [
       "<IPython.core.display.Image object>"
      ]
     },
     "execution_count": 41,
     "metadata": {},
     "output_type": "execute_result"
    }
   ],
   "source": [
    "dot_data = StringIO()\n",
    "export_graphviz(y, out_file=dot_data, feature_names=an_encoded.columns, class_names= ['amphibian','bird','mammal','reptile'], \n",
    "                filled=True, rounded=True)\n",
    "graph = pydotplus.graph_from_dot_data(dot_data.getvalue())  \n",
    "Image(graph.create_png())"
   ]
  },
  {
   "cell_type": "markdown",
   "metadata": {
    "colab_type": "text",
    "id": "YIUFPEsQM41V"
   },
   "source": [
    "# Neural Networks\n",
    "\n",
    "Neural networks get a lot of buzz when it comes to machine learning.  Broadly speaking, neural networks consist of a collection of *neurons* which take an input (a value as initial input, or from another neuron), and use a mathematical function to transform the value it has been given, before sending the new value forward to other neurons. \n",
    "\n",
    "The neurons are *layered* to show how they interact with each other.  Neurons in a particular layer will receive information from neurons in the previous layer; neurons in a layer will pass information forward to the next layer.  The first layer, where we can provide initial information is called the *input layer*; the final layer is called the *output layer*, where the processed information returns to us.  Any layers in between these are called *hidden layers*, because we don't observe the transformations happening."
   ]
  },
  {
   "cell_type": "markdown",
   "metadata": {
    "colab_type": "text",
    "id": "bPPEbbbWM41V"
   },
   "source": [
    "<img src=\"https://drive.google.com/uc?export=view&id=1gCjJtdsF8560OIOGtYp_AXU__NCjnLAV\" width=\"350\" height=\"350\" />  "
   ]
  },
  {
   "cell_type": "markdown",
   "metadata": {
    "colab_type": "text",
    "id": "oXCIZ487M41W"
   },
   "source": [
    "(In actuality, this setup of network layers is called a *feed forward neural network*, because the information feeds forward through the layers; you can have more complicated setups in what are called *recurrent neural networks* that include cycles of information passing.)\n",
    "\n",
    "Each neuron has an associated *weight* for every neuron that connects to it, which determines how much each of those neurons contributes.  Neurons also can have a *bias*, a constant factor that will adjust the value the neuron computes.  To illustrate, if we call the values that each of the input layer neurons have $a_1,\\,a_2,\\,a_3,\\,a_4$, then the first hidden layer neuron has associated weights, $w_1,\\,w_2,\\,w_3,\\,w_4$, for each of the input layers it is connected to:"
   ]
  },
  {
   "cell_type": "markdown",
   "metadata": {
    "colab_type": "text",
    "id": "brattLpyM41X"
   },
   "source": [
    "<img src=\"https://drive.google.com/uc?export=view&id=1zfALfxzDylgj9wBK_OuVYwXaUath1r0-\" width=\"350\" height=\"350\" />"
   ]
  },
  {
   "cell_type": "markdown",
   "metadata": {
    "colab_type": "text",
    "id": "AqSrjZmeM41X"
   },
   "source": [
    "If we call the bias for this neuron $b$, then the value this neuron will pass forward is (or is at least proportional to) the formula:\n",
    "$$ w_1a_1 + w_2a_2 + w_3a_3 + w_4a_4 - b. $$\n",
    "We say \"proportional to\", because often you will want the values that the neurons have to be normalized in some way, (e.g. you may want them to only take on values between 0 and 1).  In this case, we can wrap the entire computation in a function that will output values where we want, such as the sigmoid function we'd seen before:\n",
    "$$ \\sigma(w_1a_1 + w_2a_2 + w_3a_3 + w_4a_4 - b). $$"
   ]
  },
  {
   "cell_type": "markdown",
   "metadata": {
    "colab_type": "text",
    "id": "Ynq8VlGIM41Y"
   },
   "source": [
    "Given $m$ input neurons, and $n$ (first) hidden layer neurons, we can express the computations in a matrix equation:\n",
    "\n",
    "$$ \\begin{bmatrix}a_{1}^{(2)}\\\\a_{2}^{(2)}\\\\ \\vdots \\\\ a_{n}^{(2)} \\end{bmatrix} \\quad=\\quad \n",
    "\\sigma \\left( \\,\\begin{bmatrix} w_{1,1} & w_{1,2} & \\ldots & w_{1,m} \\\\ \n",
    " w_{2,1} & w_{2,2} & \\ldots & w_{2,m} \\\\\n",
    "\\vdots & \\vdots & \\ddots & \\vdots\\\\\n",
    " w_{n,1} & w_{n,2} & \\ldots & w_{n,m}\\end{bmatrix}\n",
    "\\begin{bmatrix}a_{1}^{(1)}\\\\a_{2}^{(1)}\\\\ \\vdots \\\\ a_{m}^{(1)}\\end{bmatrix} \\quad-\\quad \\begin{bmatrix}b_1^{(1)}\\\\b_2^{(1)}\\\\ \\vdots \\\\ b_n^{(1)} \\end{bmatrix}\\, \\right)$$\n",
    "\n",
    "Here, the superscript $(i)$ denotes neurons in the $i^{th}$ layer.  Also note that the function is applied component-wise. Condensing this, using boldface to denote a vector:\n",
    "$$  \\bf{a}^{(2)} = \\sigma(\\bf{W}\\bf{a}^{(1)} - \\bf{b}). $$\n",
    "\n",
    "The values from this second layer are then passed along to the third layer in the same way, for the third layer's own set of weights and biases, continuing along until they reach the output layer."
   ]
  },
  {
   "cell_type": "markdown",
   "metadata": {
    "colab_type": "text",
    "id": "zsAQVQH_M41Y"
   },
   "source": [
    "## Uses\n",
    "\n",
    "One of the main uses of neural networks is using a series of transformations on audio or image information to *learn* how to classify specific types of audio (e.g. speech) or images (e.g. rabbits).  We could, for example, attempt to train a neural network to recognize hand-written characters, like letters or numbers:"
   ]
  },
  {
   "cell_type": "markdown",
   "metadata": {
    "colab_type": "text",
    "id": "wSq0iZtWM41Z"
   },
   "source": [
    "<img src=\"https://drive.google.com/uc?export=view&id=1mCBu67TxHxq4Pr7ugN__0h0ndnXeTnJ1\" height=\"300\" width=\"300\" />"
   ]
  },
  {
   "cell_type": "markdown",
   "metadata": {
    "colab_type": "text",
    "id": "srtpc4teM41a"
   },
   "source": [
    "The process is, generally, as follows:\n",
    "\n",
    "1. Start with a very large collection of monochrome images of hand-written characters.  \n",
    "2. Take each image, and convert it into a sequence of numbers:  one number for each pixel in the picture, with the number representing how dark the pixel is, (closer to 0 if it's light, closer to 1 if it's dark).\n",
    "3. Create a neural network where there are as many input layer neurons as input pixel values for the images, and as many output layer neurons for the different classes (e.g. 10 output neurons, one for each of 0,1,2,...,).  Decide how many hidden layers you want, and how many neurons for each layer.\n",
    "4. Randomly chosen initial weights and biases will generally produce answers that don't resemble what you are looking for.  So as you feed it training data, create your cost function by averaging over the squared differences between the output values and the desired values (averaging over all of the training data).\n",
    "5. Use gradient descent to find the optimal weights & biases that minimize the cost function.\n",
    "\n",
    "At this point, you've created your classification model, and can test it by feeding it handwritten digits it has not yet seen.  This is what our example 4 looks like when we assign values to the pixels:"
   ]
  },
  {
   "cell_type": "markdown",
   "metadata": {
    "colab_type": "text",
    "id": "ZDVX7zeYM41c"
   },
   "source": [
    "<img src=\"https://drive.google.com/uc?export=view&id=1dIKN9MunJmitVDfpdFKdRo_58LpLPz71\" width=\"300\" height = \"300\"/>"
   ]
  },
  {
   "cell_type": "markdown",
   "metadata": {
    "colab_type": "text",
    "id": "nE20fkqGM41c"
   },
   "source": [
    "There are a few very popular packages for implemented neural networks:\n",
    "\n",
    "1. [TensorFlow](https://www.tensorflow.org/) for Python is a package built to handle neural networks (amongst other things). They have a host of resources and [tutorials](https://www.tensorflow.org/tutorials) on their website.\n",
    "2. PyTorch is more popular in academia, but is still quite widely used:\n",
    "http://pytorch.org/tutorials/index.html <br/>\n",
    "Examples to get started with can be found here:\n",
    "http://pytorch.org/tutorials/beginner/pytorch_with_examples.html#"
   ]
  },
  {
   "cell_type": "markdown",
   "metadata": {
    "colab_type": "text",
    "id": "Mibp0aiWM41c"
   },
   "source": [
    "In fact, basic neural networks can be implemented solely in NumPy, but lack the ability to use GPUs for faster processing, and don't come with the pre-built tools for back-propagation.  Here is an example of a 2-layer NumPy neural network from the PyTorch examples page:"
   ]
  },
  {
   "cell_type": "code",
   "execution_count": 26,
   "metadata": {
    "colab": {},
    "colab_type": "code",
    "id": "P7RFL6b5M41d"
   },
   "outputs": [
    {
     "name": "stdout",
     "output_type": "stream",
     "text": [
      "0 40163396.76996336\n",
      "1 39703929.48155972\n",
      "2 42371444.87551736\n",
      "3 39362864.07517175\n",
      "4 27798517.46274426\n",
      "5 14948177.493173104\n",
      "6 6919528.763289847\n",
      "7 3441616.668924379\n",
      "8 2074847.538380239\n",
      "9 1486333.4799937806\n",
      "10 1172432.4622647986\n",
      "11 967843.9579396148\n",
      "12 816641.5612577486\n",
      "13 697617.7349700055\n",
      "14 600728.270538833\n",
      "15 520657.0099114959\n",
      "16 453684.643514922\n",
      "17 397303.41533150774\n",
      "18 349445.5320692879\n",
      "19 308597.8628088782\n",
      "20 273500.3778013025\n",
      "21 243238.7970662673\n",
      "22 217019.040661333\n",
      "23 194195.7765629682\n",
      "24 174218.02362180984\n",
      "25 156727.8117784525\n",
      "26 141348.98872687222\n",
      "27 127777.48960563034\n",
      "28 115756.29769563534\n",
      "29 105077.36534931896\n",
      "30 95570.07914914808\n",
      "31 87095.73010889348\n",
      "32 79516.0725295839\n",
      "33 72711.47735398525\n",
      "34 66588.24355002286\n",
      "35 61071.28895798506\n",
      "36 56086.52093799316\n",
      "37 51574.77355525238\n",
      "38 47484.997556616596\n",
      "39 43770.303962764\n",
      "40 40392.33906251378\n",
      "41 37316.40628416794\n",
      "42 34509.8200084165\n",
      "43 31945.867705425124\n",
      "44 29600.818045621927\n",
      "45 27454.75661510441\n",
      "46 25491.457384293208\n",
      "47 23690.543706441462\n",
      "48 22034.006010857807\n",
      "49 20509.411132449764\n",
      "50 19105.131811263098\n",
      "51 17810.14210663436\n",
      "52 16616.540956283337\n",
      "53 15514.498550075095\n",
      "54 14496.36599209192\n",
      "55 13553.911721270044\n",
      "56 12680.715569329193\n",
      "57 11870.823143973046\n",
      "58 11119.293181635647\n",
      "59 10421.473692908894\n",
      "60 9773.012882098627\n",
      "61 9169.812113392743\n",
      "62 8608.222783185916\n",
      "63 8085.252380369855\n",
      "64 7598.098921840164\n",
      "65 7143.871060987822\n",
      "66 6720.08642164147\n",
      "67 6324.590273516938\n",
      "68 5955.068239977805\n",
      "69 5609.416882395208\n",
      "70 5286.1197311979795\n",
      "71 4983.457692569482\n",
      "72 4700.046900875963\n",
      "73 4434.428637266057\n",
      "74 4185.408222424076\n",
      "75 3951.809077861087\n",
      "76 3732.525790935485\n",
      "77 3526.6265312494006\n",
      "78 3333.1756336636986\n",
      "79 3151.0536009186435\n",
      "80 2979.8383911084957\n",
      "81 2818.8566858054037\n",
      "82 2667.451467064551\n",
      "83 2524.807926112077\n",
      "84 2390.5226217599957\n",
      "85 2264.03638300653\n",
      "86 2145.054002171395\n",
      "87 2032.8932222458138\n",
      "88 1927.0823234204254\n",
      "89 1827.263863301358\n",
      "90 1733.0746436888862\n",
      "91 1644.1252191859335\n",
      "92 1560.0787619373261\n",
      "93 1480.6893094009547\n",
      "94 1405.6283349501032\n",
      "95 1334.6642641571632\n",
      "96 1267.5758122295986\n",
      "97 1204.1055326027063\n",
      "98 1144.0714657829692\n",
      "99 1087.2309762816117\n",
      "100 1033.4288019243068\n",
      "101 982.4775622066575\n",
      "102 934.2028614356961\n",
      "103 888.4477474820485\n",
      "104 845.1053162606096\n",
      "105 804.0114050660709\n",
      "106 765.046964458145\n",
      "107 728.0946540038253\n",
      "108 693.0416428232859\n",
      "109 659.8349635966119\n",
      "110 628.2931828195417\n",
      "111 598.3571503647884\n",
      "112 569.9310855389781\n",
      "113 542.9515820218686\n",
      "114 517.31852768769\n",
      "115 492.9666450378917\n",
      "116 469.8246878917538\n",
      "117 447.84755982375054\n",
      "118 426.9412902771535\n",
      "119 407.07464679813165\n",
      "120 388.1773829657021\n",
      "121 370.2119717197138\n",
      "122 353.12453095766267\n",
      "123 336.8606894157366\n",
      "124 321.394538403768\n",
      "125 306.6713210543252\n",
      "126 292.661984605632\n",
      "127 279.31926346430475\n",
      "128 266.61741203826216\n",
      "129 254.5241152730125\n",
      "130 243.00707552517045\n",
      "131 232.0432518332816\n",
      "132 221.5924003608393\n",
      "133 211.63101641750936\n",
      "134 202.1411427905573\n",
      "135 193.09779157991247\n",
      "136 184.48112912461315\n",
      "137 176.26404880767922\n",
      "138 168.43055388563306\n",
      "139 160.9587581605323\n",
      "140 153.83294654902275\n",
      "141 147.04036647975437\n",
      "142 140.5609992474745\n",
      "143 134.38599980947197\n",
      "144 128.4948828621839\n",
      "145 122.87135690670632\n",
      "146 117.50516203750973\n",
      "147 112.38471321168302\n",
      "148 107.496162722717\n",
      "149 102.82760485892898\n",
      "150 98.37151129426121\n",
      "151 94.11600105122027\n",
      "152 90.0514254523864\n",
      "153 86.17138014427951\n",
      "154 82.46456888039796\n",
      "155 78.92226367036461\n",
      "156 75.53851838075214\n",
      "157 72.30511873036652\n",
      "158 69.21511116469334\n",
      "159 66.26276074140131\n",
      "160 63.44206482227497\n",
      "161 60.74484594670791\n",
      "162 58.166124882849175\n",
      "163 55.7013202190456\n",
      "164 53.34470289906699\n",
      "165 51.09061790098626\n",
      "166 48.93625036040672\n",
      "167 46.87703091034831\n",
      "168 44.90551305315785\n",
      "169 43.01990235208618\n",
      "170 41.21653315959517\n",
      "171 39.49115323440286\n",
      "172 37.8408081876785\n",
      "173 36.2616779617691\n",
      "174 34.75119006052946\n",
      "175 33.305043119911474\n",
      "176 31.92093012513933\n",
      "177 30.596033705113456\n",
      "178 29.327827417405906\n",
      "179 28.113882239961384\n",
      "180 26.95200651005283\n",
      "181 25.83991808756965\n",
      "182 24.775473211533978\n",
      "183 23.755536553472076\n",
      "184 22.7789150309371\n",
      "185 21.84368179484327\n",
      "186 20.94783294155945\n",
      "187 20.089966845865813\n",
      "188 19.268309696205716\n",
      "189 18.481425017421063\n",
      "190 17.72749760101641\n",
      "191 17.00509239410917\n",
      "192 16.312906511968674\n",
      "193 15.649612635219977\n",
      "194 15.014166366422856\n",
      "195 14.405177792615996\n",
      "196 13.821512555403034\n",
      "197 13.262313241330624\n",
      "198 12.726591230537295\n",
      "199 12.212746840316846\n",
      "200 11.720303412692243\n",
      "201 11.248195069206993\n",
      "202 10.79554831460047\n",
      "203 10.361533046763855\n",
      "204 9.945453966041125\n",
      "205 9.546478549840156\n",
      "206 9.163951451394489\n",
      "207 8.797463717279488\n",
      "208 8.445595239202579\n",
      "209 8.108211560135224\n",
      "210 7.784631556378264\n",
      "211 7.474407507234449\n",
      "212 7.176763430491236\n",
      "213 6.891226973966142\n",
      "214 6.617221649151477\n",
      "215 6.354426278732579\n",
      "216 6.10241182136469\n",
      "217 5.86059150166534\n",
      "218 5.628539518533939\n",
      "219 5.405871539014833\n",
      "220 5.192215349298426\n",
      "221 4.987279237135118\n",
      "222 4.790450897860344\n",
      "223 4.601573054983184\n",
      "224 4.420346635333006\n",
      "225 4.246436166956886\n",
      "226 4.079473536567972\n",
      "227 3.9193063186954444\n",
      "228 3.7654622086552356\n",
      "229 3.6177731011726144\n",
      "230 3.4760334497764633\n",
      "231 3.339966302427246\n",
      "232 3.209327866406191\n",
      "233 3.08386906413804\n",
      "234 2.96342953000787\n",
      "235 2.84775846894421\n",
      "236 2.736724617270631\n",
      "237 2.6300721881570146\n",
      "238 2.527752301253197\n",
      "239 2.4294054229420117\n",
      "240 2.3349451344180117\n",
      "241 2.244235145324418\n",
      "242 2.1571415914559995\n",
      "243 2.073480991507016\n",
      "244 1.9931097622887664\n",
      "245 1.9158995698191819\n",
      "246 1.8417343487658024\n",
      "247 1.7705167614726594\n",
      "248 1.7020889184449022\n",
      "249 1.6363633622965574\n",
      "250 1.5732291874196203\n",
      "251 1.5125568706042447\n",
      "252 1.4542490972978295\n",
      "253 1.398230963386149\n",
      "254 1.3444048692581017\n",
      "255 1.2926940170429277\n",
      "256 1.2430059268612084\n",
      "257 1.1952475367769448\n",
      "258 1.1493505468578482\n",
      "259 1.1052600137493132\n",
      "260 1.0628890988671067\n",
      "261 1.02215160853696\n",
      "262 0.9830248169987817\n",
      "263 0.9454022518285694\n",
      "264 0.9092412510074616\n",
      "265 0.8744794331884823\n",
      "266 0.8410675815531332\n",
      "267 0.8089492537338601\n",
      "268 0.7780916990743739\n",
      "269 0.7484176457630319\n",
      "270 0.7198906465062889\n",
      "271 0.6924639542626244\n",
      "272 0.6661005746374251\n",
      "273 0.6407501800217907\n",
      "274 0.6163786600411877\n",
      "275 0.5929594588995509\n",
      "276 0.5704446441589135\n",
      "277 0.5487853216049523\n",
      "278 0.5279568330898116\n",
      "279 0.5079294816252606\n",
      "280 0.4886767705053228\n",
      "281 0.470163834383861\n",
      "282 0.45235637780949894\n",
      "283 0.43523313679091113\n",
      "284 0.4187683574357597\n",
      "285 0.40293344771642575\n",
      "286 0.3877045185828883\n",
      "287 0.3730600654743356\n",
      "288 0.3589767629121817\n",
      "289 0.34542893415818954\n",
      "290 0.3324044738060616\n",
      "291 0.3198698221650967\n",
      "292 0.30781828874703987\n",
      "293 0.2962230883811655\n",
      "294 0.2850696845786632\n",
      "295 0.27434190028379696\n",
      "296 0.2640220845757213\n",
      "297 0.254095378701596\n",
      "298 0.24454547583182001\n",
      "299 0.23535788625080697\n",
      "300 0.22652067424795502\n",
      "301 0.21802029509673126\n",
      "302 0.20984068344808277\n",
      "303 0.20197240175361442\n",
      "304 0.1944005464889814\n",
      "305 0.18711864359356023\n",
      "306 0.18011121460627721\n",
      "307 0.17336829249578103\n",
      "308 0.1668815945779496\n",
      "309 0.1606392623613877\n",
      "310 0.15463174141211922\n",
      "311 0.14885213046735446\n",
      "312 0.14329040108407476\n",
      "313 0.13793899362345843\n",
      "314 0.13278904796152222\n",
      "315 0.12783354422046828\n",
      "316 0.12306448942636133\n",
      "317 0.11847553957416\n",
      "318 0.11405919740425755\n",
      "319 0.10980923306018228\n",
      "320 0.10571816011930568\n",
      "321 0.10178193703056872\n",
      "322 0.0979954631441569\n",
      "323 0.09434902365889689\n",
      "324 0.09084037844118381\n",
      "325 0.08746264409269376\n",
      "326 0.08421187409471596\n",
      "327 0.08108264870771772\n",
      "328 0.07807122322556981\n",
      "329 0.07517292165927787\n",
      "330 0.07238242589973007\n",
      "331 0.06969656932854072\n",
      "332 0.06711125567818185\n",
      "333 0.06462251032398776\n",
      "334 0.062227414756912514\n",
      "335 0.0599213628334003\n",
      "336 0.05770155167339713\n",
      "337 0.055564687257235366\n",
      "338 0.05350758895205687\n",
      "339 0.05152832030391242\n",
      "340 0.04962264815368429\n",
      "341 0.047787140221647165\n",
      "342 0.046020217873044826\n",
      "343 0.04431911176280505\n",
      "344 0.042681668903228456\n",
      "345 0.04110491006175807\n",
      "346 0.03958708555915086\n",
      "347 0.038125483303273006\n",
      "348 0.03671830122570111\n",
      "349 0.03536371714668085\n",
      "350 0.03405960520248213\n",
      "351 0.032803588492007894\n",
      "352 0.03159415454806051\n",
      "353 0.03042984446654807\n",
      "354 0.02930877431265881\n",
      "355 0.028229223958807493\n",
      "356 0.027189711214759493\n",
      "357 0.02618878364115007\n",
      "358 0.025225224850063645\n",
      "359 0.02429746371298556\n",
      "360 0.023403919960819856\n",
      "361 0.022543294183630894\n",
      "362 0.021714516542125112\n",
      "363 0.02091631216257058\n",
      "364 0.020147847306465957\n",
      "365 0.019407773741819682\n",
      "366 0.018694979508776296\n",
      "367 0.018008655948233997\n",
      "368 0.01734757889369817\n",
      "369 0.016711000852424805\n",
      "370 0.016097917472334838\n",
      "371 0.015507426884353434\n",
      "372 0.014938879602839086\n",
      "373 0.014391320479570268\n",
      "374 0.013863941829801385\n",
      "375 0.013355931338818315\n",
      "376 0.012866639295704812\n",
      "377 0.012395360479991482\n",
      "378 0.011941467583546478\n",
      "379 0.011504677746386829\n",
      "380 0.011083611182005931\n",
      "381 0.010678102485125636\n",
      "382 0.010287453504877909\n",
      "383 0.009911199814136677\n",
      "384 0.009548820555441314\n",
      "385 0.009199726556364916\n",
      "386 0.008863522390579859\n",
      "387 0.008539639681098731\n",
      "388 0.008227688705377968\n",
      "389 0.007927241997032115\n",
      "390 0.007637745842757027\n",
      "391 0.00735887464609813\n",
      "392 0.0070902560787461655\n",
      "393 0.0068315312491707535\n",
      "394 0.006582338577980873\n",
      "395 0.006342242679373007\n",
      "396 0.006110942934635317\n",
      "397 0.005888141468514289\n",
      "398 0.005673486577740646\n",
      "399 0.00546672677146316\n",
      "400 0.005267543290106334\n",
      "401 0.005075738498717974\n",
      "402 0.004890877466796688\n",
      "403 0.00471277557703214\n",
      "404 0.004541192206771181\n",
      "405 0.004375871305075668\n",
      "406 0.0042166126098829235\n",
      "407 0.004063166712527771\n",
      "408 0.003915386246505767\n",
      "409 0.0037729841413388174\n",
      "410 0.0036357729463984616\n",
      "411 0.0035035592686961316\n",
      "412 0.0033761817631041396\n",
      "413 0.003253493417999275\n",
      "414 0.0031352636811381685\n",
      "415 0.0030213523130565674\n",
      "416 0.0029116165204519013\n",
      "417 0.002805861125196805\n",
      "418 0.0027039841354336196\n",
      "419 0.0026058095198044987\n",
      "420 0.002511229869876703\n",
      "421 0.0024201024806942213\n",
      "422 0.0023322838529619087\n",
      "423 0.002247699047447887\n",
      "424 0.0021661954883094546\n",
      "425 0.0020876426033987388\n",
      "426 0.0020119409964054927\n",
      "427 0.0019390023692495875\n",
      "428 0.0018687364724544677\n",
      "429 0.0018010071668819053\n",
      "430 0.0017357445860177625\n",
      "431 0.0016728613407250943\n",
      "432 0.0016122669051187477\n",
      "433 0.0015538800556690233\n",
      "434 0.0014976186424119\n",
      "435 0.0014433993772941594\n",
      "436 0.0013911490021222273\n",
      "437 0.0013408046376061382\n",
      "438 0.001292291534111316\n",
      "439 0.001245538162093766\n",
      "440 0.0012004797282571145\n",
      "441 0.0011570627528451828\n",
      "442 0.0011152244507149623\n",
      "443 0.0010748985280223688\n",
      "444 0.001036037451029032\n",
      "445 0.000998587182670654\n",
      "446 0.0009625034561390111\n",
      "447 0.0009277334778461842\n",
      "448 0.0008942175227654147\n",
      "449 0.0008619257748670146\n",
      "450 0.0008307978212989805\n",
      "451 0.0008008021765423209\n",
      "452 0.0007718889812995671\n",
      "453 0.0007440250996474183\n",
      "454 0.0007171723489011739\n",
      "455 0.0006912898671863452\n",
      "456 0.0006663456556456864\n",
      "457 0.0006423015368945938\n",
      "458 0.0006191332806938547\n",
      "459 0.000596800090876015\n",
      "460 0.0005752806402760636\n",
      "461 0.0005545412576553755\n",
      "462 0.0005345477256532684\n",
      "463 0.0005152776114018292\n",
      "464 0.0004967045289037933\n",
      "465 0.00047880608434564865\n",
      "466 0.00046155760988665623\n",
      "467 0.0004449300936044117\n",
      "468 0.00042890322823281623\n",
      "469 0.000413456567285732\n",
      "470 0.0003985680477348953\n",
      "471 0.0003842168257186547\n",
      "472 0.0003703860096940684\n",
      "473 0.00035705426955497994\n",
      "474 0.0003442031633856024\n",
      "475 0.0003318161036854261\n",
      "476 0.00031988383278565616\n",
      "477 0.00030837599968251976\n",
      "478 0.00029728235904261254\n",
      "479 0.0002865920922365137\n",
      "480 0.0002762859786420009\n",
      "481 0.0002663515640892297\n",
      "482 0.00025677536237372027\n",
      "483 0.00024754541473585883\n",
      "484 0.00023864883863376\n",
      "485 0.00023007280776373776\n",
      "486 0.00022180535297933738\n",
      "487 0.0002138359016886314\n",
      "488 0.00020615373949085014\n",
      "489 0.00019874865565840919\n",
      "490 0.00019161024142498308\n",
      "491 0.00018473031858064697\n",
      "492 0.00017809814730206124\n",
      "493 0.00017170426296795973\n",
      "494 0.00016554004972165858\n",
      "495 0.00015959803331164565\n",
      "496 0.00015387088942399703\n",
      "497 0.00014835070003644765\n",
      "498 0.0001430287073650916\n",
      "499 0.00013789787468960273\n"
     ]
    }
   ],
   "source": [
    "# N is batch size; D_in is input dimension;\n",
    "# H is hidden dimension; D_out is output dimension.\n",
    "N, D_in, H, D_out = 64, 1000, 100, 10\n",
    "\n",
    "# Create random input and output data\n",
    "x = np.random.randn(N, D_in)\n",
    "y = np.random.randn(N, D_out)\n",
    "\n",
    "# Randomly initialize weights\n",
    "w1 = np.random.randn(D_in, H)\n",
    "w2 = np.random.randn(H, D_out)\n",
    "\n",
    "learning_rate = 1e-6\n",
    "for t in range(500):\n",
    "    # Forward pass: compute predicted y\n",
    "    h = x.dot(w1)\n",
    "    h_relu = np.maximum(h, 0)\n",
    "    y_pred = h_relu.dot(w2)\n",
    "\n",
    "    # Compute and print loss\n",
    "    loss = np.square(y_pred - y).sum()\n",
    "    print(t, loss)\n",
    "\n",
    "    # Backprop to compute gradients of w1 and w2 with respect to loss\n",
    "    grad_y_pred = 2.0 * (y_pred - y)\n",
    "    grad_w2 = h_relu.T.dot(grad_y_pred)\n",
    "    grad_h_relu = grad_y_pred.dot(w2.T)\n",
    "    grad_h = grad_h_relu.copy()\n",
    "    grad_h[h < 0] = 0\n",
    "    grad_w1 = x.T.dot(grad_h)\n",
    "\n",
    "    # Update weights\n",
    "    w1 -= learning_rate * grad_w1\n",
    "    w2 -= learning_rate * grad_w2"
   ]
  },
  {
   "cell_type": "markdown",
   "metadata": {},
   "source": [
    "<div id=\"container\" style=\"position:relative;\">\n",
    "<div style=\"position:relative; float:right\"><img style=\"height:25px\"\"width: 50px\" src =\"https://drive.google.com/uc?export=view&id=14VoXUJftgptWtdNhtNYVm6cjVmEWpki1\" />\n",
    "</div>\n",
    "</div>"
   ]
  }
 ],
 "metadata": {
  "colab": {
   "name": "Unit 10 - Looking Forward.ipynb",
   "provenance": [],
   "version": "0.3.2"
  },
  "kernelspec": {
   "display_name": "Python 3",
   "language": "python",
   "name": "python3"
  },
  "language_info": {
   "codemirror_mode": {
    "name": "ipython",
    "version": 3
   },
   "file_extension": ".py",
   "mimetype": "text/x-python",
   "name": "python",
   "nbconvert_exporter": "python",
   "pygments_lexer": "ipython3",
   "version": "3.8.5"
  }
 },
 "nbformat": 4,
 "nbformat_minor": 1
}
