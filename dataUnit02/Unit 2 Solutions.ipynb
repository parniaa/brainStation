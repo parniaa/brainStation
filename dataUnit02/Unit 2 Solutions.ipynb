{
 "cells": [
  {
   "cell_type": "markdown",
   "metadata": {},
   "source": [
    "# Assignment 2 Solutions <img style = \"position:absolute; TOP:0px; LEFT:840px; WIDTH:250px; HEIGHT:65px\"  src =\"https://drive.google.com/uc?export=view&id=1EnB0x-fdqMp6I5iMoEBBEuxB_s7AmE2k\" />"
   ]
  },
  {
   "cell_type": "code",
   "execution_count": 1,
   "metadata": {},
   "outputs": [
    {
     "name": "stdout",
     "output_type": "stream",
     "text": [
      "Populating the interactive namespace from numpy and matplotlib\n"
     ]
    }
   ],
   "source": [
    "import pandas as pd\n",
    "import numpy as np\n",
    "import matplotlib.pyplot as plt\n",
    "%pylab inline\n",
    "pylab.rcParams['figure.figsize'] = (10.0, 8.0)"
   ]
  },
  {
   "cell_type": "markdown",
   "metadata": {},
   "source": [
    "## Assignment 2\n",
    "\n",
    "1. Adapt your string-reversing function from the previous assignment to take in an arbitrary list, and return a new list which is the original list in reverse order. (Again, ```return listname[::-1]``` is easy, but not the point of the exercise.)\n",
    "2. Suppose we're out grocery shopping, and currently have the following produce in our basket:<br>\n",
    "`shopping_basket = ['cherry','lemon','celery','grapefruit','apricot'] `.<br>\n",
    "We have the following dictionary of some fruit by type: <br>\n",
    "`f_dict = {'citrus':['lemon','lime','grapefruit','orange','pomelo'],'stone fruit':['cherry','apricot','peach'],'pome':['apple','pear','quince']}`. <br>\n",
    "Write a script which will give a list of all of the items in your basket which are citrus.\n",
    "3. Continuing from the prep course, write a function which takes in an arbitrary list of numbers, and returns the mean.  (Note:  while `return np.mean(listname)` is easy, it's not really the point of the exercise).  Use this list of numbers to test it: `[25, 54, 27, 54, 23, 47, 23,  4, 27, 36, 26, 12, 25, 29, 41]`. How would you adjust your code to deal with lists that include non-numeric entries?\n",
    "4. Consider this dictionary of class marks:<br>\n",
    "`ixlist = ['Patrick','Lindsay','Ivan','Emily','Iva']\n",
    "class_marks = {'Assignment 1':pd.Series([72,85,87,94,77],index = ixlist),'Assignment 2':pd.Series([82,89,92,92,84],index = ixlist), 'Assignment 3':pd.Series([80,94,90,99,85],index = ixlist), 'Midterm':pd.Series([86,95,92,97,89],index = ixlist), \n",
    "'Final Exam':pd.Series([84,92,90,91,92],index = ixlist)}`<br>\n",
    "Turn this into a Dataframe, and create a new column to compute the 'Final Grade' with the following weighting of marks:  30% for Assignments, 30% for the Midterm, and 40% for the Final Exam.\n",
    "5. We saw that we can create new lists using for loops and the `.append()` function.  For iteratively creating lists, however, there is a much better method:  **list comprehensions**.  They have the basic format `l = [f(x) for x in iterable]`, where `f(x)` is some function on `x`. <br>\n",
    "Rewriting the example from above where we wanted the list of `2*x+1` for x between 1 and 10: <br>\n",
    "`another_list = [2*x+1 for x in range(1,11)]`.<br>\n",
    "Not only do list comprehensions make your code neater and more compact, they're also faster than using for loops.\n",
    "    1. Create a list using a comprehension which contains all of the odd numbers from $-10$ to $10$ (inclusive).\n",
    "    2. You can add conditionals to list comprehensions, just as we did with the for loop.  The syntax is<br>\n",
    "    ` l= [f(x) for x in iterable if (condition on x)]`.  Use a list comprehension to determine how many times letters from the first half of the alphabet (capital and lowercase!) appear in the following sentence:<br>\n",
    "    'To construct the notion of a Lie group in Dirac geometry, extending the definition of Poisson Lie groups, the Courant algebroids A must themselves carry a multiplicative structure.'\n",
    "    3. Write a list comprehension whose elements are lists `[x,y]`, where `x` can take on the values `[1,2,3,4]`, where `y` can take on values `[2,4,6]`, and where the `x` and `y` values are not equal.  (Hint: you can chain the `for` statements together in a comprehension).\n",
    "6. (Bonus) In financial futures trading, each instrument (e.g.: wheat, oil, USD/CAD, S&P500) has its own symbol.  For example, the S&P500 e-mini is called ES.  Each instrument also has a specific number of months it trades, each of which has its own single-letter symbol; ES trades March (H), June (M), September (U), and December (Z).  To refer to a specific contract, you need the instrument name, month code, and year.  The December 2015 S&P500 contract would be ESZ15.  Consider the following list of contracts:<br>\n",
    "`contracts = ['ESM15','ESZ14','ESU15','ESH15','ESZ15','ESU14']`<br>\n",
    "If we want them in chronological order (e.g.: 'ESU14' is first, then 'ESZ14', etc.), we can't use the sorted() function, because this will sort them alphanumerically.  Write a function which sorts this list of contracts into chronological order.\n",
    "7. (Bonus) We can approximate a *matrix* by creating a list of lists, e.g.: `[[1,2],[0,1]]` can be seen as representing the matrix $\\begin{bmatrix} 1 & 2 \\\\ 0 & 1 \\end{bmatrix}$ by considering each of the internal lists as the rows.  We can *transpose* a matrix by switching the rows and the columns (i.e.: the first row becomes the first column, etc.).  For example, the tranpose of the matrix `[[1,2],[0,1]` is `[[1,0],[2,1]`, i.e.: $\\begin{bmatrix} 1 & 0 \\\\ 2 & 1 \\end{bmatrix}$.<br>\n",
    "Write a list comprehension that gives us the transpose of a matrix.\n",
    "\n",
    "## 1."
   ]
  },
  {
   "cell_type": "code",
   "execution_count": 33,
   "metadata": {},
   "outputs": [
    {
     "data": {
      "text/plain": [
       "[5, 4, 3, 2, 1]"
      ]
     },
     "execution_count": 33,
     "metadata": {},
     "output_type": "execute_result"
    }
   ],
   "source": [
    "# Example list to test\n",
    "l_ex = [1,2,3,4,5]\n",
    "\n",
    "def list_reverse(l):\n",
    "    m = []\n",
    "    for x in range(len(l)):\n",
    "        m.append(l[len(l)-x-1])\n",
    "    return m\n",
    "\n",
    "list_reverse(l_ex)\n"
   ]
  },
  {
   "cell_type": "markdown",
   "metadata": {},
   "source": [
    "## 2."
   ]
  },
  {
   "cell_type": "code",
   "execution_count": 2,
   "metadata": {},
   "outputs": [
    {
     "data": {
      "text/plain": [
       "['lemon', 'grapefruit']"
      ]
     },
     "execution_count": 2,
     "metadata": {},
     "output_type": "execute_result"
    }
   ],
   "source": [
    "shopping_basket = ['cherry','lemon','celery','grapefruit','apricot']\n",
    "f_dict = {'citrus':['lemon','lime','grapefruit','orange','pomelo'],\n",
    "          'stone fruit':['cherry','apricot','peach'],'pome':['apple','pear','quince']}\n",
    "l = []\n",
    "for x in shopping_basket:\n",
    "    if x in f_dict['citrus']:\n",
    "        l.append(x)\n",
    "l"
   ]
  },
  {
   "cell_type": "markdown",
   "metadata": {},
   "source": [
    "## 3."
   ]
  },
  {
   "cell_type": "code",
   "execution_count": 3,
   "metadata": {},
   "outputs": [],
   "source": [
    "l = [25, 54, 27, 54, 23, 47, 23,  4, 27, 36, 26, 12, 25, 29, 41]\n",
    "def mean_calc(listname):\n",
    "    n = len(listname)\n",
    "    mn = sum(listname)/n\n",
    "    return mn\n",
    "\n",
    "# or, if they don't know about sum()\n",
    "\n",
    "def mean_calc_2(listname):\n",
    "    n = len(listname)\n",
    "    sm = 0\n",
    "    for x in listname:\n",
    "        sm = sm + x\n",
    "    return sm/n\n",
    "\n",
    "# To deal with non-numeric items, we could do an initial check in the function\n",
    "# for x in listname:\n",
    "#    if type(x)!=int or type(x)!=float:\n",
    "#        print('Error: List contains non-numeric items')\n",
    "#        return\n",
    "#    else:\n",
    "#      (the original code)"
   ]
  },
  {
   "cell_type": "code",
   "execution_count": 5,
   "metadata": {},
   "outputs": [
    {
     "data": {
      "text/plain": [
       "30.2"
      ]
     },
     "execution_count": 5,
     "metadata": {},
     "output_type": "execute_result"
    }
   ],
   "source": [
    "mean_calc_2(l)"
   ]
  },
  {
   "cell_type": "markdown",
   "metadata": {},
   "source": [
    "## 4."
   ]
  },
  {
   "cell_type": "code",
   "execution_count": 5,
   "metadata": {},
   "outputs": [
    {
     "data": {
      "text/html": [
       "<div>\n",
       "<style>\n",
       "    .dataframe thead tr:only-child th {\n",
       "        text-align: right;\n",
       "    }\n",
       "\n",
       "    .dataframe thead th {\n",
       "        text-align: left;\n",
       "    }\n",
       "\n",
       "    .dataframe tbody tr th {\n",
       "        vertical-align: top;\n",
       "    }\n",
       "</style>\n",
       "<table border=\"1\" class=\"dataframe\">\n",
       "  <thead>\n",
       "    <tr style=\"text-align: right;\">\n",
       "      <th></th>\n",
       "      <th>Assignment 1</th>\n",
       "      <th>Assignment 2</th>\n",
       "      <th>Assignment 3</th>\n",
       "      <th>Final Exam</th>\n",
       "      <th>Midterm</th>\n",
       "      <th>Final Mark</th>\n",
       "    </tr>\n",
       "  </thead>\n",
       "  <tbody>\n",
       "    <tr>\n",
       "      <th>Patrick</th>\n",
       "      <td>72</td>\n",
       "      <td>82</td>\n",
       "      <td>80</td>\n",
       "      <td>84</td>\n",
       "      <td>86</td>\n",
       "      <td>82.8</td>\n",
       "    </tr>\n",
       "    <tr>\n",
       "      <th>Lindsay</th>\n",
       "      <td>85</td>\n",
       "      <td>89</td>\n",
       "      <td>94</td>\n",
       "      <td>92</td>\n",
       "      <td>95</td>\n",
       "      <td>92.1</td>\n",
       "    </tr>\n",
       "    <tr>\n",
       "      <th>Ivan</th>\n",
       "      <td>87</td>\n",
       "      <td>92</td>\n",
       "      <td>90</td>\n",
       "      <td>90</td>\n",
       "      <td>92</td>\n",
       "      <td>90.5</td>\n",
       "    </tr>\n",
       "    <tr>\n",
       "      <th>Emily</th>\n",
       "      <td>94</td>\n",
       "      <td>92</td>\n",
       "      <td>99</td>\n",
       "      <td>91</td>\n",
       "      <td>97</td>\n",
       "      <td>94.0</td>\n",
       "    </tr>\n",
       "    <tr>\n",
       "      <th>Iva</th>\n",
       "      <td>77</td>\n",
       "      <td>84</td>\n",
       "      <td>85</td>\n",
       "      <td>92</td>\n",
       "      <td>89</td>\n",
       "      <td>88.1</td>\n",
       "    </tr>\n",
       "  </tbody>\n",
       "</table>\n",
       "</div>"
      ],
      "text/plain": [
       "         Assignment 1  Assignment 2  Assignment 3  Final Exam  Midterm  \\\n",
       "Patrick            72            82            80          84       86   \n",
       "Lindsay            85            89            94          92       95   \n",
       "Ivan               87            92            90          90       92   \n",
       "Emily              94            92            99          91       97   \n",
       "Iva                77            84            85          92       89   \n",
       "\n",
       "         Final Mark  \n",
       "Patrick        82.8  \n",
       "Lindsay        92.1  \n",
       "Ivan           90.5  \n",
       "Emily          94.0  \n",
       "Iva            88.1  "
      ]
     },
     "execution_count": 5,
     "metadata": {},
     "output_type": "execute_result"
    }
   ],
   "source": [
    "class_marks = {'Assignment 1':pd.Series([72,85,87,94,77],index = ['Patrick','Lindsay','Ivan','Emily','Iva']),\n",
    "                   'Assignment 2':pd.Series([82,89,92,92,84],index = ['Patrick','Lindsay','Ivan','Emily','Iva']),\n",
    "                   'Assignment 3':pd.Series([80,94,90,99,85],index = ['Patrick','Lindsay','Ivan','Emily','Iva']),\n",
    "                   'Midterm':pd.Series([86,95,92,97,89],index = ['Patrick','Lindsay','Ivan','Emily','Iva']),\n",
    "                   'Final Exam':pd.Series([84,92,90,91,92],index = ['Patrick','Lindsay','Ivan','Emily','Iva'])}\n",
    "\n",
    "df = pd.DataFrame(class_marks)\n",
    "df['Final Mark'] = 0.1*df['Assignment 1']+0.1*df['Assignment 2']+0.1*df['Assignment 3']+0.3*df['Midterm']+0.4*df['Final Exam']\n",
    "\n",
    "df"
   ]
  },
  {
   "cell_type": "markdown",
   "metadata": {},
   "source": [
    "## 5.a."
   ]
  },
  {
   "cell_type": "code",
   "execution_count": 4,
   "metadata": {},
   "outputs": [
    {
     "data": {
      "text/plain": [
       "[-9, -7, -5, -3, -1, 1, 3, 5, 7, 9]"
      ]
     },
     "execution_count": 4,
     "metadata": {},
     "output_type": "execute_result"
    }
   ],
   "source": [
    "#\n",
    "odds = [2*x+1 for x in range(-5,5)]\n",
    "odds"
   ]
  },
  {
   "cell_type": "markdown",
   "metadata": {},
   "source": [
    "## 5.b."
   ]
  },
  {
   "cell_type": "code",
   "execution_count": 6,
   "metadata": {},
   "outputs": [
    {
     "name": "stdout",
     "output_type": "stream",
     "text": [
      "72\n"
     ]
    }
   ],
   "source": [
    "sentence = 'To construct the notion of a Lie group in Dirac geometry, extending the definition of Poisson Lie groups, the Courant algebroids A must themselves carry a multiplicative structure.'\n",
    "alph_half = 'ABCDEFGHIJKLMabcdefghijklm'\n",
    "# Note: particularly good students can also just redefine sentence = sentence.lower()\n",
    "letters = [x for x in sentence if x in alph_half]\n",
    "print(len(letters))"
   ]
  },
  {
   "cell_type": "markdown",
   "metadata": {},
   "source": [
    "## 5.c."
   ]
  },
  {
   "cell_type": "code",
   "execution_count": 9,
   "metadata": {},
   "outputs": [
    {
     "name": "stdout",
     "output_type": "stream",
     "text": [
      "[[1, 2], [1, 4], [1, 6], [2, 4], [2, 6], [3, 2], [3, 4], [3, 6], [4, 2], [4, 6]]\n"
     ]
    }
   ],
   "source": [
    "l = [[x,y] for x in [1,2,3,4] for y in [2,4,6] if x!=y]\n",
    "print(l)"
   ]
  },
  {
   "cell_type": "markdown",
   "metadata": {},
   "source": [
    "## 6."
   ]
  },
  {
   "cell_type": "code",
   "execution_count": 12,
   "metadata": {
    "collapsed": true
   },
   "outputs": [],
   "source": [
    "# Note: there are probably many interesting ways to do this!  This is a good one to get students to explain their solutions\n",
    "# to, if they tried it.\n",
    "\n",
    "contracts = ['ESM15','ESZ14','ESU15','ESH15','ESZ15','ESU14']\n",
    "\n",
    "def contract_sort(clist):\n",
    "    for x in range(0,len(clist)):\n",
    "        clist[x] = clist[x][-2:]+clist[x][-2::-1]\n",
    "        clist.sort()\n",
    "    for x in range(0,len(clist)):\n",
    "        clist[x] = clist[x] = clist[x][:2:-1]+clist[x][0:2]\n",
    "    return clist"
   ]
  },
  {
   "cell_type": "code",
   "execution_count": 13,
   "metadata": {},
   "outputs": [
    {
     "data": {
      "text/plain": [
       "['ESU14', 'ESZ14', 'ESH15', 'ESM15', 'ESU15', 'ESZ15']"
      ]
     },
     "execution_count": 13,
     "metadata": {},
     "output_type": "execute_result"
    }
   ],
   "source": [
    "contract_sort(contracts)"
   ]
  },
  {
   "cell_type": "markdown",
   "metadata": {},
   "source": [
    "## 7."
   ]
  },
  {
   "cell_type": "code",
   "execution_count": 22,
   "metadata": {
    "collapsed": true
   },
   "outputs": [],
   "source": [
    "def transp(matrix):\n",
    "    row_len = len(matrix[0])\n",
    "    return [[row[i] for row in matrix] for i in range(row_len)]"
   ]
  },
  {
   "cell_type": "code",
   "execution_count": 23,
   "metadata": {
    "scrolled": true
   },
   "outputs": [
    {
     "data": {
      "text/plain": [
       "[[1, 0], [2, 1], [3, 2]]"
      ]
     },
     "execution_count": 23,
     "metadata": {},
     "output_type": "execute_result"
    }
   ],
   "source": [
    "# e.g.:\n",
    "m = [[1,2,3],[0,1,2]]\n",
    "transp(m)"
   ]
  },
  {
   "cell_type": "markdown",
   "metadata": {},
   "source": [
    "<div id=\"container\" style=\"position:relative;\">\n",
    "<div style=\"position:relative; float:right\"><img style=\"height:25px\"\"width: 50px\" src =\"https://drive.google.com/uc?export=view&id=14VoXUJftgptWtdNhtNYVm6cjVmEWpki1\" />\n",
    "</div>\n",
    "</div>"
   ]
  }
 ],
 "metadata": {
  "kernelspec": {
   "display_name": "Python 3",
   "language": "python",
   "name": "python3"
  },
  "language_info": {
   "codemirror_mode": {
    "name": "ipython",
    "version": 3
   },
   "file_extension": ".py",
   "mimetype": "text/x-python",
   "name": "python",
   "nbconvert_exporter": "python",
   "pygments_lexer": "ipython3",
   "version": "3.7.1"
  }
 },
 "nbformat": 4,
 "nbformat_minor": 2
}
